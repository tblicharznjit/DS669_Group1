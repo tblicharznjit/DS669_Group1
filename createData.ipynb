{
 "cells": [
  {
   "cell_type": "code",
   "execution_count": 1,
   "id": "90673b04",
   "metadata": {},
   "outputs": [],
   "source": [
    "import pandas as pd\n",
    "import numpy as np\n",
    "from databasePath import path\n",
    "import os"
   ]
  },
  {
   "cell_type": "code",
   "execution_count": 8,
   "id": "f5e5cc88",
   "metadata": {},
   "outputs": [],
   "source": [
    "import os\n",
    "\n",
    "folder_path = path\n",
    "files = os.listdir(folder_path)\n",
    "reqFiles = []\n",
    "for file in files:\n",
    "    if file.endswith('.csv'):\n",
    "        reqFiles.append(file)"
   ]
  },
  {
   "cell_type": "code",
   "execution_count": 9,
   "id": "1ea961da",
   "metadata": {},
   "outputs": [
    {
     "data": {
      "text/plain": [
       "24"
      ]
     },
     "execution_count": 9,
     "metadata": {},
     "output_type": "execute_result"
    }
   ],
   "source": [
    "len(reqFiles)"
   ]
  },
  {
   "cell_type": "code",
   "execution_count": null,
   "id": "81a430d0",
   "metadata": {},
   "outputs": [
    {
     "name": "stdout",
     "output_type": "stream",
     "text": [
      "-----------------------\n",
      "FILE :  PROCEDUREEVENTS_MV.csv\n",
      "Index(['ROW_ID', 'SUBJECT_ID', 'HADM_ID', 'ICUSTAY_ID', 'STARTTIME', 'ENDTIME',\n",
      "       'ITEMID', 'VALUE', 'VALUEUOM', 'LOCATION', 'LOCATIONCATEGORY',\n",
      "       'STORETIME', 'CGID', 'ORDERID', 'LINKORDERID', 'ORDERCATEGORYNAME',\n",
      "       'SECONDARYORDERCATEGORYNAME', 'ORDERCATEGORYDESCRIPTION', 'ISOPENBAG',\n",
      "       'CONTINUEINNEXTDEPT', 'CANCELREASON', 'STATUSDESCRIPTION',\n",
      "       'COMMENTS_EDITEDBY', 'COMMENTS_CANCELEDBY', 'COMMENTS_DATE'],\n",
      "      dtype='object')\n",
      "-----------------------\n",
      "FILE :  CALLOUT.csv\n",
      "Index(['ROW_ID', 'SUBJECT_ID', 'HADM_ID', 'SUBMIT_WARDID', 'SUBMIT_CAREUNIT',\n",
      "       'CURR_WARDID', 'CURR_CAREUNIT', 'CALLOUT_WARDID', 'CALLOUT_SERVICE',\n",
      "       'REQUEST_TELE', 'REQUEST_RESP', 'REQUEST_CDIFF', 'REQUEST_MRSA',\n",
      "       'REQUEST_VRE', 'CALLOUT_STATUS', 'CALLOUT_OUTCOME', 'DISCHARGE_WARDID',\n",
      "       'ACKNOWLEDGE_STATUS', 'CREATETIME', 'UPDATETIME', 'ACKNOWLEDGETIME',\n",
      "       'OUTCOMETIME', 'FIRSTRESERVATIONTIME', 'CURRENTRESERVATIONTIME'],\n",
      "      dtype='object')\n",
      "-----------------------\n",
      "FILE :  D_CPT.csv\n",
      "Index(['ROW_ID', 'CATEGORY', 'SECTIONRANGE', 'SECTIONHEADER',\n",
      "       'SUBSECTIONRANGE', 'SUBSECTIONHEADER', 'CODESUFFIX',\n",
      "       'MINCODEINSUBSECTION', 'MAXCODEINSUBSECTION'],\n",
      "      dtype='object')\n",
      "-----------------------\n",
      "FILE :  D_ITEMS.csv\n",
      "Index(['ROW_ID', 'ITEMID', 'LABEL', 'ABBREVIATION', 'DBSOURCE', 'LINKSTO',\n",
      "       'CATEGORY', 'UNITNAME', 'PARAM_TYPE', 'CONCEPTID'],\n",
      "      dtype='object')\n",
      "-----------------------\n",
      "FILE :  CAREGIVERS.csv\n",
      "Index(['ROW_ID', 'CGID', 'LABEL', 'DESCRIPTION'], dtype='object')\n",
      "-----------------------\n",
      "FILE :  MICROBIOLOGYEVENTS.csv\n",
      "Index(['ROW_ID', 'SUBJECT_ID', 'HADM_ID', 'CHARTDATE', 'CHARTTIME',\n",
      "       'SPEC_ITEMID', 'SPEC_TYPE_DESC', 'ORG_ITEMID', 'ORG_NAME',\n",
      "       'ISOLATE_NUM', 'AB_ITEMID', 'AB_NAME', 'DILUTION_TEXT',\n",
      "       'DILUTION_COMPARISON', 'DILUTION_VALUE', 'INTERPRETATION'],\n",
      "      dtype='object')\n",
      "-----------------------\n",
      "FILE :  LABEVENTS.csv\n",
      "Index(['ROW_ID', 'SUBJECT_ID', 'HADM_ID', 'ITEMID', 'CHARTTIME', 'VALUE',\n",
      "       'VALUENUM', 'VALUEUOM', 'FLAG'],\n",
      "      dtype='object')\n",
      "-----------------------\n",
      "FILE :  INPUTEVENTS_CV.csv\n"
     ]
    },
    {
     "name": "stderr",
     "output_type": "stream",
     "text": [
      "/var/folders/lf/wmkwxwwx63g16wbm61mzyxrm0000gn/T/ipykernel_83608/2417955282.py:4: DtypeWarning: Columns (7,9,17,20,21) have mixed types. Specify dtype option on import or set low_memory=False.\n",
      "  df = pd.read_csv(f\"{path}/{file}\")\n"
     ]
    }
   ],
   "source": [
    "for file in reqFiles:\n",
    "    print(\"-----------------------\")\n",
    "    print(\"FILE : \",file)\n",
    "    df = pd.read_csv(f\"{path}/{file}\")\n",
    "    print(df.columns)"
   ]
  },
  {
   "cell_type": "code",
   "execution_count": null,
   "id": "9b6b0e65",
   "metadata": {},
   "outputs": [],
   "source": []
  }
 ],
 "metadata": {
  "kernelspec": {
   "display_name": "Python 3",
   "language": "python",
   "name": "python3"
  },
  "language_info": {
   "codemirror_mode": {
    "name": "ipython",
    "version": 3
   },
   "file_extension": ".py",
   "mimetype": "text/x-python",
   "name": "python",
   "nbconvert_exporter": "python",
   "pygments_lexer": "ipython3",
   "version": "3.13.5"
  }
 },
 "nbformat": 4,
 "nbformat_minor": 5
}
