{
 "cells": [
  {
   "cell_type": "code",
   "execution_count": 2,
   "id": "90673b04",
   "metadata": {},
   "outputs": [],
   "source": [
    "import pandas as pd\n",
    "from databasePath import path\n",
    "import os"
   ]
  },
  {
   "cell_type": "code",
   "execution_count": 3,
   "id": "f5e5cc88",
   "metadata": {},
   "outputs": [],
   "source": [
    "folder_path = path\n",
    "files = os.listdir(folder_path)\n",
    "reqFiles = []\n",
    "for file in files:\n",
    "    if file.endswith('.csv'):\n",
    "        reqFiles.append(file)"
   ]
  },
  {
   "cell_type": "code",
   "execution_count": 4,
   "id": "1ea961da",
   "metadata": {},
   "outputs": [
    {
     "data": {
      "text/plain": [
       "24"
      ]
     },
     "execution_count": 4,
     "metadata": {},
     "output_type": "execute_result"
    }
   ],
   "source": [
    "len(reqFiles)"
   ]
  },
  {
   "cell_type": "code",
   "execution_count": 5,
   "id": "d78d906e",
   "metadata": {},
   "outputs": [],
   "source": [
    "patients = pd.read_csv(f'{path}/patients.csv')"
   ]
  },
  {
   "cell_type": "code",
   "execution_count": 7,
   "id": "990eccbf",
   "metadata": {},
   "outputs": [
    {
     "data": {
      "text/plain": [
       "(46520, 8)"
      ]
     },
     "execution_count": 7,
     "metadata": {},
     "output_type": "execute_result"
    }
   ],
   "source": [
    "patients.shape"
   ]
  },
  {
   "cell_type": "code",
   "execution_count": null,
   "id": "12181975",
   "metadata": {},
   "outputs": [],
   "source": [
    "chartEventsChunk = []\n",
    "for chunk in pd.read_csv(f'{path}/chartevents.csv', chunk_size = 10**6):\n",
    "    chartEventsChunk.append(chunk)"
   ]
  },
  {
   "cell_type": "code",
   "execution_count": null,
   "id": "81a430d0",
   "metadata": {},
   "outputs": [
    {
     "name": "stdout",
     "output_type": "stream",
     "text": [
      "-----------------------\n",
      "FILE :  PROCEDUREEVENTS_MV.csv\n",
      "Index(['ROW_ID', 'SUBJECT_ID', 'HADM_ID', 'ICUSTAY_ID', 'STARTTIME', 'ENDTIME',\n",
      "       'ITEMID', 'VALUE', 'VALUEUOM', 'LOCATION', 'LOCATIONCATEGORY',\n",
      "       'STORETIME', 'CGID', 'ORDERID', 'LINKORDERID', 'ORDERCATEGORYNAME',\n",
      "       'SECONDARYORDERCATEGORYNAME', 'ORDERCATEGORYDESCRIPTION', 'ISOPENBAG',\n",
      "       'CONTINUEINNEXTDEPT', 'CANCELREASON', 'STATUSDESCRIPTION',\n",
      "       'COMMENTS_EDITEDBY', 'COMMENTS_CANCELEDBY', 'COMMENTS_DATE'],\n",
      "      dtype='object')\n",
      "-----------------------\n",
      "FILE :  CALLOUT.csv\n",
      "Index(['ROW_ID', 'SUBJECT_ID', 'HADM_ID', 'SUBMIT_WARDID', 'SUBMIT_CAREUNIT',\n",
      "       'CURR_WARDID', 'CURR_CAREUNIT', 'CALLOUT_WARDID', 'CALLOUT_SERVICE',\n",
      "       'REQUEST_TELE', 'REQUEST_RESP', 'REQUEST_CDIFF', 'REQUEST_MRSA',\n",
      "       'REQUEST_VRE', 'CALLOUT_STATUS', 'CALLOUT_OUTCOME', 'DISCHARGE_WARDID',\n",
      "       'ACKNOWLEDGE_STATUS', 'CREATETIME', 'UPDATETIME', 'ACKNOWLEDGETIME',\n",
      "       'OUTCOMETIME', 'FIRSTRESERVATIONTIME', 'CURRENTRESERVATIONTIME'],\n",
      "      dtype='object')\n",
      "-----------------------\n",
      "FILE :  D_CPT.csv\n",
      "Index(['ROW_ID', 'CATEGORY', 'SECTIONRANGE', 'SECTIONHEADER',\n",
      "       'SUBSECTIONRANGE', 'SUBSECTIONHEADER', 'CODESUFFIX',\n",
      "       'MINCODEINSUBSECTION', 'MAXCODEINSUBSECTION'],\n",
      "      dtype='object')\n",
      "-----------------------\n",
      "FILE :  D_ITEMS.csv\n",
      "Index(['ROW_ID', 'ITEMID', 'LABEL', 'ABBREVIATION', 'DBSOURCE', 'LINKSTO',\n",
      "       'CATEGORY', 'UNITNAME', 'PARAM_TYPE', 'CONCEPTID'],\n",
      "      dtype='object')\n",
      "-----------------------\n",
      "FILE :  CAREGIVERS.csv\n",
      "Index(['ROW_ID', 'CGID', 'LABEL', 'DESCRIPTION'], dtype='object')\n",
      "-----------------------\n",
      "FILE :  MICROBIOLOGYEVENTS.csv\n",
      "Index(['ROW_ID', 'SUBJECT_ID', 'HADM_ID', 'CHARTDATE', 'CHARTTIME',\n",
      "       'SPEC_ITEMID', 'SPEC_TYPE_DESC', 'ORG_ITEMID', 'ORG_NAME',\n",
      "       'ISOLATE_NUM', 'AB_ITEMID', 'AB_NAME', 'DILUTION_TEXT',\n",
      "       'DILUTION_COMPARISON', 'DILUTION_VALUE', 'INTERPRETATION'],\n",
      "      dtype='object')\n",
      "-----------------------\n",
      "FILE :  LABEVENTS.csv\n",
      "Index(['ROW_ID', 'SUBJECT_ID', 'HADM_ID', 'ITEMID', 'CHARTTIME', 'VALUE',\n",
      "       'VALUENUM', 'VALUEUOM', 'FLAG'],\n",
      "      dtype='object')\n",
      "-----------------------\n",
      "FILE :  INPUTEVENTS_CV.csv\n"
     ]
    },
    {
     "name": "stderr",
     "output_type": "stream",
     "text": [
      "/var/folders/lf/wmkwxwwx63g16wbm61mzyxrm0000gn/T/ipykernel_86890/1221411260.py:6: DtypeWarning: Columns (7,9,17,20,21) have mixed types. Specify dtype option on import or set low_memory=False.\n",
      "  df = pd.read_csv(f\"{path}/{file}\")\n"
     ]
    },
    {
     "name": "stdout",
     "output_type": "stream",
     "text": [
      "Index(['ROW_ID', 'SUBJECT_ID', 'HADM_ID', 'ICUSTAY_ID', 'CHARTTIME', 'ITEMID',\n",
      "       'AMOUNT', 'AMOUNTUOM', 'RATE', 'RATEUOM', 'STORETIME', 'CGID',\n",
      "       'ORDERID', 'LINKORDERID', 'STOPPED', 'NEWBOTTLE', 'ORIGINALAMOUNT',\n",
      "       'ORIGINALAMOUNTUOM', 'ORIGINALROUTE', 'ORIGINALRATE', 'ORIGINALRATEUOM',\n",
      "       'ORIGINALSITE'],\n",
      "      dtype='object')\n",
      "-----------------------\n",
      "FILE :  ADMISSIONS.csv\n",
      "Index(['ROW_ID', 'SUBJECT_ID', 'HADM_ID', 'ADMITTIME', 'DISCHTIME',\n",
      "       'DEATHTIME', 'ADMISSION_TYPE', 'ADMISSION_LOCATION',\n",
      "       'DISCHARGE_LOCATION', 'INSURANCE', 'LANGUAGE', 'RELIGION',\n",
      "       'MARITAL_STATUS', 'ETHNICITY', 'EDREGTIME', 'EDOUTTIME', 'DIAGNOSIS',\n",
      "       'HOSPITAL_EXPIRE_FLAG', 'HAS_CHARTEVENTS_DATA'],\n",
      "      dtype='object')\n",
      "-----------------------\n",
      "FILE :  D_LABITEMS.csv\n",
      "Index(['ROW_ID', 'ITEMID', 'LABEL', 'FLUID', 'CATEGORY', 'LOINC_CODE'], dtype='object')\n",
      "-----------------------\n",
      "FILE :  MICROBIOLOGYEVENTS 2.csv\n",
      "Index(['ROW_ID', 'SUBJECT_ID', 'HADM_ID', 'CHARTDATE', 'CHARTTIME',\n",
      "       'SPEC_ITEMID', 'SPEC_TYPE_DESC', 'ORG_ITEMID', 'ORG_NAME',\n",
      "       'ISOLATE_NUM', 'AB_ITEMID', 'AB_NAME', 'DILUTION_TEXT',\n",
      "       'DILUTION_COMPARISON', 'DILUTION_VALUE', 'INTERPRETATION'],\n",
      "      dtype='object')\n",
      "-----------------------\n",
      "FILE :  DATETIMEEVENTS.csv\n"
     ]
    },
    {
     "name": "stderr",
     "output_type": "stream",
     "text": [
      "/var/folders/lf/wmkwxwwx63g16wbm61mzyxrm0000gn/T/ipykernel_86890/1221411260.py:6: DtypeWarning: Columns (13) have mixed types. Specify dtype option on import or set low_memory=False.\n",
      "  df = pd.read_csv(f\"{path}/{file}\")\n"
     ]
    },
    {
     "name": "stdout",
     "output_type": "stream",
     "text": [
      "Index(['ROW_ID', 'SUBJECT_ID', 'HADM_ID', 'ICUSTAY_ID', 'ITEMID', 'CHARTTIME',\n",
      "       'STORETIME', 'CGID', 'VALUE', 'VALUEUOM', 'WARNING', 'ERROR',\n",
      "       'RESULTSTATUS', 'STOPPED'],\n",
      "      dtype='object')\n",
      "-----------------------\n",
      "FILE :  PRESCRIPTIONS.csv\n"
     ]
    },
    {
     "name": "stderr",
     "output_type": "stream",
     "text": [
      "/var/folders/lf/wmkwxwwx63g16wbm61mzyxrm0000gn/T/ipykernel_86890/1221411260.py:6: DtypeWarning: Columns (11) have mixed types. Specify dtype option on import or set low_memory=False.\n",
      "  df = pd.read_csv(f\"{path}/{file}\")\n"
     ]
    },
    {
     "name": "stdout",
     "output_type": "stream",
     "text": [
      "Index(['ROW_ID', 'SUBJECT_ID', 'HADM_ID', 'ICUSTAY_ID', 'STARTDATE', 'ENDDATE',\n",
      "       'DRUG_TYPE', 'DRUG', 'DRUG_NAME_POE', 'DRUG_NAME_GENERIC',\n",
      "       'FORMULARY_DRUG_CD', 'GSN', 'NDC', 'PROD_STRENGTH', 'DOSE_VAL_RX',\n",
      "       'DOSE_UNIT_RX', 'FORM_VAL_DISP', 'FORM_UNIT_DISP', 'ROUTE'],\n",
      "      dtype='object')\n",
      "-----------------------\n",
      "FILE :  NOTEEVENTS.csv\n"
     ]
    },
    {
     "name": "stderr",
     "output_type": "stream",
     "text": [
      "/var/folders/lf/wmkwxwwx63g16wbm61mzyxrm0000gn/T/ipykernel_86890/1221411260.py:6: DtypeWarning: Columns (4,5) have mixed types. Specify dtype option on import or set low_memory=False.\n",
      "  df = pd.read_csv(f\"{path}/{file}\")\n"
     ]
    },
    {
     "name": "stdout",
     "output_type": "stream",
     "text": [
      "Index(['ROW_ID', 'SUBJECT_ID', 'HADM_ID', 'CHARTDATE', 'CHARTTIME',\n",
      "       'STORETIME', 'CATEGORY', 'DESCRIPTION', 'CGID', 'ISERROR', 'TEXT'],\n",
      "      dtype='object')\n",
      "-----------------------\n",
      "FILE :  CHARTEVENTS.csv\n"
     ]
    },
    {
     "name": "stderr",
     "output_type": "stream",
     "text": [
      "/var/folders/lf/wmkwxwwx63g16wbm61mzyxrm0000gn/T/ipykernel_86890/1221411260.py:6: DtypeWarning: Columns (8,10,13,14) have mixed types. Specify dtype option on import or set low_memory=False.\n",
      "  df = pd.read_csv(f\"{path}/{file}\")\n"
     ]
    },
    {
     "ename": "",
     "evalue": "",
     "output_type": "error",
     "traceback": [
      "\u001b[1;31mThe Kernel crashed while executing code in the current cell or a previous cell. \n",
      "\u001b[1;31mPlease review the code in the cell(s) to identify a possible cause of the failure. \n",
      "\u001b[1;31mClick <a href='https://aka.ms/vscodeJupyterKernelCrash'>here</a> for more info. \n",
      "\u001b[1;31mView Jupyter <a href='command:jupyter.viewOutput'>log</a> for further details."
     ]
    }
   ],
   "source": [
    "dfs = {}\n",
    "dfCols = []\n",
    "chunk_size = 10**6 \n",
    "\n",
    "for file in reqFiles:\n",
    "    print(\"-----------------------\")\n",
    "    print(\"FILE : \",file)\n",
    "    df = pd.read_csv(f\"{path}/{file}\")\n",
    "    dfs[file] = df\n",
    "    print(df.columns)\n",
    "    dfCols.append(df.columns)"
   ]
  },
  {
   "cell_type": "code",
   "execution_count": null,
   "id": "9b6b0e65",
   "metadata": {},
   "outputs": [],
   "source": [
    "allFeatures = [\n",
    "    \"BUN\", \"Age\", \"SOFA\", \"Platelets\", \"WBC\", \"MBP\", \"SBP\", \"SpO2\", \"Shock Index\", \"Weight\", \"GCS\", \"Creatinine\", \n",
    "    \"Total Ouput\", \"HCO3\", \"PTT\", \"RR\", \"Glucose\", \"Temperature\", \"PT\", \"HR\", \"Sodium\", \"PH\",\"Hb\", \"DBP\", \"CB\",\n",
    "    \"PaO2/FiO2\", \"Calcium\", \"CO2\", \"Total Input\", \"AL\", \"SGOT\", \"TB\", \"Chloride\", \"Ionised_Ca\", \"PaO2\", \"PaCO2\", \"INR\"\n",
    "]"
   ]
  }
 ],
 "metadata": {
  "kernelspec": {
   "display_name": "Python 3",
   "language": "python",
   "name": "python3"
  },
  "language_info": {
   "codemirror_mode": {
    "name": "ipython",
    "version": 3
   },
   "file_extension": ".py",
   "mimetype": "text/x-python",
   "name": "python",
   "nbconvert_exporter": "python",
   "pygments_lexer": "ipython3",
   "version": "3.13.5"
  }
 },
 "nbformat": 4,
 "nbformat_minor": 5
}
