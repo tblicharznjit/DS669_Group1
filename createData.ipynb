{
 "cells": [
  {
   "cell_type": "code",
   "execution_count": null,
   "id": "90673b04",
   "metadata": {},
   "outputs": [],
   "source": [
    "import pandas as pd\n",
    "from databasePath import path\n",
    "import os\n",
    "from datetime import timedelta\n",
    "import numpy as np"
   ]
  },
  {
   "cell_type": "code",
   "execution_count": 9,
   "id": "f5e5cc88",
   "metadata": {},
   "outputs": [],
   "source": [
    "folder_path = path\n",
    "files = os.listdir(folder_path)\n",
    "reqFiles = []\n",
    "for file in files:\n",
    "    if file.endswith('.csv'):\n",
    "        reqFiles.append(file)"
   ]
  },
  {
   "cell_type": "code",
   "execution_count": 10,
   "id": "1ea961da",
   "metadata": {},
   "outputs": [
    {
     "data": {
      "text/plain": [
       "26"
      ]
     },
     "execution_count": 10,
     "metadata": {},
     "output_type": "execute_result"
    }
   ],
   "source": [
    "len(reqFiles)"
   ]
  },
  {
   "cell_type": "code",
   "execution_count": 11,
   "id": "8404286c",
   "metadata": {},
   "outputs": [
    {
     "data": {
      "text/plain": [
       "['PROCEDUREEVENTS_MV.csv',\n",
       " 'CALLOUT.csv',\n",
       " 'D_CPT.csv',\n",
       " 'D_ITEMS.csv',\n",
       " 'CAREGIVERS.csv',\n",
       " 'MICROBIOLOGYEVENTS.csv',\n",
       " 'LABEVENTS.csv',\n",
       " 'INPUTEVENTS_CV.csv',\n",
       " 'ADMISSIONS.csv',\n",
       " 'D_LABITEMS.csv',\n",
       " 'DATETIMEEVENTS.csv',\n",
       " 'PRESCRIPTIONS.csv',\n",
       " 'PROCEDURES_ICD.csv',\n",
       " 'NOTEEVENTS.csv',\n",
       " 'CHARTEVENTS.csv',\n",
       " 'TRANSFERS.csv',\n",
       " 'DIAGNOSES_ICD.csv',\n",
       " 'SERVICES.csv',\n",
       " 'DRGCODES.csv',\n",
       " 'OUTPUTEVENTS.csv',\n",
       " 'PATIENTS.csv',\n",
       " 'D_ICD_DIAGNOSES.csv',\n",
       " 'ICUSTAYS.csv',\n",
       " 'INPUTEVENTS_MV.csv',\n",
       " 'D_ICD_PROCEDURES.csv',\n",
       " 'CPTEVENTS.csv']"
      ]
     },
     "execution_count": 11,
     "metadata": {},
     "output_type": "execute_result"
    }
   ],
   "source": [
    "reqFiles"
   ]
  },
  {
   "cell_type": "code",
   "execution_count": 12,
   "id": "d78d906e",
   "metadata": {},
   "outputs": [],
   "source": [
    "patients = pd.read_csv(f'{path}/patients.csv')"
   ]
  },
  {
   "cell_type": "code",
   "execution_count": 13,
   "id": "990eccbf",
   "metadata": {},
   "outputs": [
    {
     "name": "stdout",
     "output_type": "stream",
     "text": [
      "(46520, 8)\n",
      "Index(['ROW_ID', 'SUBJECT_ID', 'GENDER', 'DOB', 'DOD', 'DOD_HOSP', 'DOD_SSN',\n",
      "       'EXPIRE_FLAG'],\n",
      "      dtype='object')\n"
     ]
    }
   ],
   "source": [
    "print(patients.shape)\n",
    "print(patients.columns)"
   ]
  },
  {
   "cell_type": "code",
   "execution_count": 14,
   "id": "12181975",
   "metadata": {},
   "outputs": [
    {
     "name": "stderr",
     "output_type": "stream",
     "text": [
      "/var/folders/lf/wmkwxwwx63g16wbm61mzyxrm0000gn/T/ipykernel_32852/143005368.py:2: DtypeWarning: Columns (13) have mixed types. Specify dtype option on import or set low_memory=False.\n",
      "  for chunk in pd.read_csv(f'{path}/chartevents.csv', chunksize = 10**6):\n",
      "/var/folders/lf/wmkwxwwx63g16wbm61mzyxrm0000gn/T/ipykernel_32852/143005368.py:2: DtypeWarning: Columns (8,10,14) have mixed types. Specify dtype option on import or set low_memory=False.\n",
      "  for chunk in pd.read_csv(f'{path}/chartevents.csv', chunksize = 10**6):\n",
      "/var/folders/lf/wmkwxwwx63g16wbm61mzyxrm0000gn/T/ipykernel_32852/143005368.py:2: DtypeWarning: Columns (8) have mixed types. Specify dtype option on import or set low_memory=False.\n",
      "  for chunk in pd.read_csv(f'{path}/chartevents.csv', chunksize = 10**6):\n"
     ]
    }
   ],
   "source": [
    "chartEventsChunk = []\n",
    "for chunk in pd.read_csv(f'{path}/chartevents.csv', chunksize = 10**6):\n",
    "    chartEventsChunk.append(chunk)\n",
    "\n",
    "chartEvents = pd.concat(chartEventsChunk)"
   ]
  },
  {
   "cell_type": "code",
   "execution_count": 15,
   "id": "fc79871b",
   "metadata": {},
   "outputs": [
    {
     "data": {
      "text/plain": [
       "Index(['ROW_ID', 'SUBJECT_ID', 'HADM_ID', 'ICUSTAY_ID', 'ITEMID', 'CHARTTIME',\n",
       "       'STORETIME', 'CGID', 'VALUE', 'VALUENUM', 'VALUEUOM', 'WARNING',\n",
       "       'ERROR', 'RESULTSTATUS', 'STOPPED'],\n",
       "      dtype='object')"
      ]
     },
     "execution_count": 15,
     "metadata": {},
     "output_type": "execute_result"
    }
   ],
   "source": [
    "chartEvents.columns"
   ]
  },
  {
   "cell_type": "code",
   "execution_count": 16,
   "id": "7e5b1288",
   "metadata": {},
   "outputs": [
    {
     "data": {
      "text/html": [
       "<div>\n",
       "<style scoped>\n",
       "    .dataframe tbody tr th:only-of-type {\n",
       "        vertical-align: middle;\n",
       "    }\n",
       "\n",
       "    .dataframe tbody tr th {\n",
       "        vertical-align: top;\n",
       "    }\n",
       "\n",
       "    .dataframe thead th {\n",
       "        text-align: right;\n",
       "    }\n",
       "</style>\n",
       "<table border=\"1\" class=\"dataframe\">\n",
       "  <thead>\n",
       "    <tr style=\"text-align: right;\">\n",
       "      <th></th>\n",
       "      <th>ROW_ID</th>\n",
       "      <th>SUBJECT_ID</th>\n",
       "      <th>HADM_ID</th>\n",
       "      <th>ICUSTAY_ID</th>\n",
       "      <th>ITEMID</th>\n",
       "      <th>CHARTTIME</th>\n",
       "      <th>STORETIME</th>\n",
       "      <th>CGID</th>\n",
       "      <th>VALUE</th>\n",
       "      <th>VALUENUM</th>\n",
       "      <th>VALUEUOM</th>\n",
       "      <th>WARNING</th>\n",
       "      <th>ERROR</th>\n",
       "      <th>RESULTSTATUS</th>\n",
       "      <th>STOPPED</th>\n",
       "    </tr>\n",
       "  </thead>\n",
       "  <tbody>\n",
       "    <tr>\n",
       "      <th>0</th>\n",
       "      <td>788</td>\n",
       "      <td>36</td>\n",
       "      <td>165660</td>\n",
       "      <td>241249.0</td>\n",
       "      <td>223834</td>\n",
       "      <td>2134-05-12 12:00:00</td>\n",
       "      <td>2134-05-12 13:56:00</td>\n",
       "      <td>17525.0</td>\n",
       "      <td>15.0</td>\n",
       "      <td>15.00</td>\n",
       "      <td>L/min</td>\n",
       "      <td>0.0</td>\n",
       "      <td>0.0</td>\n",
       "      <td>NaN</td>\n",
       "      <td>NaN</td>\n",
       "    </tr>\n",
       "    <tr>\n",
       "      <th>1</th>\n",
       "      <td>789</td>\n",
       "      <td>36</td>\n",
       "      <td>165660</td>\n",
       "      <td>241249.0</td>\n",
       "      <td>223835</td>\n",
       "      <td>2134-05-12 12:00:00</td>\n",
       "      <td>2134-05-12 13:56:00</td>\n",
       "      <td>17525.0</td>\n",
       "      <td>100.0</td>\n",
       "      <td>100.00</td>\n",
       "      <td>NaN</td>\n",
       "      <td>0.0</td>\n",
       "      <td>0.0</td>\n",
       "      <td>NaN</td>\n",
       "      <td>NaN</td>\n",
       "    </tr>\n",
       "    <tr>\n",
       "      <th>2</th>\n",
       "      <td>790</td>\n",
       "      <td>36</td>\n",
       "      <td>165660</td>\n",
       "      <td>241249.0</td>\n",
       "      <td>224328</td>\n",
       "      <td>2134-05-12 12:00:00</td>\n",
       "      <td>2134-05-12 12:18:00</td>\n",
       "      <td>20823.0</td>\n",
       "      <td>0.37</td>\n",
       "      <td>0.37</td>\n",
       "      <td>NaN</td>\n",
       "      <td>0.0</td>\n",
       "      <td>0.0</td>\n",
       "      <td>NaN</td>\n",
       "      <td>NaN</td>\n",
       "    </tr>\n",
       "    <tr>\n",
       "      <th>3</th>\n",
       "      <td>791</td>\n",
       "      <td>36</td>\n",
       "      <td>165660</td>\n",
       "      <td>241249.0</td>\n",
       "      <td>224329</td>\n",
       "      <td>2134-05-12 12:00:00</td>\n",
       "      <td>2134-05-12 12:19:00</td>\n",
       "      <td>20823.0</td>\n",
       "      <td>6.0</td>\n",
       "      <td>6.00</td>\n",
       "      <td>min</td>\n",
       "      <td>0.0</td>\n",
       "      <td>0.0</td>\n",
       "      <td>NaN</td>\n",
       "      <td>NaN</td>\n",
       "    </tr>\n",
       "    <tr>\n",
       "      <th>4</th>\n",
       "      <td>792</td>\n",
       "      <td>36</td>\n",
       "      <td>165660</td>\n",
       "      <td>241249.0</td>\n",
       "      <td>224330</td>\n",
       "      <td>2134-05-12 12:00:00</td>\n",
       "      <td>2134-05-12 12:19:00</td>\n",
       "      <td>20823.0</td>\n",
       "      <td>2.5</td>\n",
       "      <td>2.50</td>\n",
       "      <td>NaN</td>\n",
       "      <td>0.0</td>\n",
       "      <td>0.0</td>\n",
       "      <td>NaN</td>\n",
       "      <td>NaN</td>\n",
       "    </tr>\n",
       "  </tbody>\n",
       "</table>\n",
       "</div>"
      ],
      "text/plain": [
       "   ROW_ID  SUBJECT_ID  HADM_ID  ICUSTAY_ID  ITEMID            CHARTTIME  \\\n",
       "0     788          36   165660    241249.0  223834  2134-05-12 12:00:00   \n",
       "1     789          36   165660    241249.0  223835  2134-05-12 12:00:00   \n",
       "2     790          36   165660    241249.0  224328  2134-05-12 12:00:00   \n",
       "3     791          36   165660    241249.0  224329  2134-05-12 12:00:00   \n",
       "4     792          36   165660    241249.0  224330  2134-05-12 12:00:00   \n",
       "\n",
       "             STORETIME     CGID  VALUE  VALUENUM VALUEUOM  WARNING  ERROR  \\\n",
       "0  2134-05-12 13:56:00  17525.0   15.0     15.00    L/min      0.0    0.0   \n",
       "1  2134-05-12 13:56:00  17525.0  100.0    100.00      NaN      0.0    0.0   \n",
       "2  2134-05-12 12:18:00  20823.0   0.37      0.37      NaN      0.0    0.0   \n",
       "3  2134-05-12 12:19:00  20823.0    6.0      6.00      min      0.0    0.0   \n",
       "4  2134-05-12 12:19:00  20823.0    2.5      2.50      NaN      0.0    0.0   \n",
       "\n",
       "  RESULTSTATUS STOPPED  \n",
       "0          NaN     NaN  \n",
       "1          NaN     NaN  \n",
       "2          NaN     NaN  \n",
       "3          NaN     NaN  \n",
       "4          NaN     NaN  "
      ]
     },
     "execution_count": 16,
     "metadata": {},
     "output_type": "execute_result"
    }
   ],
   "source": [
    "chartEvents.head(5)"
   ]
  },
  {
   "cell_type": "code",
   "execution_count": 17,
   "id": "81a430d0",
   "metadata": {},
   "outputs": [
    {
     "name": "stdout",
     "output_type": "stream",
     "text": [
      "-----------------------\n",
      "FILE :  PROCEDUREEVENTS_MV.csv\n"
     ]
    },
    {
     "name": "stdout",
     "output_type": "stream",
     "text": [
      "-----------------------\n",
      "FILE :  CALLOUT.csv\n",
      "-----------------------\n",
      "FILE :  D_CPT.csv\n",
      "-----------------------\n",
      "FILE :  D_ITEMS.csv\n",
      "-----------------------\n",
      "FILE :  CAREGIVERS.csv\n",
      "-----------------------\n",
      "FILE :  MICROBIOLOGYEVENTS.csv\n",
      "-----------------------\n",
      "FILE :  LABEVENTS.csv\n",
      "-----------------------\n",
      "FILE :  INPUTEVENTS_CV.csv\n"
     ]
    },
    {
     "name": "stderr",
     "output_type": "stream",
     "text": [
      "/var/folders/lf/wmkwxwwx63g16wbm61mzyxrm0000gn/T/ipykernel_32852/3134157820.py:10: DtypeWarning: Columns (7,9,17,20,21) have mixed types. Specify dtype option on import or set low_memory=False.\n",
      "  df = pd.read_csv(f\"{path}/{file}\")\n"
     ]
    },
    {
     "name": "stdout",
     "output_type": "stream",
     "text": [
      "-----------------------\n",
      "FILE :  ADMISSIONS.csv\n",
      "-----------------------\n",
      "FILE :  D_LABITEMS.csv\n",
      "-----------------------\n",
      "FILE :  DATETIMEEVENTS.csv\n"
     ]
    },
    {
     "name": "stderr",
     "output_type": "stream",
     "text": [
      "/var/folders/lf/wmkwxwwx63g16wbm61mzyxrm0000gn/T/ipykernel_32852/3134157820.py:10: DtypeWarning: Columns (13) have mixed types. Specify dtype option on import or set low_memory=False.\n",
      "  df = pd.read_csv(f\"{path}/{file}\")\n"
     ]
    },
    {
     "name": "stdout",
     "output_type": "stream",
     "text": [
      "-----------------------\n",
      "FILE :  PRESCRIPTIONS.csv\n"
     ]
    },
    {
     "name": "stderr",
     "output_type": "stream",
     "text": [
      "/var/folders/lf/wmkwxwwx63g16wbm61mzyxrm0000gn/T/ipykernel_32852/3134157820.py:10: DtypeWarning: Columns (11) have mixed types. Specify dtype option on import or set low_memory=False.\n",
      "  df = pd.read_csv(f\"{path}/{file}\")\n"
     ]
    },
    {
     "name": "stdout",
     "output_type": "stream",
     "text": [
      "-----------------------\n",
      "FILE :  PROCEDURES_ICD.csv\n",
      "-----------------------\n",
      "FILE :  NOTEEVENTS.csv\n"
     ]
    },
    {
     "name": "stderr",
     "output_type": "stream",
     "text": [
      "/var/folders/lf/wmkwxwwx63g16wbm61mzyxrm0000gn/T/ipykernel_32852/3134157820.py:10: DtypeWarning: Columns (4,5) have mixed types. Specify dtype option on import or set low_memory=False.\n",
      "  df = pd.read_csv(f\"{path}/{file}\")\n"
     ]
    },
    {
     "name": "stdout",
     "output_type": "stream",
     "text": [
      "-----------------------\n",
      "FILE :  TRANSFERS.csv\n",
      "-----------------------\n",
      "FILE :  DIAGNOSES_ICD.csv\n",
      "-----------------------\n",
      "FILE :  SERVICES.csv\n",
      "-----------------------\n",
      "FILE :  DRGCODES.csv\n",
      "-----------------------\n",
      "FILE :  OUTPUTEVENTS.csv\n",
      "-----------------------\n",
      "FILE :  D_ICD_DIAGNOSES.csv\n",
      "-----------------------\n",
      "FILE :  ICUSTAYS.csv\n",
      "-----------------------\n",
      "FILE :  INPUTEVENTS_MV.csv\n",
      "-----------------------\n",
      "FILE :  D_ICD_PROCEDURES.csv\n",
      "-----------------------\n",
      "FILE :  CPTEVENTS.csv\n"
     ]
    },
    {
     "name": "stderr",
     "output_type": "stream",
     "text": [
      "/var/folders/lf/wmkwxwwx63g16wbm61mzyxrm0000gn/T/ipykernel_32852/3134157820.py:10: DtypeWarning: Columns (4,5,7,11) have mixed types. Specify dtype option on import or set low_memory=False.\n",
      "  df = pd.read_csv(f\"{path}/{file}\")\n"
     ]
    }
   ],
   "source": [
    "dfs = {}\n",
    "dfCols = []\n",
    "\n",
    "reqFiles.remove('PATIENTS.csv')\n",
    "reqFiles.remove('CHARTEVENTS.csv')\n",
    "\n",
    "for file in reqFiles:\n",
    "    print(\"-----------------------\")\n",
    "    print(\"FILE : \",file)\n",
    "    df = pd.read_csv(f\"{path}/{file}\")\n",
    "    dfs[file] = df"
   ]
  },
  {
   "cell_type": "markdown",
   "id": "c127a929",
   "metadata": {},
   "source": [
    "### Working with Admissions.csv"
   ]
  },
  {
   "cell_type": "code",
   "execution_count": 18,
   "id": "d5450d31",
   "metadata": {},
   "outputs": [
    {
     "name": "stdout",
     "output_type": "stream",
     "text": [
      "Index(['ROW_ID', 'SUBJECT_ID', 'HADM_ID', 'ADMITTIME', 'DISCHTIME',\n",
      "       'DEATHTIME', 'ADMISSION_TYPE', 'ADMISSION_LOCATION',\n",
      "       'DISCHARGE_LOCATION', 'INSURANCE', 'LANGUAGE', 'RELIGION',\n",
      "       'MARITAL_STATUS', 'ETHNICITY', 'EDREGTIME', 'EDOUTTIME', 'DIAGNOSIS',\n",
      "       'HOSPITAL_EXPIRE_FLAG', 'HAS_CHARTEVENTS_DATA', 'ROW_ID_PAT', 'GENDER',\n",
      "       'DOB', 'DOD', 'DOD_HOSP', 'DOD_SSN', 'EXPIRE_FLAG'],\n",
      "      dtype='object')\n"
     ]
    }
   ],
   "source": [
    "admissions = dfs['ADMISSIONS.csv'].merge(patients, on='SUBJECT_ID', suffixes=('', '_PAT'), how='inner')\n",
    "print(admissions.columns)"
   ]
  },
  {
   "cell_type": "code",
   "execution_count": 19,
   "id": "5f10cc3d",
   "metadata": {},
   "outputs": [
    {
     "name": "stdout",
     "output_type": "stream",
     "text": [
      "<class 'pandas.core.frame.DataFrame'>\n",
      "RangeIndex: 58976 entries, 0 to 58975\n",
      "Data columns (total 26 columns):\n",
      " #   Column                Non-Null Count  Dtype \n",
      "---  ------                --------------  ----- \n",
      " 0   ROW_ID                58976 non-null  int64 \n",
      " 1   SUBJECT_ID            58976 non-null  int64 \n",
      " 2   HADM_ID               58976 non-null  int64 \n",
      " 3   ADMITTIME             58976 non-null  object\n",
      " 4   DISCHTIME             58976 non-null  object\n",
      " 5   DEATHTIME             5854 non-null   object\n",
      " 6   ADMISSION_TYPE        58976 non-null  object\n",
      " 7   ADMISSION_LOCATION    58976 non-null  object\n",
      " 8   DISCHARGE_LOCATION    58976 non-null  object\n",
      " 9   INSURANCE             58976 non-null  object\n",
      " 10  LANGUAGE              33644 non-null  object\n",
      " 11  RELIGION              58518 non-null  object\n",
      " 12  MARITAL_STATUS        48848 non-null  object\n",
      " 13  ETHNICITY             58976 non-null  object\n",
      " 14  EDREGTIME             30877 non-null  object\n",
      " 15  EDOUTTIME             30877 non-null  object\n",
      " 16  DIAGNOSIS             58951 non-null  object\n",
      " 17  HOSPITAL_EXPIRE_FLAG  58976 non-null  int64 \n",
      " 18  HAS_CHARTEVENTS_DATA  58976 non-null  int64 \n",
      " 19  ROW_ID_PAT            58976 non-null  int64 \n",
      " 20  GENDER                58976 non-null  object\n",
      " 21  DOB                   58976 non-null  object\n",
      " 22  DOD                   22586 non-null  object\n",
      " 23  DOD_HOSP              15071 non-null  object\n",
      " 24  DOD_SSN               19069 non-null  object\n",
      " 25  EXPIRE_FLAG           58976 non-null  int64 \n",
      "dtypes: int64(7), object(19)\n",
      "memory usage: 11.7+ MB\n"
     ]
    }
   ],
   "source": [
    "admissions.info()"
   ]
  },
  {
   "cell_type": "code",
   "execution_count": 20,
   "id": "d396c3ad",
   "metadata": {},
   "outputs": [
    {
     "name": "stdout",
     "output_type": "stream",
     "text": [
      "ROW_ID                      0\n",
      "SUBJECT_ID                  0\n",
      "HADM_ID                     0\n",
      "ADMITTIME                   0\n",
      "DISCHTIME                   0\n",
      "DEATHTIME               53122\n",
      "ADMISSION_TYPE              0\n",
      "ADMISSION_LOCATION          0\n",
      "DISCHARGE_LOCATION          0\n",
      "INSURANCE                   0\n",
      "LANGUAGE                25332\n",
      "RELIGION                  458\n",
      "MARITAL_STATUS          10128\n",
      "ETHNICITY                   0\n",
      "EDREGTIME               28099\n",
      "EDOUTTIME               28099\n",
      "DIAGNOSIS                  25\n",
      "HOSPITAL_EXPIRE_FLAG        0\n",
      "HAS_CHARTEVENTS_DATA        0\n",
      "ROW_ID_PAT                  0\n",
      "GENDER                      0\n",
      "DOB                         0\n",
      "DOD                     36390\n",
      "DOD_HOSP                43905\n",
      "DOD_SSN                 39907\n",
      "EXPIRE_FLAG                 0\n",
      "dtype: int64\n"
     ]
    }
   ],
   "source": [
    "print(admissions.isna().sum())"
   ]
  },
  {
   "cell_type": "code",
   "execution_count": 21,
   "id": "7850f3ae",
   "metadata": {},
   "outputs": [
    {
     "name": "stdout",
     "output_type": "stream",
     "text": [
      "0    2196-04-09 12:26:00\n",
      "1    2153-09-03 07:15:00\n",
      "2    2157-10-18 19:34:00\n",
      "3    2139-06-06 16:14:00\n",
      "4    2160-11-02 02:06:00\n",
      "Name: ADMITTIME, dtype: object\n",
      "0    2131-05-07 00:00:00\n",
      "1    2082-07-17 00:00:00\n",
      "2    2082-07-17 00:00:00\n",
      "3    2100-05-31 00:00:00\n",
      "4    2101-11-21 00:00:00\n",
      "Name: DOB, dtype: object\n"
     ]
    }
   ],
   "source": [
    "print(admissions['ADMITTIME'].head(5))\n",
    "print(admissions['DOB'].head(5))"
   ]
  },
  {
   "cell_type": "markdown",
   "id": "e8cff830",
   "metadata": {},
   "source": [
    "### Calculating Age"
   ]
  },
  {
   "cell_type": "code",
   "execution_count": 22,
   "id": "9cb66287",
   "metadata": {},
   "outputs": [],
   "source": [
    "admissions['ADMITTIME'] = pd.to_datetime(admissions['ADMITTIME'])\n",
    "admissions['DOB'] = pd.to_datetime(admissions['DOB'])\n",
    "admissions['admission_AGE'] = admissions.apply(lambda x: (x['ADMITTIME'].to_pydatetime() - x['DOB'].to_pydatetime()).days // 365.242, axis = 1)"
   ]
  },
  {
   "cell_type": "markdown",
   "id": "6dc5ca04",
   "metadata": {},
   "source": [
    "### Filtering adults"
   ]
  },
  {
   "cell_type": "code",
   "execution_count": 23,
   "id": "89265177",
   "metadata": {},
   "outputs": [],
   "source": [
    "admissions = admissions[admissions['admission_AGE'] >=18]"
   ]
  },
  {
   "cell_type": "code",
   "execution_count": 24,
   "id": "58075f9b",
   "metadata": {},
   "outputs": [
    {
     "data": {
      "text/html": [
       "<div>\n",
       "<style scoped>\n",
       "    .dataframe tbody tr th:only-of-type {\n",
       "        vertical-align: middle;\n",
       "    }\n",
       "\n",
       "    .dataframe tbody tr th {\n",
       "        vertical-align: top;\n",
       "    }\n",
       "\n",
       "    .dataframe thead th {\n",
       "        text-align: right;\n",
       "    }\n",
       "</style>\n",
       "<table border=\"1\" class=\"dataframe\">\n",
       "  <thead>\n",
       "    <tr style=\"text-align: right;\">\n",
       "      <th></th>\n",
       "      <th>ROW_ID</th>\n",
       "      <th>SUBJECT_ID</th>\n",
       "      <th>HADM_ID</th>\n",
       "      <th>ADMITTIME</th>\n",
       "      <th>DISCHTIME</th>\n",
       "      <th>DEATHTIME</th>\n",
       "      <th>ADMISSION_TYPE</th>\n",
       "      <th>ADMISSION_LOCATION</th>\n",
       "      <th>DISCHARGE_LOCATION</th>\n",
       "      <th>INSURANCE</th>\n",
       "      <th>...</th>\n",
       "      <th>HOSPITAL_EXPIRE_FLAG</th>\n",
       "      <th>HAS_CHARTEVENTS_DATA</th>\n",
       "      <th>ROW_ID_PAT</th>\n",
       "      <th>GENDER</th>\n",
       "      <th>DOB</th>\n",
       "      <th>DOD</th>\n",
       "      <th>DOD_HOSP</th>\n",
       "      <th>DOD_SSN</th>\n",
       "      <th>EXPIRE_FLAG</th>\n",
       "      <th>admission_AGE</th>\n",
       "    </tr>\n",
       "  </thead>\n",
       "  <tbody>\n",
       "    <tr>\n",
       "      <th>0</th>\n",
       "      <td>21</td>\n",
       "      <td>22</td>\n",
       "      <td>165315</td>\n",
       "      <td>2196-04-09 12:26:00</td>\n",
       "      <td>2196-04-10 15:54:00</td>\n",
       "      <td>NaN</td>\n",
       "      <td>EMERGENCY</td>\n",
       "      <td>EMERGENCY ROOM ADMIT</td>\n",
       "      <td>DISC-TRAN CANCER/CHLDRN H</td>\n",
       "      <td>Private</td>\n",
       "      <td>...</td>\n",
       "      <td>0</td>\n",
       "      <td>1</td>\n",
       "      <td>19</td>\n",
       "      <td>F</td>\n",
       "      <td>2131-05-07</td>\n",
       "      <td>NaN</td>\n",
       "      <td>NaN</td>\n",
       "      <td>NaN</td>\n",
       "      <td>0</td>\n",
       "      <td>64.0</td>\n",
       "    </tr>\n",
       "    <tr>\n",
       "      <th>1</th>\n",
       "      <td>22</td>\n",
       "      <td>23</td>\n",
       "      <td>152223</td>\n",
       "      <td>2153-09-03 07:15:00</td>\n",
       "      <td>2153-09-08 19:10:00</td>\n",
       "      <td>NaN</td>\n",
       "      <td>ELECTIVE</td>\n",
       "      <td>PHYS REFERRAL/NORMAL DELI</td>\n",
       "      <td>HOME HEALTH CARE</td>\n",
       "      <td>Medicare</td>\n",
       "      <td>...</td>\n",
       "      <td>0</td>\n",
       "      <td>1</td>\n",
       "      <td>20</td>\n",
       "      <td>M</td>\n",
       "      <td>2082-07-17</td>\n",
       "      <td>NaN</td>\n",
       "      <td>NaN</td>\n",
       "      <td>NaN</td>\n",
       "      <td>0</td>\n",
       "      <td>71.0</td>\n",
       "    </tr>\n",
       "    <tr>\n",
       "      <th>2</th>\n",
       "      <td>23</td>\n",
       "      <td>23</td>\n",
       "      <td>124321</td>\n",
       "      <td>2157-10-18 19:34:00</td>\n",
       "      <td>2157-10-25 14:00:00</td>\n",
       "      <td>NaN</td>\n",
       "      <td>EMERGENCY</td>\n",
       "      <td>TRANSFER FROM HOSP/EXTRAM</td>\n",
       "      <td>HOME HEALTH CARE</td>\n",
       "      <td>Medicare</td>\n",
       "      <td>...</td>\n",
       "      <td>0</td>\n",
       "      <td>1</td>\n",
       "      <td>20</td>\n",
       "      <td>M</td>\n",
       "      <td>2082-07-17</td>\n",
       "      <td>NaN</td>\n",
       "      <td>NaN</td>\n",
       "      <td>NaN</td>\n",
       "      <td>0</td>\n",
       "      <td>75.0</td>\n",
       "    </tr>\n",
       "    <tr>\n",
       "      <th>3</th>\n",
       "      <td>24</td>\n",
       "      <td>24</td>\n",
       "      <td>161859</td>\n",
       "      <td>2139-06-06 16:14:00</td>\n",
       "      <td>2139-06-09 12:48:00</td>\n",
       "      <td>NaN</td>\n",
       "      <td>EMERGENCY</td>\n",
       "      <td>TRANSFER FROM HOSP/EXTRAM</td>\n",
       "      <td>HOME</td>\n",
       "      <td>Private</td>\n",
       "      <td>...</td>\n",
       "      <td>0</td>\n",
       "      <td>1</td>\n",
       "      <td>21</td>\n",
       "      <td>M</td>\n",
       "      <td>2100-05-31</td>\n",
       "      <td>NaN</td>\n",
       "      <td>NaN</td>\n",
       "      <td>NaN</td>\n",
       "      <td>0</td>\n",
       "      <td>39.0</td>\n",
       "    </tr>\n",
       "    <tr>\n",
       "      <th>4</th>\n",
       "      <td>25</td>\n",
       "      <td>25</td>\n",
       "      <td>129635</td>\n",
       "      <td>2160-11-02 02:06:00</td>\n",
       "      <td>2160-11-05 14:55:00</td>\n",
       "      <td>NaN</td>\n",
       "      <td>EMERGENCY</td>\n",
       "      <td>EMERGENCY ROOM ADMIT</td>\n",
       "      <td>HOME</td>\n",
       "      <td>Private</td>\n",
       "      <td>...</td>\n",
       "      <td>0</td>\n",
       "      <td>1</td>\n",
       "      <td>22</td>\n",
       "      <td>M</td>\n",
       "      <td>2101-11-21</td>\n",
       "      <td>NaN</td>\n",
       "      <td>NaN</td>\n",
       "      <td>NaN</td>\n",
       "      <td>0</td>\n",
       "      <td>58.0</td>\n",
       "    </tr>\n",
       "  </tbody>\n",
       "</table>\n",
       "<p>5 rows × 27 columns</p>\n",
       "</div>"
      ],
      "text/plain": [
       "   ROW_ID  SUBJECT_ID  HADM_ID           ADMITTIME            DISCHTIME  \\\n",
       "0      21          22   165315 2196-04-09 12:26:00  2196-04-10 15:54:00   \n",
       "1      22          23   152223 2153-09-03 07:15:00  2153-09-08 19:10:00   \n",
       "2      23          23   124321 2157-10-18 19:34:00  2157-10-25 14:00:00   \n",
       "3      24          24   161859 2139-06-06 16:14:00  2139-06-09 12:48:00   \n",
       "4      25          25   129635 2160-11-02 02:06:00  2160-11-05 14:55:00   \n",
       "\n",
       "  DEATHTIME ADMISSION_TYPE         ADMISSION_LOCATION  \\\n",
       "0       NaN      EMERGENCY       EMERGENCY ROOM ADMIT   \n",
       "1       NaN       ELECTIVE  PHYS REFERRAL/NORMAL DELI   \n",
       "2       NaN      EMERGENCY  TRANSFER FROM HOSP/EXTRAM   \n",
       "3       NaN      EMERGENCY  TRANSFER FROM HOSP/EXTRAM   \n",
       "4       NaN      EMERGENCY       EMERGENCY ROOM ADMIT   \n",
       "\n",
       "          DISCHARGE_LOCATION INSURANCE  ... HOSPITAL_EXPIRE_FLAG  \\\n",
       "0  DISC-TRAN CANCER/CHLDRN H   Private  ...                    0   \n",
       "1           HOME HEALTH CARE  Medicare  ...                    0   \n",
       "2           HOME HEALTH CARE  Medicare  ...                    0   \n",
       "3                       HOME   Private  ...                    0   \n",
       "4                       HOME   Private  ...                    0   \n",
       "\n",
       "  HAS_CHARTEVENTS_DATA ROW_ID_PAT GENDER        DOB  DOD DOD_HOSP  DOD_SSN  \\\n",
       "0                    1         19      F 2131-05-07  NaN      NaN      NaN   \n",
       "1                    1         20      M 2082-07-17  NaN      NaN      NaN   \n",
       "2                    1         20      M 2082-07-17  NaN      NaN      NaN   \n",
       "3                    1         21      M 2100-05-31  NaN      NaN      NaN   \n",
       "4                    1         22      M 2101-11-21  NaN      NaN      NaN   \n",
       "\n",
       "   EXPIRE_FLAG  admission_AGE  \n",
       "0            0           64.0  \n",
       "1            0           71.0  \n",
       "2            0           75.0  \n",
       "3            0           39.0  \n",
       "4            0           58.0  \n",
       "\n",
       "[5 rows x 27 columns]"
      ]
     },
     "execution_count": 24,
     "metadata": {},
     "output_type": "execute_result"
    }
   ],
   "source": [
    "admissions.head()"
   ]
  },
  {
   "cell_type": "markdown",
   "id": "d313821f",
   "metadata": {},
   "source": [
    "### Working with ICUSTAYS.csv"
   ]
  },
  {
   "cell_type": "code",
   "execution_count": 25,
   "id": "eabde432",
   "metadata": {},
   "outputs": [
    {
     "data": {
      "text/html": [
       "<div>\n",
       "<style scoped>\n",
       "    .dataframe tbody tr th:only-of-type {\n",
       "        vertical-align: middle;\n",
       "    }\n",
       "\n",
       "    .dataframe tbody tr th {\n",
       "        vertical-align: top;\n",
       "    }\n",
       "\n",
       "    .dataframe thead th {\n",
       "        text-align: right;\n",
       "    }\n",
       "</style>\n",
       "<table border=\"1\" class=\"dataframe\">\n",
       "  <thead>\n",
       "    <tr style=\"text-align: right;\">\n",
       "      <th></th>\n",
       "      <th>ROW_ID</th>\n",
       "      <th>SUBJECT_ID</th>\n",
       "      <th>HADM_ID</th>\n",
       "      <th>ICUSTAY_ID</th>\n",
       "      <th>DBSOURCE</th>\n",
       "      <th>FIRST_CAREUNIT</th>\n",
       "      <th>LAST_CAREUNIT</th>\n",
       "      <th>FIRST_WARDID</th>\n",
       "      <th>LAST_WARDID</th>\n",
       "      <th>INTIME</th>\n",
       "      <th>OUTTIME</th>\n",
       "      <th>LOS</th>\n",
       "    </tr>\n",
       "  </thead>\n",
       "  <tbody>\n",
       "    <tr>\n",
       "      <th>0</th>\n",
       "      <td>365</td>\n",
       "      <td>268</td>\n",
       "      <td>110404</td>\n",
       "      <td>280836</td>\n",
       "      <td>carevue</td>\n",
       "      <td>MICU</td>\n",
       "      <td>MICU</td>\n",
       "      <td>52</td>\n",
       "      <td>52</td>\n",
       "      <td>2198-02-14 23:27:38</td>\n",
       "      <td>2198-02-18 05:26:11</td>\n",
       "      <td>3.2490</td>\n",
       "    </tr>\n",
       "    <tr>\n",
       "      <th>1</th>\n",
       "      <td>366</td>\n",
       "      <td>269</td>\n",
       "      <td>106296</td>\n",
       "      <td>206613</td>\n",
       "      <td>carevue</td>\n",
       "      <td>MICU</td>\n",
       "      <td>MICU</td>\n",
       "      <td>52</td>\n",
       "      <td>52</td>\n",
       "      <td>2170-11-05 11:05:29</td>\n",
       "      <td>2170-11-08 17:46:57</td>\n",
       "      <td>3.2788</td>\n",
       "    </tr>\n",
       "    <tr>\n",
       "      <th>2</th>\n",
       "      <td>367</td>\n",
       "      <td>270</td>\n",
       "      <td>188028</td>\n",
       "      <td>220345</td>\n",
       "      <td>carevue</td>\n",
       "      <td>CCU</td>\n",
       "      <td>CCU</td>\n",
       "      <td>57</td>\n",
       "      <td>57</td>\n",
       "      <td>2128-06-24 15:05:20</td>\n",
       "      <td>2128-06-27 12:32:29</td>\n",
       "      <td>2.8939</td>\n",
       "    </tr>\n",
       "    <tr>\n",
       "      <th>3</th>\n",
       "      <td>368</td>\n",
       "      <td>271</td>\n",
       "      <td>173727</td>\n",
       "      <td>249196</td>\n",
       "      <td>carevue</td>\n",
       "      <td>MICU</td>\n",
       "      <td>SICU</td>\n",
       "      <td>52</td>\n",
       "      <td>23</td>\n",
       "      <td>2120-08-07 23:12:42</td>\n",
       "      <td>2120-08-10 00:39:04</td>\n",
       "      <td>2.0600</td>\n",
       "    </tr>\n",
       "    <tr>\n",
       "      <th>4</th>\n",
       "      <td>369</td>\n",
       "      <td>272</td>\n",
       "      <td>164716</td>\n",
       "      <td>210407</td>\n",
       "      <td>carevue</td>\n",
       "      <td>CCU</td>\n",
       "      <td>CCU</td>\n",
       "      <td>57</td>\n",
       "      <td>57</td>\n",
       "      <td>2186-12-25 21:08:04</td>\n",
       "      <td>2186-12-27 12:01:13</td>\n",
       "      <td>1.6202</td>\n",
       "    </tr>\n",
       "  </tbody>\n",
       "</table>\n",
       "</div>"
      ],
      "text/plain": [
       "   ROW_ID  SUBJECT_ID  HADM_ID  ICUSTAY_ID DBSOURCE FIRST_CAREUNIT  \\\n",
       "0     365         268   110404      280836  carevue           MICU   \n",
       "1     366         269   106296      206613  carevue           MICU   \n",
       "2     367         270   188028      220345  carevue            CCU   \n",
       "3     368         271   173727      249196  carevue           MICU   \n",
       "4     369         272   164716      210407  carevue            CCU   \n",
       "\n",
       "  LAST_CAREUNIT  FIRST_WARDID  LAST_WARDID               INTIME  \\\n",
       "0          MICU            52           52  2198-02-14 23:27:38   \n",
       "1          MICU            52           52  2170-11-05 11:05:29   \n",
       "2           CCU            57           57  2128-06-24 15:05:20   \n",
       "3          SICU            52           23  2120-08-07 23:12:42   \n",
       "4           CCU            57           57  2186-12-25 21:08:04   \n",
       "\n",
       "               OUTTIME     LOS  \n",
       "0  2198-02-18 05:26:11  3.2490  \n",
       "1  2170-11-08 17:46:57  3.2788  \n",
       "2  2128-06-27 12:32:29  2.8939  \n",
       "3  2120-08-10 00:39:04  2.0600  \n",
       "4  2186-12-27 12:01:13  1.6202  "
      ]
     },
     "execution_count": 25,
     "metadata": {},
     "output_type": "execute_result"
    }
   ],
   "source": [
    "icustays = dfs['ICUSTAYS.csv']\n",
    "icustays.head()"
   ]
  },
  {
   "cell_type": "code",
   "execution_count": 26,
   "id": "dade528a",
   "metadata": {},
   "outputs": [],
   "source": [
    "icu = icustays.merge(patients, on='SUBJECT_ID', suffixes=('', '_PAT'), how='inner')"
   ]
  },
  {
   "cell_type": "code",
   "execution_count": 27,
   "id": "328fbe85",
   "metadata": {},
   "outputs": [],
   "source": [
    "icu['INTIME'] = pd.to_datetime(icu['INTIME'])\n",
    "icu['DOB'] = pd.to_datetime(icu['DOB'])\n",
    "icu['icu_AGE'] = icu.apply(lambda x: (x['INTIME'].to_pydatetime() - x['DOB'].to_pydatetime()).days // 365.242, axis = 1)"
   ]
  },
  {
   "cell_type": "code",
   "execution_count": 28,
   "id": "3f7fb4ba",
   "metadata": {},
   "outputs": [
    {
     "data": {
      "text/html": [
       "<div>\n",
       "<style scoped>\n",
       "    .dataframe tbody tr th:only-of-type {\n",
       "        vertical-align: middle;\n",
       "    }\n",
       "\n",
       "    .dataframe tbody tr th {\n",
       "        vertical-align: top;\n",
       "    }\n",
       "\n",
       "    .dataframe thead th {\n",
       "        text-align: right;\n",
       "    }\n",
       "</style>\n",
       "<table border=\"1\" class=\"dataframe\">\n",
       "  <thead>\n",
       "    <tr style=\"text-align: right;\">\n",
       "      <th></th>\n",
       "      <th>ROW_ID</th>\n",
       "      <th>SUBJECT_ID</th>\n",
       "      <th>HADM_ID</th>\n",
       "      <th>ICUSTAY_ID</th>\n",
       "      <th>DBSOURCE</th>\n",
       "      <th>FIRST_CAREUNIT</th>\n",
       "      <th>LAST_CAREUNIT</th>\n",
       "      <th>FIRST_WARDID</th>\n",
       "      <th>LAST_WARDID</th>\n",
       "      <th>INTIME</th>\n",
       "      <th>OUTTIME</th>\n",
       "      <th>LOS</th>\n",
       "      <th>ROW_ID_PAT</th>\n",
       "      <th>GENDER</th>\n",
       "      <th>DOB</th>\n",
       "      <th>DOD</th>\n",
       "      <th>DOD_HOSP</th>\n",
       "      <th>DOD_SSN</th>\n",
       "      <th>EXPIRE_FLAG</th>\n",
       "      <th>icu_AGE</th>\n",
       "    </tr>\n",
       "  </thead>\n",
       "  <tbody>\n",
       "    <tr>\n",
       "      <th>0</th>\n",
       "      <td>365</td>\n",
       "      <td>268</td>\n",
       "      <td>110404</td>\n",
       "      <td>280836</td>\n",
       "      <td>carevue</td>\n",
       "      <td>MICU</td>\n",
       "      <td>MICU</td>\n",
       "      <td>52</td>\n",
       "      <td>52</td>\n",
       "      <td>2198-02-14 23:27:38</td>\n",
       "      <td>2198-02-18 05:26:11</td>\n",
       "      <td>3.2490</td>\n",
       "      <td>251</td>\n",
       "      <td>F</td>\n",
       "      <td>2132-02-21</td>\n",
       "      <td>2198-02-18 00:00:00</td>\n",
       "      <td>2198-02-18 00:00:00</td>\n",
       "      <td>NaN</td>\n",
       "      <td>1</td>\n",
       "      <td>65.0</td>\n",
       "    </tr>\n",
       "    <tr>\n",
       "      <th>1</th>\n",
       "      <td>366</td>\n",
       "      <td>269</td>\n",
       "      <td>106296</td>\n",
       "      <td>206613</td>\n",
       "      <td>carevue</td>\n",
       "      <td>MICU</td>\n",
       "      <td>MICU</td>\n",
       "      <td>52</td>\n",
       "      <td>52</td>\n",
       "      <td>2170-11-05 11:05:29</td>\n",
       "      <td>2170-11-08 17:46:57</td>\n",
       "      <td>3.2788</td>\n",
       "      <td>252</td>\n",
       "      <td>M</td>\n",
       "      <td>2130-09-30</td>\n",
       "      <td>NaN</td>\n",
       "      <td>NaN</td>\n",
       "      <td>NaN</td>\n",
       "      <td>0</td>\n",
       "      <td>40.0</td>\n",
       "    </tr>\n",
       "    <tr>\n",
       "      <th>2</th>\n",
       "      <td>367</td>\n",
       "      <td>270</td>\n",
       "      <td>188028</td>\n",
       "      <td>220345</td>\n",
       "      <td>carevue</td>\n",
       "      <td>CCU</td>\n",
       "      <td>CCU</td>\n",
       "      <td>57</td>\n",
       "      <td>57</td>\n",
       "      <td>2128-06-24 15:05:20</td>\n",
       "      <td>2128-06-27 12:32:29</td>\n",
       "      <td>2.8939</td>\n",
       "      <td>253</td>\n",
       "      <td>M</td>\n",
       "      <td>2048-05-26</td>\n",
       "      <td>NaN</td>\n",
       "      <td>NaN</td>\n",
       "      <td>NaN</td>\n",
       "      <td>0</td>\n",
       "      <td>80.0</td>\n",
       "    </tr>\n",
       "    <tr>\n",
       "      <th>3</th>\n",
       "      <td>368</td>\n",
       "      <td>271</td>\n",
       "      <td>173727</td>\n",
       "      <td>249196</td>\n",
       "      <td>carevue</td>\n",
       "      <td>MICU</td>\n",
       "      <td>SICU</td>\n",
       "      <td>52</td>\n",
       "      <td>23</td>\n",
       "      <td>2120-08-07 23:12:42</td>\n",
       "      <td>2120-08-10 00:39:04</td>\n",
       "      <td>2.0600</td>\n",
       "      <td>254</td>\n",
       "      <td>F</td>\n",
       "      <td>2074-11-30</td>\n",
       "      <td>NaN</td>\n",
       "      <td>NaN</td>\n",
       "      <td>NaN</td>\n",
       "      <td>0</td>\n",
       "      <td>45.0</td>\n",
       "    </tr>\n",
       "    <tr>\n",
       "      <th>4</th>\n",
       "      <td>369</td>\n",
       "      <td>272</td>\n",
       "      <td>164716</td>\n",
       "      <td>210407</td>\n",
       "      <td>carevue</td>\n",
       "      <td>CCU</td>\n",
       "      <td>CCU</td>\n",
       "      <td>57</td>\n",
       "      <td>57</td>\n",
       "      <td>2186-12-25 21:08:04</td>\n",
       "      <td>2186-12-27 12:01:13</td>\n",
       "      <td>1.6202</td>\n",
       "      <td>255</td>\n",
       "      <td>M</td>\n",
       "      <td>2119-11-21</td>\n",
       "      <td>NaN</td>\n",
       "      <td>NaN</td>\n",
       "      <td>NaN</td>\n",
       "      <td>0</td>\n",
       "      <td>67.0</td>\n",
       "    </tr>\n",
       "  </tbody>\n",
       "</table>\n",
       "</div>"
      ],
      "text/plain": [
       "   ROW_ID  SUBJECT_ID  HADM_ID  ICUSTAY_ID DBSOURCE FIRST_CAREUNIT  \\\n",
       "0     365         268   110404      280836  carevue           MICU   \n",
       "1     366         269   106296      206613  carevue           MICU   \n",
       "2     367         270   188028      220345  carevue            CCU   \n",
       "3     368         271   173727      249196  carevue           MICU   \n",
       "4     369         272   164716      210407  carevue            CCU   \n",
       "\n",
       "  LAST_CAREUNIT  FIRST_WARDID  LAST_WARDID              INTIME  \\\n",
       "0          MICU            52           52 2198-02-14 23:27:38   \n",
       "1          MICU            52           52 2170-11-05 11:05:29   \n",
       "2           CCU            57           57 2128-06-24 15:05:20   \n",
       "3          SICU            52           23 2120-08-07 23:12:42   \n",
       "4           CCU            57           57 2186-12-25 21:08:04   \n",
       "\n",
       "               OUTTIME     LOS  ROW_ID_PAT GENDER        DOB  \\\n",
       "0  2198-02-18 05:26:11  3.2490         251      F 2132-02-21   \n",
       "1  2170-11-08 17:46:57  3.2788         252      M 2130-09-30   \n",
       "2  2128-06-27 12:32:29  2.8939         253      M 2048-05-26   \n",
       "3  2120-08-10 00:39:04  2.0600         254      F 2074-11-30   \n",
       "4  2186-12-27 12:01:13  1.6202         255      M 2119-11-21   \n",
       "\n",
       "                   DOD             DOD_HOSP DOD_SSN  EXPIRE_FLAG  icu_AGE  \n",
       "0  2198-02-18 00:00:00  2198-02-18 00:00:00     NaN            1     65.0  \n",
       "1                  NaN                  NaN     NaN            0     40.0  \n",
       "2                  NaN                  NaN     NaN            0     80.0  \n",
       "3                  NaN                  NaN     NaN            0     45.0  \n",
       "4                  NaN                  NaN     NaN            0     67.0  "
      ]
     },
     "execution_count": 28,
     "metadata": {},
     "output_type": "execute_result"
    }
   ],
   "source": [
    "icu.head()"
   ]
  },
  {
   "cell_type": "code",
   "execution_count": 29,
   "id": "fa205c50",
   "metadata": {},
   "outputs": [
    {
     "data": {
      "text/html": [
       "<div>\n",
       "<style scoped>\n",
       "    .dataframe tbody tr th:only-of-type {\n",
       "        vertical-align: middle;\n",
       "    }\n",
       "\n",
       "    .dataframe tbody tr th {\n",
       "        vertical-align: top;\n",
       "    }\n",
       "\n",
       "    .dataframe thead th {\n",
       "        text-align: right;\n",
       "    }\n",
       "</style>\n",
       "<table border=\"1\" class=\"dataframe\">\n",
       "  <thead>\n",
       "    <tr style=\"text-align: right;\">\n",
       "      <th></th>\n",
       "      <th>icu_AGE</th>\n",
       "      <th>admission_AGE</th>\n",
       "    </tr>\n",
       "  </thead>\n",
       "  <tbody>\n",
       "    <tr>\n",
       "      <th>0</th>\n",
       "      <td>65.0</td>\n",
       "      <td>65.0</td>\n",
       "    </tr>\n",
       "    <tr>\n",
       "      <th>1</th>\n",
       "      <td>40.0</td>\n",
       "      <td>40.0</td>\n",
       "    </tr>\n",
       "    <tr>\n",
       "      <th>2</th>\n",
       "      <td>80.0</td>\n",
       "      <td>80.0</td>\n",
       "    </tr>\n",
       "    <tr>\n",
       "      <th>3</th>\n",
       "      <td>45.0</td>\n",
       "      <td>45.0</td>\n",
       "    </tr>\n",
       "    <tr>\n",
       "      <th>4</th>\n",
       "      <td>67.0</td>\n",
       "      <td>67.0</td>\n",
       "    </tr>\n",
       "    <tr>\n",
       "      <th>...</th>\n",
       "      <td>...</td>\n",
       "      <td>...</td>\n",
       "    </tr>\n",
       "    <tr>\n",
       "      <th>53325</th>\n",
       "      <td>77.0</td>\n",
       "      <td>77.0</td>\n",
       "    </tr>\n",
       "    <tr>\n",
       "      <th>53326</th>\n",
       "      <td>300.0</td>\n",
       "      <td>300.0</td>\n",
       "    </tr>\n",
       "    <tr>\n",
       "      <th>53327</th>\n",
       "      <td>53.0</td>\n",
       "      <td>53.0</td>\n",
       "    </tr>\n",
       "    <tr>\n",
       "      <th>53328</th>\n",
       "      <td>67.0</td>\n",
       "      <td>67.0</td>\n",
       "    </tr>\n",
       "    <tr>\n",
       "      <th>53329</th>\n",
       "      <td>34.0</td>\n",
       "      <td>34.0</td>\n",
       "    </tr>\n",
       "  </tbody>\n",
       "</table>\n",
       "<p>53330 rows × 2 columns</p>\n",
       "</div>"
      ],
      "text/plain": [
       "       icu_AGE  admission_AGE\n",
       "0         65.0           65.0\n",
       "1         40.0           40.0\n",
       "2         80.0           80.0\n",
       "3         45.0           45.0\n",
       "4         67.0           67.0\n",
       "...        ...            ...\n",
       "53325     77.0           77.0\n",
       "53326    300.0          300.0\n",
       "53327     53.0           53.0\n",
       "53328     67.0           67.0\n",
       "53329     34.0           34.0\n",
       "\n",
       "[53330 rows x 2 columns]"
      ]
     },
     "execution_count": 29,
     "metadata": {},
     "output_type": "execute_result"
    }
   ],
   "source": [
    "icu_admission_demographics = icu.merge(admissions, on=['SUBJECT_ID', 'HADM_ID'], suffixes=('', '_ADM'), how='inner')\n",
    "icu_admission_demographics[['icu_AGE','admission_AGE']]"
   ]
  },
  {
   "cell_type": "code",
   "execution_count": 30,
   "id": "71290fef",
   "metadata": {},
   "outputs": [
    {
     "data": {
      "text/plain": [
       "Index(['ROW_ID', 'SUBJECT_ID', 'HADM_ID', 'ICUSTAY_ID', 'DBSOURCE',\n",
       "       'FIRST_CAREUNIT', 'LAST_CAREUNIT', 'FIRST_WARDID', 'LAST_WARDID',\n",
       "       'INTIME', 'OUTTIME', 'LOS', 'ROW_ID_PAT', 'GENDER', 'DOB', 'DOD',\n",
       "       'DOD_HOSP', 'DOD_SSN', 'EXPIRE_FLAG', 'icu_AGE', 'ROW_ID_ADM',\n",
       "       'ADMITTIME', 'DISCHTIME', 'DEATHTIME', 'ADMISSION_TYPE',\n",
       "       'ADMISSION_LOCATION', 'DISCHARGE_LOCATION', 'INSURANCE', 'LANGUAGE',\n",
       "       'RELIGION', 'MARITAL_STATUS', 'ETHNICITY', 'EDREGTIME', 'EDOUTTIME',\n",
       "       'DIAGNOSIS', 'HOSPITAL_EXPIRE_FLAG', 'HAS_CHARTEVENTS_DATA',\n",
       "       'ROW_ID_PAT_ADM', 'GENDER_ADM', 'DOB_ADM', 'DOD_ADM', 'DOD_HOSP_ADM',\n",
       "       'DOD_SSN_ADM', 'EXPIRE_FLAG_ADM', 'admission_AGE'],\n",
       "      dtype='object')"
      ]
     },
     "execution_count": 30,
     "metadata": {},
     "output_type": "execute_result"
    }
   ],
   "source": [
    "icu_admission_demographics.columns"
   ]
  },
  {
   "cell_type": "code",
   "execution_count": 31,
   "id": "6be7f92e",
   "metadata": {},
   "outputs": [
    {
     "name": "stdout",
     "output_type": "stream",
     "text": [
      "Number of instances where icu_AGE != admission_AGE: 319\n"
     ]
    }
   ],
   "source": [
    "# Count instances where icu_AGE is not equal to admission_AGE\n",
    "count_diff = (icu_admission_demographics['icu_AGE'] != icu_admission_demographics['admission_AGE']).sum()\n",
    "print(\"Number of instances where icu_AGE != admission_AGE:\", count_diff)"
   ]
  },
  {
   "cell_type": "markdown",
   "id": "0d82bfaf",
   "metadata": {},
   "source": [
    "#### So, we consider only icu_AGE."
   ]
  },
  {
   "cell_type": "code",
   "execution_count": 32,
   "id": "8493fed5",
   "metadata": {},
   "outputs": [
    {
     "name": "stdout",
     "output_type": "stream",
     "text": [
      "18.0\n"
     ]
    },
    {
     "data": {
      "text/plain": [
       "18.0"
      ]
     },
     "execution_count": 32,
     "metadata": {},
     "output_type": "execute_result"
    }
   ],
   "source": [
    "print(icu_admission_demographics['icu_AGE'].min())\n",
    "icu_admission_demographics['admission_AGE'].min()"
   ]
  },
  {
   "cell_type": "markdown",
   "id": "a47f17bc",
   "metadata": {},
   "source": [
    "### SOFA Scores On ICU Day 1"
   ]
  },
  {
   "cell_type": "markdown",
   "id": "789bccc1",
   "metadata": {},
   "source": [
    "| **Organ System**   | **0 points**                                            | **1 point**                                               | **2 points**                                         | **3 points**                                                                                    | **4 points**                                                                                     |\n",
    "| ------------------ | ------------------------------------------------------- | --------------------------------------------------------- | ---------------------------------------------------- | ----------------------------------------------------------------------------------------------- | ------------------------------------------------------------------------------------------------ |\n",
    "| **Respiratory**    | PaO₂/FiO₂ ≥ 400 mmHg                                    | PaO₂/FiO₂ < 400 mmHg                                      | PaO₂/FiO₂ < 300 mmHg                                 | PaO₂/FiO₂ < 200 mmHg **and** mechanically ventilated                                            | PaO₂/FiO₂ < 100 mmHg **and** mechanically ventilated                                             |\n",
    "| **Coagulation**    | Platelets ≥ 150 ×10³ µL                                 | Platelets < 150 ×10³ µL                                   | Platelets < 100 ×10³ µL                              | Platelets < 50 ×10³ µL                                                                          | Platelets < 20 ×10³ µL                                                                           |\n",
    "| **Liver**          | Bilirubin < 1.2 mg/dL                                   | Bilirubin 1.2–1.9 mg/dL                                   | Bilirubin 2.0–5.9 mg/dL                              | Bilirubin 6.0–11.9 mg/dL                                                                        | Bilirubin ≥ 12.0 mg/dL                                                                           |\n",
    "| **Cardiovascular** | MAP ≥ 70 mmHg                                           | MAP < 70 mmHg                                             | Dopamine ≤ 5 µg/kg/min **or** any dose of dobutamine | Dopamine > 5 µg/kg/min **or** epinephrine ≤ 0.1 µg/kg/min **or** norepinephrine ≤ 0.1 µg/kg/min | Dopamine > 15 µg/kg/min **or** epinephrine > 0.1 µg/kg/min **or** norepinephrine > 0.1 µg/kg/min |\n",
    "| **CNS**            | GCS 15                                                  | GCS 13–14                                                 | GCS 10–12                                            | GCS 6–9                                                                                         | GCS < 6                                                                                          |\n",
    "| **Renal**          | Creatinine < 1.2 mg/dL **or** urine output ≥ 500 mL/day | Creatinine 1.2–1.9 mg/dL **or** urine output < 500 mL/day | Creatinine 2.0–3.4 mg/dL                             | Creatinine 3.5–4.9 mg/dL **or** urine output < 500 mL/day                                       | Creatinine ≥ 5.0 mg/dL **or** urine output < 200 mL/day                                          |\n"
   ]
  },
  {
   "cell_type": "markdown",
   "id": "c53fa6b5",
   "metadata": {},
   "source": [
    "* Total SOFA = sum of all six component scores (0–24). \n",
    "* An acute increase of ≥ 2 points from baseline indicates organ dysfunction consistent with sepsis‑3."
   ]
  },
  {
   "cell_type": "code",
   "execution_count": 35,
   "id": "84759b45",
   "metadata": {},
   "outputs": [
    {
     "data": {
      "text/html": [
       "<div>\n",
       "<style scoped>\n",
       "    .dataframe tbody tr th:only-of-type {\n",
       "        vertical-align: middle;\n",
       "    }\n",
       "\n",
       "    .dataframe tbody tr th {\n",
       "        vertical-align: top;\n",
       "    }\n",
       "\n",
       "    .dataframe thead th {\n",
       "        text-align: right;\n",
       "    }\n",
       "</style>\n",
       "<table border=\"1\" class=\"dataframe\">\n",
       "  <thead>\n",
       "    <tr style=\"text-align: right;\">\n",
       "      <th></th>\n",
       "      <th>ROW_ID</th>\n",
       "      <th>ITEMID</th>\n",
       "      <th>LABEL</th>\n",
       "      <th>ABBREVIATION</th>\n",
       "      <th>DBSOURCE</th>\n",
       "      <th>LINKSTO</th>\n",
       "      <th>CATEGORY</th>\n",
       "      <th>UNITNAME</th>\n",
       "      <th>PARAM_TYPE</th>\n",
       "      <th>CONCEPTID</th>\n",
       "    </tr>\n",
       "  </thead>\n",
       "  <tbody>\n",
       "    <tr>\n",
       "      <th>0</th>\n",
       "      <td>457</td>\n",
       "      <td>497</td>\n",
       "      <td>Patient controlled analgesia (PCA) [Inject]</td>\n",
       "      <td>NaN</td>\n",
       "      <td>carevue</td>\n",
       "      <td>chartevents</td>\n",
       "      <td>NaN</td>\n",
       "      <td>NaN</td>\n",
       "      <td>NaN</td>\n",
       "      <td>NaN</td>\n",
       "    </tr>\n",
       "    <tr>\n",
       "      <th>1</th>\n",
       "      <td>458</td>\n",
       "      <td>498</td>\n",
       "      <td>PCA Lockout (Min)</td>\n",
       "      <td>NaN</td>\n",
       "      <td>carevue</td>\n",
       "      <td>chartevents</td>\n",
       "      <td>NaN</td>\n",
       "      <td>NaN</td>\n",
       "      <td>NaN</td>\n",
       "      <td>NaN</td>\n",
       "    </tr>\n",
       "    <tr>\n",
       "      <th>2</th>\n",
       "      <td>459</td>\n",
       "      <td>499</td>\n",
       "      <td>PCA Medication</td>\n",
       "      <td>NaN</td>\n",
       "      <td>carevue</td>\n",
       "      <td>chartevents</td>\n",
       "      <td>NaN</td>\n",
       "      <td>NaN</td>\n",
       "      <td>NaN</td>\n",
       "      <td>NaN</td>\n",
       "    </tr>\n",
       "    <tr>\n",
       "      <th>3</th>\n",
       "      <td>460</td>\n",
       "      <td>500</td>\n",
       "      <td>PCA Total Dose</td>\n",
       "      <td>NaN</td>\n",
       "      <td>carevue</td>\n",
       "      <td>chartevents</td>\n",
       "      <td>NaN</td>\n",
       "      <td>NaN</td>\n",
       "      <td>NaN</td>\n",
       "      <td>NaN</td>\n",
       "    </tr>\n",
       "    <tr>\n",
       "      <th>4</th>\n",
       "      <td>461</td>\n",
       "      <td>501</td>\n",
       "      <td>PCV Exh Vt (Obser)</td>\n",
       "      <td>NaN</td>\n",
       "      <td>carevue</td>\n",
       "      <td>chartevents</td>\n",
       "      <td>NaN</td>\n",
       "      <td>NaN</td>\n",
       "      <td>NaN</td>\n",
       "      <td>NaN</td>\n",
       "    </tr>\n",
       "  </tbody>\n",
       "</table>\n",
       "</div>"
      ],
      "text/plain": [
       "   ROW_ID  ITEMID                                        LABEL ABBREVIATION  \\\n",
       "0     457     497  Patient controlled analgesia (PCA) [Inject]          NaN   \n",
       "1     458     498                            PCA Lockout (Min)          NaN   \n",
       "2     459     499                               PCA Medication          NaN   \n",
       "3     460     500                               PCA Total Dose          NaN   \n",
       "4     461     501                           PCV Exh Vt (Obser)          NaN   \n",
       "\n",
       "  DBSOURCE      LINKSTO CATEGORY UNITNAME PARAM_TYPE  CONCEPTID  \n",
       "0  carevue  chartevents      NaN      NaN        NaN        NaN  \n",
       "1  carevue  chartevents      NaN      NaN        NaN        NaN  \n",
       "2  carevue  chartevents      NaN      NaN        NaN        NaN  \n",
       "3  carevue  chartevents      NaN      NaN        NaN        NaN  \n",
       "4  carevue  chartevents      NaN      NaN        NaN        NaN  "
      ]
     },
     "execution_count": 35,
     "metadata": {},
     "output_type": "execute_result"
    }
   ],
   "source": [
    "dfs['D_ITEMS.csv'].head()"
   ]
  },
  {
   "cell_type": "code",
   "execution_count": 46,
   "id": "b7995e80",
   "metadata": {},
   "outputs": [
    {
     "data": {
      "text/plain": [
       "56"
      ]
     },
     "execution_count": 46,
     "metadata": {},
     "output_type": "execute_result"
    }
   ],
   "source": [
    "(dfs['D_ITEMS.csv']['LABEL'].str.contains('Urine') == True).sum()"
   ]
  },
  {
   "cell_type": "markdown",
   "id": "6d44c02d",
   "metadata": {},
   "source": [
    "#### Urine output on first day\n",
    "\n",
    "Ref : https://pages.doit.wisc.edu/JLMARTIN22/mimic-code/-/blob/anticoag/mimic-iii/concepts/firstday/urine_output_first_day.sql?ref_type=heads"
   ]
  },
  {
   "cell_type": "code",
   "execution_count": null,
   "id": "7572fa31",
   "metadata": {},
   "outputs": [
    {
     "data": {
      "text/plain": [
       "Index(['ROW_ID', 'SUBJECT_ID', 'HADM_ID', 'ICUSTAY_ID', 'CHARTTIME', 'ITEMID',\n",
       "       'VALUE', 'VALUEUOM', 'STORETIME', 'CGID', 'STOPPED', 'NEWBOTTLE',\n",
       "       'ISERROR'],\n",
       "      dtype='object')"
      ]
     },
     "execution_count": 48,
     "metadata": {},
     "output_type": "execute_result"
    }
   ],
   "source": [
    "outputEvents = dfs['OUTPUTEVENTS.csv']\n",
    "outputEvents.columns"
   ]
  },
  {
   "cell_type": "code",
   "execution_count": null,
   "id": "a55d7c98",
   "metadata": {},
   "outputs": [],
   "source": [
    "urine_itemids = [\n",
    "    40055, 43175, 40069, 40094, 40715, 40473, 40085, 40057, 40056,\n",
    "    40405, 40428, 40086, 40096, 40651, 226559, 226560, 226561, 226584,\n",
    "    226563, 226564, 226565, 226567, 226557, 226558, 227488, 227489\n",
    "]\n",
    "\n",
    "requiredOutputEvents = outputEvents[outputEvents['ITEMID'].isin(urine_itemids)]"
   ]
  },
  {
   "cell_type": "code",
   "execution_count": null,
   "id": "e04c88ce",
   "metadata": {},
   "outputs": [
    {
     "data": {
      "text/plain": [
       "Index(['ROW_ID', 'SUBJECT_ID', 'HADM_ID', 'ICUSTAY_ID', 'DBSOURCE',\n",
       "       'FIRST_CAREUNIT', 'LAST_CAREUNIT', 'FIRST_WARDID', 'LAST_WARDID',\n",
       "       'INTIME', 'OUTTIME', 'LOS', 'ROW_ID_OE', 'CHARTTIME', 'ITEMID', 'VALUE',\n",
       "       'VALUEUOM', 'STORETIME', 'CGID', 'STOPPED', 'NEWBOTTLE', 'ISERROR'],\n",
       "      dtype='object')"
      ]
     },
     "execution_count": 61,
     "metadata": {},
     "output_type": "execute_result"
    }
   ],
   "source": [
    "oeMergeIcustays = icustays.merge(requiredOutputEvents, on=['SUBJECT_ID','HADM_ID','ICUSTAY_ID'], suffixes=('', '_OE'), how='left')\n",
    "oeMergeIcustays.columns"
   ]
  },
  {
   "cell_type": "code",
   "execution_count": null,
   "id": "530991a8",
   "metadata": {},
   "outputs": [],
   "source": [
    "oeMergeIcustays['INTIME'] = pd.to_datetime(oeMergeIcustays['INTIME'])\n",
    "oeMergeIcustays['CHARTTIME'] = pd.to_datetime(oeMergeIcustays['CHARTTIME'])"
   ]
  },
  {
   "cell_type": "markdown",
   "id": "a8fc9963",
   "metadata": {},
   "source": [
    "##### Filter for first day in ICU"
   ]
  },
  {
   "cell_type": "code",
   "execution_count": null,
   "id": "99b2d3c6",
   "metadata": {},
   "outputs": [],
   "source": [
    "oeMergeIcustays = oeMergeIcustays[\n",
    "    (oeMergeIcustays['CHARTTIME'] >= oeMergeIcustays['INTIME']) &\n",
    "    (oeMergeIcustays['CHARTTIME'] <= oeMergeIcustays['INTIME'] + timedelta(days=1))\n",
    "]"
   ]
  },
  {
   "cell_type": "markdown",
   "id": "eb86b00d",
   "metadata": {},
   "source": [
    "##### Adjust urine output: negative for GU irrigant (itemid 227488) when value > 0"
   ]
  },
  {
   "cell_type": "code",
   "execution_count": null,
   "id": "cb73ce1a",
   "metadata": {},
   "outputs": [
    {
     "name": "stdout",
     "output_type": "stream",
     "text": [
      "       SUBJECT_ID  HADM_ID  ICUSTAY_ID  urineOutput\n",
      "0               3   145834      211552        497.0\n",
      "1               4   185777      294638       2150.0\n",
      "2               6   107064      228232       1940.0\n",
      "3               8   159514      262299        150.0\n",
      "4               9   150750      220597        887.0\n",
      "...           ...      ...         ...          ...\n",
      "53354       99985   176670      279638       1150.0\n",
      "53355       99991   151118      226241       4330.0\n",
      "53356       99992   197084      242052       1570.0\n",
      "53357       99995   137810      229633       1495.0\n",
      "53358       99999   113369      246512       4510.0\n",
      "\n",
      "[53359 rows x 4 columns]\n"
     ]
    }
   ],
   "source": [
    "oeMergeIcustays['adjustedVal'] = oeMergeIcustays.apply(\n",
    "    lambda row: -row['VALUE'] if row['ITEMID'] == 227488 and row['VALUE'] > 0 else row['VALUE'],\n",
    "    axis=1\n",
    ")\n",
    "\n",
    "resultUO = oeMergeIcustays.groupby(['SUBJECT_ID', 'HADM_ID', 'ICUSTAY_ID'])['adjustedVal'].sum().reset_index()\n",
    "\n",
    "resultUO = resultUO.rename(columns={'adjustedVal': 'urineOutput'})\n",
    "\n",
    "urineOutputOnDay1 = resultUO.sort_values(['SUBJECT_ID', 'HADM_ID', 'ICUSTAY_ID'])\n",
    "\n",
    "print(urineOutputOnDay1)"
   ]
  },
  {
   "cell_type": "markdown",
   "id": "57a43ff7",
   "metadata": {},
   "source": [
    "#### Vitals on First Day\n",
    "\n",
    "Ref : https://pages.doit.wisc.edu/JLMARTIN22/mimic-code/-/blob/anticoag/mimic-iii/concepts/firstday/vitals_first_day.sql?ref_type=heads"
   ]
  },
  {
   "cell_type": "code",
   "execution_count": 59,
   "id": "4776ae41",
   "metadata": {},
   "outputs": [],
   "source": [
    "vital_itemids = {\n",
    "    'heartrate': [211, 220045],\n",
    "    'sysbp': [51, 442, 455, 6701, 220179, 220050],\n",
    "    'diasbp': [8368, 8440, 8441, 8555, 220180, 220051],\n",
    "    'meanbp': [456, 52, 6702, 443, 220052, 220181, 225312],\n",
    "    'resprate': [615, 618, 220210, 224690],\n",
    "    'tempc': [676, 223762],  # Temperature in Celsius\n",
    "    'tempf': [678, 223761],  # Temperature in Fahrenheit\n",
    "    'spo2': [646, 220277],\n",
    "    'glucose': [807, 811, 1529, 3745, 3744, 225664, 220621, 226537]\n",
    "}\n",
    "\n",
    "all_itemids = [item for sublist in vital_itemids.values() for item in sublist]"
   ]
  },
  {
   "cell_type": "code",
   "execution_count": 60,
   "id": "b28a99b9",
   "metadata": {},
   "outputs": [],
   "source": [
    "ce_filtered = chartEvents[ (chartEvents['ITEMID'].isin(all_itemids)) & (chartEvents['ERROR'].isna() | (chartEvents['ERROR'] == 0))]"
   ]
  },
  {
   "cell_type": "code",
   "execution_count": 68,
   "id": "3d7608c7",
   "metadata": {},
   "outputs": [
    {
     "data": {
      "text/plain": [
       "Index(['ROW_ID', 'SUBJECT_ID', 'HADM_ID', 'ICUSTAY_ID', 'DBSOURCE',\n",
       "       'FIRST_CAREUNIT', 'LAST_CAREUNIT', 'FIRST_WARDID', 'LAST_WARDID',\n",
       "       'INTIME', 'OUTTIME', 'LOS', 'ROW_ID_CE', 'SUBJECT_ID_CE', 'HADM_ID_CE',\n",
       "       'ITEMID', 'CHARTTIME', 'STORETIME', 'CGID', 'VALUE', 'VALUENUM',\n",
       "       'VALUEUOM', 'WARNING', 'ERROR', 'RESULTSTATUS', 'STOPPED'],\n",
       "      dtype='object')"
      ]
     },
     "execution_count": 68,
     "metadata": {},
     "output_type": "execute_result"
    }
   ],
   "source": [
    "icuCE = icustays.merge(ce_filtered, on=['ICUSTAY_ID'], suffixes=['','_CE'], how='left')\n",
    "icuCE.columns"
   ]
  },
  {
   "cell_type": "markdown",
   "id": "9ea270f5",
   "metadata": {},
   "source": [
    "##### Filter for first day in ICU"
   ]
  },
  {
   "cell_type": "code",
   "execution_count": 69,
   "id": "f89900fb",
   "metadata": {},
   "outputs": [],
   "source": [
    "icuCE['CHARTTIME'] = pd.to_datetime(icuCE['CHARTTIME'])\n",
    "icuCE['INTIME'] = pd.to_datetime(icuCE['INTIME'])\n",
    "\n",
    "icuCE = icuCE[\n",
    "    (icuCE['CHARTTIME'] >= icuCE['INTIME']) &\n",
    "    (icuCE['CHARTTIME'] <= icuCE['INTIME'] + timedelta(days=1))\n",
    "]\n"
   ]
  },
  {
   "cell_type": "code",
   "execution_count": 70,
   "id": "0a95239d",
   "metadata": {},
   "outputs": [
    {
     "ename": "KeyboardInterrupt",
     "evalue": "",
     "output_type": "error",
     "traceback": [
      "\u001b[31m---------------------------------------------------------------------------\u001b[39m",
      "\u001b[31mKeyboardInterrupt\u001b[39m                         Traceback (most recent call last)",
      "\u001b[36mCell\u001b[39m\u001b[36m \u001b[39m\u001b[32mIn[70]\u001b[39m\u001b[32m, line 24\u001b[39m\n\u001b[32m     21\u001b[39m         \u001b[38;5;28;01mreturn\u001b[39;00m \u001b[32m8\u001b[39m  \u001b[38;5;66;03m# Glucose\u001b[39;00m\n\u001b[32m     22\u001b[39m     \u001b[38;5;28;01mreturn\u001b[39;00m \u001b[38;5;28;01mNone\u001b[39;00m\n\u001b[32m---> \u001b[39m\u001b[32m24\u001b[39m icuCE[\u001b[33m'\u001b[39m\u001b[33mvitalid\u001b[39m\u001b[33m'\u001b[39m] = \u001b[43micuCE\u001b[49m\u001b[43m[\u001b[49m\u001b[33;43m'\u001b[39;49m\u001b[33;43mITEMID\u001b[39;49m\u001b[33;43m'\u001b[39;49m\u001b[43m]\u001b[49m\u001b[43m.\u001b[49m\u001b[43mapply\u001b[49m\u001b[43m(\u001b[49m\u001b[43massign_vitalid\u001b[49m\u001b[43m)\u001b[49m\n",
      "\u001b[36mFile \u001b[39m\u001b[32m/opt/homebrew/lib/python3.13/site-packages/pandas/core/series.py:4924\u001b[39m, in \u001b[36mSeries.apply\u001b[39m\u001b[34m(self, func, convert_dtype, args, by_row, **kwargs)\u001b[39m\n\u001b[32m   4789\u001b[39m \u001b[38;5;28;01mdef\u001b[39;00m\u001b[38;5;250m \u001b[39m\u001b[34mapply\u001b[39m(\n\u001b[32m   4790\u001b[39m     \u001b[38;5;28mself\u001b[39m,\n\u001b[32m   4791\u001b[39m     func: AggFuncType,\n\u001b[32m   (...)\u001b[39m\u001b[32m   4796\u001b[39m     **kwargs,\n\u001b[32m   4797\u001b[39m ) -> DataFrame | Series:\n\u001b[32m   4798\u001b[39m \u001b[38;5;250m    \u001b[39m\u001b[33;03m\"\"\"\u001b[39;00m\n\u001b[32m   4799\u001b[39m \u001b[33;03m    Invoke function on values of Series.\u001b[39;00m\n\u001b[32m   4800\u001b[39m \n\u001b[32m   (...)\u001b[39m\u001b[32m   4915\u001b[39m \u001b[33;03m    dtype: float64\u001b[39;00m\n\u001b[32m   4916\u001b[39m \u001b[33;03m    \"\"\"\u001b[39;00m\n\u001b[32m   4917\u001b[39m     \u001b[38;5;28;01mreturn\u001b[39;00m \u001b[43mSeriesApply\u001b[49m\u001b[43m(\u001b[49m\n\u001b[32m   4918\u001b[39m \u001b[43m        \u001b[49m\u001b[38;5;28;43mself\u001b[39;49m\u001b[43m,\u001b[49m\n\u001b[32m   4919\u001b[39m \u001b[43m        \u001b[49m\u001b[43mfunc\u001b[49m\u001b[43m,\u001b[49m\n\u001b[32m   4920\u001b[39m \u001b[43m        \u001b[49m\u001b[43mconvert_dtype\u001b[49m\u001b[43m=\u001b[49m\u001b[43mconvert_dtype\u001b[49m\u001b[43m,\u001b[49m\n\u001b[32m   4921\u001b[39m \u001b[43m        \u001b[49m\u001b[43mby_row\u001b[49m\u001b[43m=\u001b[49m\u001b[43mby_row\u001b[49m\u001b[43m,\u001b[49m\n\u001b[32m   4922\u001b[39m \u001b[43m        \u001b[49m\u001b[43margs\u001b[49m\u001b[43m=\u001b[49m\u001b[43margs\u001b[49m\u001b[43m,\u001b[49m\n\u001b[32m   4923\u001b[39m \u001b[43m        \u001b[49m\u001b[43mkwargs\u001b[49m\u001b[43m=\u001b[49m\u001b[43mkwargs\u001b[49m\u001b[43m,\u001b[49m\n\u001b[32m-> \u001b[39m\u001b[32m4924\u001b[39m \u001b[43m    \u001b[49m\u001b[43m)\u001b[49m\u001b[43m.\u001b[49m\u001b[43mapply\u001b[49m\u001b[43m(\u001b[49m\u001b[43m)\u001b[49m\n",
      "\u001b[36mFile \u001b[39m\u001b[32m/opt/homebrew/lib/python3.13/site-packages/pandas/core/apply.py:1427\u001b[39m, in \u001b[36mSeriesApply.apply\u001b[39m\u001b[34m(self)\u001b[39m\n\u001b[32m   1424\u001b[39m     \u001b[38;5;28;01mreturn\u001b[39;00m \u001b[38;5;28mself\u001b[39m.apply_compat()\n\u001b[32m   1426\u001b[39m \u001b[38;5;66;03m# self.func is Callable\u001b[39;00m\n\u001b[32m-> \u001b[39m\u001b[32m1427\u001b[39m \u001b[38;5;28;01mreturn\u001b[39;00m \u001b[38;5;28;43mself\u001b[39;49m\u001b[43m.\u001b[49m\u001b[43mapply_standard\u001b[49m\u001b[43m(\u001b[49m\u001b[43m)\u001b[49m\n",
      "\u001b[36mFile \u001b[39m\u001b[32m/opt/homebrew/lib/python3.13/site-packages/pandas/core/apply.py:1507\u001b[39m, in \u001b[36mSeriesApply.apply_standard\u001b[39m\u001b[34m(self)\u001b[39m\n\u001b[32m   1501\u001b[39m \u001b[38;5;66;03m# row-wise access\u001b[39;00m\n\u001b[32m   1502\u001b[39m \u001b[38;5;66;03m# apply doesn't have a `na_action` keyword and for backward compat reasons\u001b[39;00m\n\u001b[32m   1503\u001b[39m \u001b[38;5;66;03m# we need to give `na_action=\"ignore\"` for categorical data.\u001b[39;00m\n\u001b[32m   1504\u001b[39m \u001b[38;5;66;03m# TODO: remove the `na_action=\"ignore\"` when that default has been changed in\u001b[39;00m\n\u001b[32m   1505\u001b[39m \u001b[38;5;66;03m#  Categorical (GH51645).\u001b[39;00m\n\u001b[32m   1506\u001b[39m action = \u001b[33m\"\u001b[39m\u001b[33mignore\u001b[39m\u001b[33m\"\u001b[39m \u001b[38;5;28;01mif\u001b[39;00m \u001b[38;5;28misinstance\u001b[39m(obj.dtype, CategoricalDtype) \u001b[38;5;28;01melse\u001b[39;00m \u001b[38;5;28;01mNone\u001b[39;00m\n\u001b[32m-> \u001b[39m\u001b[32m1507\u001b[39m mapped = \u001b[43mobj\u001b[49m\u001b[43m.\u001b[49m\u001b[43m_map_values\u001b[49m\u001b[43m(\u001b[49m\n\u001b[32m   1508\u001b[39m \u001b[43m    \u001b[49m\u001b[43mmapper\u001b[49m\u001b[43m=\u001b[49m\u001b[43mcurried\u001b[49m\u001b[43m,\u001b[49m\u001b[43m \u001b[49m\u001b[43mna_action\u001b[49m\u001b[43m=\u001b[49m\u001b[43maction\u001b[49m\u001b[43m,\u001b[49m\u001b[43m \u001b[49m\u001b[43mconvert\u001b[49m\u001b[43m=\u001b[49m\u001b[38;5;28;43mself\u001b[39;49m\u001b[43m.\u001b[49m\u001b[43mconvert_dtype\u001b[49m\n\u001b[32m   1509\u001b[39m \u001b[43m\u001b[49m\u001b[43m)\u001b[49m\n\u001b[32m   1511\u001b[39m \u001b[38;5;28;01mif\u001b[39;00m \u001b[38;5;28mlen\u001b[39m(mapped) \u001b[38;5;129;01mand\u001b[39;00m \u001b[38;5;28misinstance\u001b[39m(mapped[\u001b[32m0\u001b[39m], ABCSeries):\n\u001b[32m   1512\u001b[39m     \u001b[38;5;66;03m# GH#43986 Need to do list(mapped) in order to get treated as nested\u001b[39;00m\n\u001b[32m   1513\u001b[39m     \u001b[38;5;66;03m#  See also GH#25959 regarding EA support\u001b[39;00m\n\u001b[32m   1514\u001b[39m     \u001b[38;5;28;01mreturn\u001b[39;00m obj._constructor_expanddim(\u001b[38;5;28mlist\u001b[39m(mapped), index=obj.index)\n",
      "\u001b[36mFile \u001b[39m\u001b[32m/opt/homebrew/lib/python3.13/site-packages/pandas/core/base.py:921\u001b[39m, in \u001b[36mIndexOpsMixin._map_values\u001b[39m\u001b[34m(self, mapper, na_action, convert)\u001b[39m\n\u001b[32m    918\u001b[39m \u001b[38;5;28;01mif\u001b[39;00m \u001b[38;5;28misinstance\u001b[39m(arr, ExtensionArray):\n\u001b[32m    919\u001b[39m     \u001b[38;5;28;01mreturn\u001b[39;00m arr.map(mapper, na_action=na_action)\n\u001b[32m--> \u001b[39m\u001b[32m921\u001b[39m \u001b[38;5;28;01mreturn\u001b[39;00m \u001b[43malgorithms\u001b[49m\u001b[43m.\u001b[49m\u001b[43mmap_array\u001b[49m\u001b[43m(\u001b[49m\u001b[43marr\u001b[49m\u001b[43m,\u001b[49m\u001b[43m \u001b[49m\u001b[43mmapper\u001b[49m\u001b[43m,\u001b[49m\u001b[43m \u001b[49m\u001b[43mna_action\u001b[49m\u001b[43m=\u001b[49m\u001b[43mna_action\u001b[49m\u001b[43m,\u001b[49m\u001b[43m \u001b[49m\u001b[43mconvert\u001b[49m\u001b[43m=\u001b[49m\u001b[43mconvert\u001b[49m\u001b[43m)\u001b[49m\n",
      "\u001b[36mFile \u001b[39m\u001b[32m/opt/homebrew/lib/python3.13/site-packages/pandas/core/algorithms.py:1743\u001b[39m, in \u001b[36mmap_array\u001b[39m\u001b[34m(arr, mapper, na_action, convert)\u001b[39m\n\u001b[32m   1741\u001b[39m values = arr.astype(\u001b[38;5;28mobject\u001b[39m, copy=\u001b[38;5;28;01mFalse\u001b[39;00m)\n\u001b[32m   1742\u001b[39m \u001b[38;5;28;01mif\u001b[39;00m na_action \u001b[38;5;129;01mis\u001b[39;00m \u001b[38;5;28;01mNone\u001b[39;00m:\n\u001b[32m-> \u001b[39m\u001b[32m1743\u001b[39m     \u001b[38;5;28;01mreturn\u001b[39;00m \u001b[43mlib\u001b[49m\u001b[43m.\u001b[49m\u001b[43mmap_infer\u001b[49m\u001b[43m(\u001b[49m\u001b[43mvalues\u001b[49m\u001b[43m,\u001b[49m\u001b[43m \u001b[49m\u001b[43mmapper\u001b[49m\u001b[43m,\u001b[49m\u001b[43m \u001b[49m\u001b[43mconvert\u001b[49m\u001b[43m=\u001b[49m\u001b[43mconvert\u001b[49m\u001b[43m)\u001b[49m\n\u001b[32m   1744\u001b[39m \u001b[38;5;28;01melse\u001b[39;00m:\n\u001b[32m   1745\u001b[39m     \u001b[38;5;28;01mreturn\u001b[39;00m lib.map_infer_mask(\n\u001b[32m   1746\u001b[39m         values, mapper, mask=isna(values).view(np.uint8), convert=convert\n\u001b[32m   1747\u001b[39m     )\n",
      "\u001b[36mFile \u001b[39m\u001b[32mlib.pyx:2972\u001b[39m, in \u001b[36mpandas._libs.lib.map_infer\u001b[39m\u001b[34m()\u001b[39m\n",
      "\u001b[36mCell\u001b[39m\u001b[36m \u001b[39m\u001b[32mIn[70]\u001b[39m\u001b[32m, line 4\u001b[39m, in \u001b[36massign_vitalid\u001b[39m\u001b[34m(itemid)\u001b[39m\n\u001b[32m      3\u001b[39m \u001b[38;5;28;01mdef\u001b[39;00m\u001b[38;5;250m \u001b[39m\u001b[34massign_vitalid\u001b[39m(itemid):\n\u001b[32m----> \u001b[39m\u001b[32m4\u001b[39m     \u001b[38;5;28;01mif\u001b[39;00m itemid \u001b[38;5;129;01min\u001b[39;00m vital_itemids[\u001b[33m'\u001b[39m\u001b[33mheartrate\u001b[39m\u001b[33m'\u001b[39m] \u001b[38;5;129;01mand\u001b[39;00m \u001b[32m0\u001b[39m < \u001b[43micuCE\u001b[49m\u001b[43m.\u001b[49m\u001b[43mloc\u001b[49m\u001b[43m[\u001b[49m\u001b[43micuCE\u001b[49m\u001b[43m[\u001b[49m\u001b[33;43m'\u001b[39;49m\u001b[33;43mITEMID\u001b[39;49m\u001b[33;43m'\u001b[39;49m\u001b[43m]\u001b[49m\u001b[43m \u001b[49m\u001b[43m==\u001b[49m\u001b[43m \u001b[49m\u001b[43mitemid\u001b[49m\u001b[43m,\u001b[49m\u001b[43m \u001b[49m\u001b[33;43m'\u001b[39;49m\u001b[33;43mVALUENUM\u001b[39;49m\u001b[33;43m'\u001b[39;49m\u001b[43m]\u001b[49m.iloc[\u001b[32m0\u001b[39m] < \u001b[32m300\u001b[39m:\n\u001b[32m      5\u001b[39m         \u001b[38;5;28;01mreturn\u001b[39;00m \u001b[32m1\u001b[39m  \u001b[38;5;66;03m# HeartRate\u001b[39;00m\n\u001b[32m      6\u001b[39m     \u001b[38;5;28;01melif\u001b[39;00m itemid \u001b[38;5;129;01min\u001b[39;00m vital_itemids[\u001b[33m'\u001b[39m\u001b[33msysbp\u001b[39m\u001b[33m'\u001b[39m] \u001b[38;5;129;01mand\u001b[39;00m \u001b[32m0\u001b[39m < icuCE.loc[icuCE[\u001b[33m'\u001b[39m\u001b[33mITEMID\u001b[39m\u001b[33m'\u001b[39m] == itemid, \u001b[33m'\u001b[39m\u001b[33mVALUENUM\u001b[39m\u001b[33m'\u001b[39m].iloc[\u001b[32m0\u001b[39m] < \u001b[32m400\u001b[39m:\n",
      "\u001b[36mFile \u001b[39m\u001b[32m/opt/homebrew/lib/python3.13/site-packages/pandas/core/indexing.py:1184\u001b[39m, in \u001b[36m_LocationIndexer.__getitem__\u001b[39m\u001b[34m(self, key)\u001b[39m\n\u001b[32m   1182\u001b[39m     \u001b[38;5;28;01mif\u001b[39;00m \u001b[38;5;28mself\u001b[39m._is_scalar_access(key):\n\u001b[32m   1183\u001b[39m         \u001b[38;5;28;01mreturn\u001b[39;00m \u001b[38;5;28mself\u001b[39m.obj._get_value(*key, takeable=\u001b[38;5;28mself\u001b[39m._takeable)\n\u001b[32m-> \u001b[39m\u001b[32m1184\u001b[39m     \u001b[38;5;28;01mreturn\u001b[39;00m \u001b[38;5;28;43mself\u001b[39;49m\u001b[43m.\u001b[49m\u001b[43m_getitem_tuple\u001b[49m\u001b[43m(\u001b[49m\u001b[43mkey\u001b[49m\u001b[43m)\u001b[49m\n\u001b[32m   1185\u001b[39m \u001b[38;5;28;01melse\u001b[39;00m:\n\u001b[32m   1186\u001b[39m     \u001b[38;5;66;03m# we by definition only have the 0th axis\u001b[39;00m\n\u001b[32m   1187\u001b[39m     axis = \u001b[38;5;28mself\u001b[39m.axis \u001b[38;5;129;01mor\u001b[39;00m \u001b[32m0\u001b[39m\n",
      "\u001b[36mFile \u001b[39m\u001b[32m/opt/homebrew/lib/python3.13/site-packages/pandas/core/indexing.py:1368\u001b[39m, in \u001b[36m_LocIndexer._getitem_tuple\u001b[39m\u001b[34m(self, tup)\u001b[39m\n\u001b[32m   1366\u001b[39m \u001b[38;5;28;01mwith\u001b[39;00m suppress(IndexingError):\n\u001b[32m   1367\u001b[39m     tup = \u001b[38;5;28mself\u001b[39m._expand_ellipsis(tup)\n\u001b[32m-> \u001b[39m\u001b[32m1368\u001b[39m     \u001b[38;5;28;01mreturn\u001b[39;00m \u001b[38;5;28;43mself\u001b[39;49m\u001b[43m.\u001b[49m\u001b[43m_getitem_lowerdim\u001b[49m\u001b[43m(\u001b[49m\u001b[43mtup\u001b[49m\u001b[43m)\u001b[49m\n\u001b[32m   1370\u001b[39m \u001b[38;5;66;03m# no multi-index, so validate all of the indexers\u001b[39;00m\n\u001b[32m   1371\u001b[39m tup = \u001b[38;5;28mself\u001b[39m._validate_tuple_indexer(tup)\n",
      "\u001b[36mFile \u001b[39m\u001b[32m/opt/homebrew/lib/python3.13/site-packages/pandas/core/indexing.py:1089\u001b[39m, in \u001b[36m_LocationIndexer._getitem_lowerdim\u001b[39m\u001b[34m(self, tup)\u001b[39m\n\u001b[32m   1087\u001b[39m             \u001b[38;5;28;01mreturn\u001b[39;00m section\n\u001b[32m   1088\u001b[39m         \u001b[38;5;66;03m# This is an elided recursive call to iloc/loc\u001b[39;00m\n\u001b[32m-> \u001b[39m\u001b[32m1089\u001b[39m         \u001b[38;5;28;01mreturn\u001b[39;00m \u001b[38;5;28;43mgetattr\u001b[39;49m\u001b[43m(\u001b[49m\u001b[43msection\u001b[49m\u001b[43m,\u001b[49m\u001b[43m \u001b[49m\u001b[38;5;28;43mself\u001b[39;49m\u001b[43m.\u001b[49m\u001b[43mname\u001b[49m\u001b[43m)\u001b[49m\u001b[43m[\u001b[49m\u001b[43mnew_key\u001b[49m\u001b[43m]\u001b[49m\n\u001b[32m   1091\u001b[39m \u001b[38;5;28;01mraise\u001b[39;00m IndexingError(\u001b[33m\"\u001b[39m\u001b[33mnot applicable\u001b[39m\u001b[33m\"\u001b[39m)\n",
      "\u001b[36mFile \u001b[39m\u001b[32m/opt/homebrew/lib/python3.13/site-packages/pandas/core/indexing.py:1191\u001b[39m, in \u001b[36m_LocationIndexer.__getitem__\u001b[39m\u001b[34m(self, key)\u001b[39m\n\u001b[32m   1189\u001b[39m maybe_callable = com.apply_if_callable(key, \u001b[38;5;28mself\u001b[39m.obj)\n\u001b[32m   1190\u001b[39m maybe_callable = \u001b[38;5;28mself\u001b[39m._check_deprecated_callable_usage(key, maybe_callable)\n\u001b[32m-> \u001b[39m\u001b[32m1191\u001b[39m \u001b[38;5;28;01mreturn\u001b[39;00m \u001b[38;5;28;43mself\u001b[39;49m\u001b[43m.\u001b[49m\u001b[43m_getitem_axis\u001b[49m\u001b[43m(\u001b[49m\u001b[43mmaybe_callable\u001b[49m\u001b[43m,\u001b[49m\u001b[43m \u001b[49m\u001b[43maxis\u001b[49m\u001b[43m=\u001b[49m\u001b[43maxis\u001b[49m\u001b[43m)\u001b[49m\n",
      "\u001b[36mFile \u001b[39m\u001b[32m/opt/homebrew/lib/python3.13/site-packages/pandas/core/indexing.py:1413\u001b[39m, in \u001b[36m_LocIndexer._getitem_axis\u001b[39m\u001b[34m(self, key, axis)\u001b[39m\n\u001b[32m   1411\u001b[39m     \u001b[38;5;28;01mreturn\u001b[39;00m \u001b[38;5;28mself\u001b[39m._get_slice_axis(key, axis=axis)\n\u001b[32m   1412\u001b[39m \u001b[38;5;28;01melif\u001b[39;00m com.is_bool_indexer(key):\n\u001b[32m-> \u001b[39m\u001b[32m1413\u001b[39m     \u001b[38;5;28;01mreturn\u001b[39;00m \u001b[38;5;28;43mself\u001b[39;49m\u001b[43m.\u001b[49m\u001b[43m_getbool_axis\u001b[49m\u001b[43m(\u001b[49m\u001b[43mkey\u001b[49m\u001b[43m,\u001b[49m\u001b[43m \u001b[49m\u001b[43maxis\u001b[49m\u001b[43m=\u001b[49m\u001b[43maxis\u001b[49m\u001b[43m)\u001b[49m\n\u001b[32m   1414\u001b[39m \u001b[38;5;28;01melif\u001b[39;00m is_list_like_indexer(key):\n\u001b[32m   1415\u001b[39m     \u001b[38;5;66;03m# an iterable multi-selection\u001b[39;00m\n\u001b[32m   1416\u001b[39m     \u001b[38;5;28;01mif\u001b[39;00m \u001b[38;5;129;01mnot\u001b[39;00m (\u001b[38;5;28misinstance\u001b[39m(key, \u001b[38;5;28mtuple\u001b[39m) \u001b[38;5;129;01mand\u001b[39;00m \u001b[38;5;28misinstance\u001b[39m(labels, MultiIndex)):\n",
      "\u001b[36mFile \u001b[39m\u001b[32m/opt/homebrew/lib/python3.13/site-packages/pandas/core/indexing.py:1211\u001b[39m, in \u001b[36m_LocationIndexer._getbool_axis\u001b[39m\u001b[34m(self, key, axis)\u001b[39m\n\u001b[32m   1209\u001b[39m key = check_bool_indexer(labels, key)\n\u001b[32m   1210\u001b[39m inds = key.nonzero()[\u001b[32m0\u001b[39m]\n\u001b[32m-> \u001b[39m\u001b[32m1211\u001b[39m \u001b[38;5;28;01mreturn\u001b[39;00m \u001b[38;5;28;43mself\u001b[39;49m\u001b[43m.\u001b[49m\u001b[43mobj\u001b[49m\u001b[43m.\u001b[49m\u001b[43m_take_with_is_copy\u001b[49m\u001b[43m(\u001b[49m\u001b[43minds\u001b[49m\u001b[43m,\u001b[49m\u001b[43m \u001b[49m\u001b[43maxis\u001b[49m\u001b[43m=\u001b[49m\u001b[43maxis\u001b[49m\u001b[43m)\u001b[49m\n",
      "\u001b[36mFile \u001b[39m\u001b[32m/opt/homebrew/lib/python3.13/site-packages/pandas/core/generic.py:4153\u001b[39m, in \u001b[36mNDFrame._take_with_is_copy\u001b[39m\u001b[34m(self, indices, axis)\u001b[39m\n\u001b[32m   4142\u001b[39m \u001b[38;5;129m@final\u001b[39m\n\u001b[32m   4143\u001b[39m \u001b[38;5;28;01mdef\u001b[39;00m\u001b[38;5;250m \u001b[39m\u001b[34m_take_with_is_copy\u001b[39m(\u001b[38;5;28mself\u001b[39m, indices, axis: Axis = \u001b[32m0\u001b[39m) -> Self:\n\u001b[32m   4144\u001b[39m \u001b[38;5;250m    \u001b[39m\u001b[33;03m\"\"\"\u001b[39;00m\n\u001b[32m   4145\u001b[39m \u001b[33;03m    Internal version of the `take` method that sets the `_is_copy`\u001b[39;00m\n\u001b[32m   4146\u001b[39m \u001b[33;03m    attribute to keep track of the parent dataframe (using in indexing\u001b[39;00m\n\u001b[32m   (...)\u001b[39m\u001b[32m   4151\u001b[39m \u001b[33;03m    See the docstring of `take` for full explanation of the parameters.\u001b[39;00m\n\u001b[32m   4152\u001b[39m \u001b[33;03m    \"\"\"\u001b[39;00m\n\u001b[32m-> \u001b[39m\u001b[32m4153\u001b[39m     result = \u001b[38;5;28;43mself\u001b[39;49m\u001b[43m.\u001b[49m\u001b[43mtake\u001b[49m\u001b[43m(\u001b[49m\u001b[43mindices\u001b[49m\u001b[43m=\u001b[49m\u001b[43mindices\u001b[49m\u001b[43m,\u001b[49m\u001b[43m \u001b[49m\u001b[43maxis\u001b[49m\u001b[43m=\u001b[49m\u001b[43maxis\u001b[49m\u001b[43m)\u001b[49m\n\u001b[32m   4154\u001b[39m     \u001b[38;5;66;03m# Maybe set copy if we didn't actually change the index.\u001b[39;00m\n\u001b[32m   4155\u001b[39m     \u001b[38;5;28;01mif\u001b[39;00m \u001b[38;5;28mself\u001b[39m.ndim == \u001b[32m2\u001b[39m \u001b[38;5;129;01mand\u001b[39;00m \u001b[38;5;129;01mnot\u001b[39;00m result._get_axis(axis).equals(\u001b[38;5;28mself\u001b[39m._get_axis(axis)):\n",
      "\u001b[36mFile \u001b[39m\u001b[32m/opt/homebrew/lib/python3.13/site-packages/pandas/core/generic.py:4133\u001b[39m, in \u001b[36mNDFrame.take\u001b[39m\u001b[34m(self, indices, axis, **kwargs)\u001b[39m\n\u001b[32m   4128\u001b[39m     \u001b[38;5;66;03m# We can get here with a slice via DataFrame.__getitem__\u001b[39;00m\n\u001b[32m   4129\u001b[39m     indices = np.arange(\n\u001b[32m   4130\u001b[39m         indices.start, indices.stop, indices.step, dtype=np.intp\n\u001b[32m   4131\u001b[39m     )\n\u001b[32m-> \u001b[39m\u001b[32m4133\u001b[39m new_data = \u001b[38;5;28;43mself\u001b[39;49m\u001b[43m.\u001b[49m\u001b[43m_mgr\u001b[49m\u001b[43m.\u001b[49m\u001b[43mtake\u001b[49m\u001b[43m(\u001b[49m\n\u001b[32m   4134\u001b[39m \u001b[43m    \u001b[49m\u001b[43mindices\u001b[49m\u001b[43m,\u001b[49m\n\u001b[32m   4135\u001b[39m \u001b[43m    \u001b[49m\u001b[43maxis\u001b[49m\u001b[43m=\u001b[49m\u001b[38;5;28;43mself\u001b[39;49m\u001b[43m.\u001b[49m\u001b[43m_get_block_manager_axis\u001b[49m\u001b[43m(\u001b[49m\u001b[43maxis\u001b[49m\u001b[43m)\u001b[49m\u001b[43m,\u001b[49m\n\u001b[32m   4136\u001b[39m \u001b[43m    \u001b[49m\u001b[43mverify\u001b[49m\u001b[43m=\u001b[49m\u001b[38;5;28;43;01mTrue\u001b[39;49;00m\u001b[43m,\u001b[49m\n\u001b[32m   4137\u001b[39m \u001b[43m\u001b[49m\u001b[43m)\u001b[49m\n\u001b[32m   4138\u001b[39m \u001b[38;5;28;01mreturn\u001b[39;00m \u001b[38;5;28mself\u001b[39m._constructor_from_mgr(new_data, axes=new_data.axes).__finalize__(\n\u001b[32m   4139\u001b[39m     \u001b[38;5;28mself\u001b[39m, method=\u001b[33m\"\u001b[39m\u001b[33mtake\u001b[39m\u001b[33m\"\u001b[39m\n\u001b[32m   4140\u001b[39m )\n",
      "\u001b[36mFile \u001b[39m\u001b[32m/opt/homebrew/lib/python3.13/site-packages/pandas/core/internals/managers.py:893\u001b[39m, in \u001b[36mBaseBlockManager.take\u001b[39m\u001b[34m(self, indexer, axis, verify)\u001b[39m\n\u001b[32m    890\u001b[39m n = \u001b[38;5;28mself\u001b[39m.shape[axis]\n\u001b[32m    891\u001b[39m indexer = maybe_convert_indices(indexer, n, verify=verify)\n\u001b[32m--> \u001b[39m\u001b[32m893\u001b[39m new_labels = \u001b[38;5;28;43mself\u001b[39;49m\u001b[43m.\u001b[49m\u001b[43maxes\u001b[49m\u001b[43m[\u001b[49m\u001b[43maxis\u001b[49m\u001b[43m]\u001b[49m\u001b[43m.\u001b[49m\u001b[43mtake\u001b[49m\u001b[43m(\u001b[49m\u001b[43mindexer\u001b[49m\u001b[43m)\u001b[49m\n\u001b[32m    894\u001b[39m \u001b[38;5;28;01mreturn\u001b[39;00m \u001b[38;5;28mself\u001b[39m.reindex_indexer(\n\u001b[32m    895\u001b[39m     new_axis=new_labels,\n\u001b[32m    896\u001b[39m     indexer=indexer,\n\u001b[32m   (...)\u001b[39m\u001b[32m    899\u001b[39m     copy=\u001b[38;5;28;01mNone\u001b[39;00m,\n\u001b[32m    900\u001b[39m )\n",
      "\u001b[36mFile \u001b[39m\u001b[32m/opt/homebrew/lib/python3.13/site-packages/pandas/core/indexes/base.py:1166\u001b[39m, in \u001b[36mIndex.take\u001b[39m\u001b[34m(self, indices, axis, allow_fill, fill_value, **kwargs)\u001b[39m\n\u001b[32m   1164\u001b[39m values = \u001b[38;5;28mself\u001b[39m._values\n\u001b[32m   1165\u001b[39m \u001b[38;5;28;01mif\u001b[39;00m \u001b[38;5;28misinstance\u001b[39m(values, np.ndarray):\n\u001b[32m-> \u001b[39m\u001b[32m1166\u001b[39m     taken = \u001b[43malgos\u001b[49m\u001b[43m.\u001b[49m\u001b[43mtake\u001b[49m\u001b[43m(\u001b[49m\n\u001b[32m   1167\u001b[39m \u001b[43m        \u001b[49m\u001b[43mvalues\u001b[49m\u001b[43m,\u001b[49m\u001b[43m \u001b[49m\u001b[43mindices\u001b[49m\u001b[43m,\u001b[49m\u001b[43m \u001b[49m\u001b[43mallow_fill\u001b[49m\u001b[43m=\u001b[49m\u001b[43mallow_fill\u001b[49m\u001b[43m,\u001b[49m\u001b[43m \u001b[49m\u001b[43mfill_value\u001b[49m\u001b[43m=\u001b[49m\u001b[38;5;28;43mself\u001b[39;49m\u001b[43m.\u001b[49m\u001b[43m_na_value\u001b[49m\n\u001b[32m   1168\u001b[39m \u001b[43m    \u001b[49m\u001b[43m)\u001b[49m\n\u001b[32m   1169\u001b[39m \u001b[38;5;28;01melse\u001b[39;00m:\n\u001b[32m   1170\u001b[39m     \u001b[38;5;66;03m# algos.take passes 'axis' keyword which not all EAs accept\u001b[39;00m\n\u001b[32m   1171\u001b[39m     taken = values.take(\n\u001b[32m   1172\u001b[39m         indices, allow_fill=allow_fill, fill_value=\u001b[38;5;28mself\u001b[39m._na_value\n\u001b[32m   1173\u001b[39m     )\n",
      "\u001b[36mFile \u001b[39m\u001b[32m/opt/homebrew/lib/python3.13/site-packages/pandas/core/algorithms.py:1239\u001b[39m, in \u001b[36mtake\u001b[39m\u001b[34m(arr, indices, axis, allow_fill, fill_value)\u001b[39m\n\u001b[32m   1234\u001b[39m     result = take_nd(\n\u001b[32m   1235\u001b[39m         arr, indices, axis=axis, allow_fill=\u001b[38;5;28;01mTrue\u001b[39;00m, fill_value=fill_value\n\u001b[32m   1236\u001b[39m     )\n\u001b[32m   1237\u001b[39m \u001b[38;5;28;01melse\u001b[39;00m:\n\u001b[32m   1238\u001b[39m     \u001b[38;5;66;03m# NumPy style\u001b[39;00m\n\u001b[32m-> \u001b[39m\u001b[32m1239\u001b[39m     result = \u001b[43marr\u001b[49m\u001b[43m.\u001b[49m\u001b[43mtake\u001b[49m\u001b[43m(\u001b[49m\u001b[43mindices\u001b[49m\u001b[43m,\u001b[49m\u001b[43m \u001b[49m\u001b[43maxis\u001b[49m\u001b[43m=\u001b[49m\u001b[43maxis\u001b[49m\u001b[43m)\u001b[49m\n\u001b[32m   1240\u001b[39m \u001b[38;5;28;01mreturn\u001b[39;00m result\n",
      "\u001b[31mKeyboardInterrupt\u001b[39m: "
     ]
    }
   ],
   "source": [
    "# Assign VitalID based on itemid\n",
    "# returns the first VALUENUM for the given itemid\n",
    "def assign_vitalid(itemid):\n",
    "    if itemid in vital_itemids['heartrate'] and 0 < icuCE.loc[icuCE['ITEMID'] == itemid, 'VALUENUM'].iloc[0] < 300:\n",
    "        return 1  # HeartRate\n",
    "    elif itemid in vital_itemids['sysbp'] and 0 < icuCE.loc[icuCE['ITEMID'] == itemid, 'VALUENUM'].iloc[0] < 400:\n",
    "        return 2  # SysBP\n",
    "    elif itemid in vital_itemids['diasbp'] and 0 < icuCE.loc[icuCE['ITEMID'] == itemid, 'VALUENUM'].iloc[0] < 300:\n",
    "        return 3  # DiasBP\n",
    "    elif itemid in vital_itemids['meanbp'] and 0 < icuCE.loc[icuCE['ITEMID'] == itemid, 'VALUENUM'].iloc[0] < 300:\n",
    "        return 4  # MeanBP\n",
    "    elif itemid in vital_itemids['resprate'] and 0 < icuCE.loc[icuCE['ITEMID'] == itemid, 'VALUENUM'].iloc[0] < 70:\n",
    "        return 5  # RespRate\n",
    "    elif itemid in vital_itemids['tempc'] and 10 < icuCE.loc[icuCE['ITEMID'] == itemid, 'VALUENUM'].iloc[0] < 50:\n",
    "        return 6  # TempC\n",
    "    elif itemid in vital_itemids['tempf'] and 70 < icuCE.loc[icuCE['ITEMID'] == itemid, 'VALUENUM'].iloc[0] < 120:\n",
    "        return 6  # TempF (will be converted to Celsius)\n",
    "    elif itemid in vital_itemids['spo2'] and 0 < icuCE.loc[icuCE['ITEMID'] == itemid, 'VALUENUM'].iloc[0] <= 100:\n",
    "        return 7  # SpO2\n",
    "    elif itemid in vital_itemids['glucose'] and icuCE.loc[icuCE['ITEMID'] == itemid, 'VALUENUM'].iloc[0] > 0:\n",
    "        return 8  # Glucose\n",
    "    return None\n",
    "\n",
    "icuCE['vitalid'] = icuCE['ITEMID'].apply(assign_vitalid)"
   ]
  },
  {
   "cell_type": "code",
   "execution_count": null,
   "id": "2073b990",
   "metadata": {},
   "outputs": [],
   "source": [
    "# Convert Fahrenheit to Celsius for tempf items\n",
    "icuCE['VALUENUM'] = icuCE.apply(\n",
    "    lambda row: (row['VALUENUM'] - 32) / 1.8 if row['ITEMID'] in vital_itemids['tempf'] else row['VALUENUM'],\n",
    "    axis=1\n",
    ")\n",
    "\n",
    "# Filter out rows where vitalid is None\n",
    "icuCE = icuCE[icuCE['vitalid'].notna()]\n",
    "\n",
    "# Pivot table to calculate min, max, mean for each vital sign\n",
    "pivot_df = icuCE.pivot_table(\n",
    "    values='VALUENUM',\n",
    "    index=['SUBJECT_ID', 'HADM_ID', 'ICUSTAY_ID'],\n",
    "    columns='vitalid',\n",
    "    aggfunc=['min', 'max', 'mean']\n",
    ")\n",
    "\n",
    "# Flatten multi-level column names\n",
    "pivot_df.columns = [\n",
    "    f\"{vital}_{agg}\" for agg, vital_id in pivot_df.columns\n",
    "    for vital in [\n",
    "        'heartrate' if vital_id == 1 else\n",
    "        'sysbp' if vital_id == 2 else\n",
    "        'diasbp' if vital_id == 3 else\n",
    "        'meanbp' if vital_id == 4 else\n",
    "        'resprate' if vital_id == 5 else\n",
    "        'tempc' if vital_id == 6 else\n",
    "        'spo2' if vital_id == 7 else\n",
    "        'glucose' if vital_id == 8 else ''\n",
    "    ]\n",
    "]\n",
    "\n",
    "result = pivot_df.reset_index()\n",
    "\n",
    "result = result.sort_values(['SUBJECT_ID', 'HADM_ID', 'ICUSTAY_ID'])\n",
    "\n",
    "columns = [\n",
    "    'SUBJECT_ID', 'HADM_ID', 'ICUSTAY_ID',\n",
    "    'heartrate_min', 'heartrate_max', 'heartrate_mean',\n",
    "    'sysbp_min', 'sysbp_max', 'sysbp_mean',\n",
    "    'diasbp_min', 'diasbp_max', 'diasbp_mean',\n",
    "    'meanbp_min', 'meanbp_max', 'meanbp_mean',\n",
    "    'resprate_min', 'resprate_max', 'resprate_mean',\n",
    "    'tempc_min', 'tempc_max', 'tempc_mean',\n",
    "    'spo2_min', 'spo2_max', 'spo2_mean',\n",
    "    'glucose_min', 'glucose_max', 'glucose_mean'\n",
    "]\n",
    "\n",
    "vitalsOnDay1 = result[columns]\n",
    "\n",
    "vitalsOnDay1"
   ]
  },
  {
   "cell_type": "markdown",
   "id": "e605344f",
   "metadata": {},
   "source": [
    "#### Lab values in first day\n",
    "\n",
    "Ref : https://pages.doit.wisc.edu/JLMARTIN22/mimic-code/-/blob/anticoag/mimic-iii/concepts/firstday/labs_first_day.sql?ref_type=heads"
   ]
  },
  {
   "cell_type": "code",
   "execution_count": null,
   "id": "7ab5651c",
   "metadata": {},
   "outputs": [],
   "source": [
    "labEvents = dfs['LABEVENTS.csv']"
   ]
  },
  {
   "cell_type": "code",
   "execution_count": null,
   "id": "da3bab8b",
   "metadata": {},
   "outputs": [],
   "source": [
    "# Define lab ITEMIDs and their corresponding labels\n",
    "lab_itemids = {\n",
    "    'ANION GAP': [50868],\n",
    "    'ALBUMIN': [50862],\n",
    "    'BANDS': [51144],\n",
    "    'BICARBONATE': [50882],\n",
    "    'BILIRUBIN': [50885],\n",
    "    'CREATININE': [50912],\n",
    "    'CHLORIDE': [50902, 50806],\n",
    "    'GLUCOSE': [50931, 50809],\n",
    "    'HEMATOCRIT': [51221, 50810],\n",
    "    'HEMOGLOBIN': [51222, 50811],\n",
    "    'LACTATE': [50813],\n",
    "    'PLATELET': [51265],\n",
    "    'POTASSIUM': [50971, 50822],\n",
    "    'PTT': [51275],\n",
    "    'INR': [51237],\n",
    "    'PT': [51274],\n",
    "    'SODIUM': [50983, 50824],\n",
    "    'BUN': [51006],\n",
    "    'WBC': [51301, 51300]\n",
    "}\n",
    "\n",
    "# Flatten itemids for filtering\n",
    "all_labitemids = [item for sublist in lab_itemids.values() for item in sublist]\n",
    "\n",
    "# Define sanity check thresholds\n",
    "sanity_checks = {\n",
    "    50862: (None, 10),       # ALBUMIN: <= 10 g/dL\n",
    "    50868: (None, 10000),    # ANION GAP: <= 10000 mEq/L\n",
    "    51144: (0, 100),         # BANDS: 0 to 100 %\n",
    "    50882: (None, 10000),    # BICARBONATE: <= 10000 mEq/L\n",
    "    50885: (None, 150),      # BILIRUBIN: <= 150 mg/dL\n",
    "    50902: (None, 10000),    # CHLORIDE: <= 10000 mEq/L\n",
    "    50806: (None, 10000),    # CHLORIDE: <= 10000 mEq/L\n",
    "    50912: (None, 150),      # CREATININE: <= 150 mg/dL\n",
    "    50931: (None, 10000),    # GLUCOSE: <= 10000 mg/dL\n",
    "    50809: (None, 10000),    # GLUCOSE: <= 10000 mg/dL\n",
    "    51221: (None, 100),      # HEMATOCRIT: <= 100 %\n",
    "    50810: (None, 100),      # HEMATOCRIT: <= 100 %\n",
    "    51222: (None, 50),       # HEMOGLOBIN: <= 50 g/dL\n",
    "    50811: (None, 50),       # HEMOGLOBIN: <= 50 g/dL\n",
    "    50813: (None, 50),       # LACTATE: <= 50 mmol/L\n",
    "    51265: (None, 10000),    # PLATELET: <= 10000 K/uL\n",
    "    50971: (None, 30),       # POTASSIUM: <= 30 mEq/L\n",
    "    50822: (None, 30),       # POTASSIUM: <= 30 mEq/L\n",
    "    51275: (None, 150),      # PTT: <= 150 sec\n",
    "    51237: (None, 50),       # INR: <= 50\n",
    "    51274: (None, 150),      # PT: <= 150 sec\n",
    "    50983: (None, 200),      # SODIUM: <= 200 mEq/L\n",
    "    50824: (None, 200),      # SODIUM: <= 200 mEq/L\n",
    "    51006: (None, 300),      # BUN: <= 300\n",
    "    51301: (None, 1000),     # WBC: <= 1000\n",
    "    51300: (None, 1000)      # WBC: <= 1000\n",
    "}"
   ]
  },
  {
   "cell_type": "code",
   "execution_count": null,
   "id": "facfd0f5",
   "metadata": {},
   "outputs": [],
   "source": [
    "le_filtered = labEvents[\n",
    "    (labEvents['ITEMIDS'].isin(all_labitemids)) &\n",
    "    (labEvents['VALUENUM'].notna()) &\n",
    "    (labEvents['VALUENUM'] > 0)\n",
    "]\n",
    "\n",
    "# Apply sanity checks\n",
    "for itemid, (min_val, max_val) in sanity_checks.items():\n",
    "    if min_val is not None:\n",
    "        le_filtered = le_filtered[\n",
    "            ~((le_filtered['ITEMID'] == itemid) & (le_filtered['VALUENUM'] < min_val))\n",
    "        ]\n",
    "    if max_val is not None:\n",
    "        le_filtered = le_filtered[\n",
    "            ~((le_filtered['ITEMID'] == itemid) & (le_filtered['VALUENUM'] > max_val))\n",
    "        ]\n",
    "\n",
    "# Assign labels to ITEMIDs\n",
    "def assign_label(itemid):\n",
    "    for label, itemids in lab_itemids.items():\n",
    "        if itemid in itemids:\n",
    "            return label\n",
    "    return None\n",
    "\n",
    "le_filtered['label'] = le_filtered['ITEMID'].apply(assign_label)"
   ]
  },
  {
   "cell_type": "code",
   "execution_count": null,
   "id": "d99d7a87",
   "metadata": {},
   "outputs": [],
   "source": [
    "icuLabEvents = icustays.merge(le_filtered, on=['SUBJECT_ID', 'HADM_ID', 'ICUSTAY_ID'], suffixes=['','_LE'], how='left')\n",
    "\n",
    "icuLabEvents['CHARTTIME'] = pd.to_datetime(icuLabEvents['CHARTTIME'])\n",
    "icuLabEvents['INTIME'] = pd.to_datetime(icuLabEvents['INTIME'])\n",
    "\n",
    "# Filter for CHARTTIME within 6 hours before INTIME to 1 day after INTIME\n",
    "icuLabEvents = icuLabEvents[\n",
    "    (icuLabEvents['CHARTTIME'] >= icuLabEvents['INTIME'] - timedelta(hours=6)) &\n",
    "    (icuLabEvents['CHARTTIME'] <= icuLabEvents['INTIME'] + timedelta(days=1))\n",
    "]\n",
    "\n",
    "# Pivot to calculate min and max for each lab measurement\n",
    "pivot_df = icuLabEvents.pivot_table(\n",
    "    values='VALUENUM',\n",
    "    index=['SUBJECT_ID', 'HADM_ID', 'ICUSTAY_ID'],\n",
    "    columns='label',\n",
    "    aggfunc=['min', 'max']\n",
    ")\n",
    "\n",
    "# Flatten multi-level column names\n",
    "pivot_df.columns = [f\"{label.lower()}_{agg}\" for agg, label in pivot_df.columns]\n",
    "\n",
    "# Reset index to make subject_id, hadm_id, icustay_id columns\n",
    "result = pivot_df.reset_index()\n",
    "result = result.sort_values(['subject_id', 'hadm_id', 'icustay_id'])\n",
    "\n",
    "columns = [\n",
    "    'subject_id', 'hadm_id', 'icustay_id',\n",
    "    'aniongap_min', 'aniongap_max',\n",
    "    'albumin_min', 'albumin_max',\n",
    "    'bands_min', 'bands_max',\n",
    "    'bicarbonate_min', 'bicarbonate_max',\n",
    "    'bilirubin_min', 'bilirubin_max',\n",
    "    'creatinine_min', 'creatinine_max',\n",
    "    'chloride_min', 'chloride_max',\n",
    "    'glucose_min', 'glucose_max',\n",
    "    'hematocrit_min', 'hematocrit_max',\n",
    "    'hemoglobin_min', 'hemoglobin_max',\n",
    "    'lactate_min', 'lactate_max',\n",
    "    'platelet_min', 'platelet_max',\n",
    "    'potassium_min', 'potassium_max',\n",
    "    'ptt_min', 'ptt_max',\n",
    "    'inr_min', 'inr_max',\n",
    "    'pt_min', 'pt_max',\n",
    "    'sodium_min', 'sodium_max',\n",
    "    'bun_min', 'bun_max',\n",
    "    'wbc_min', 'wbc_max'\n",
    "]\n",
    "\n",
    "labEventsOnDay1 = result[columns]\n",
    "print(labEventsOnDay1)"
   ]
  },
  {
   "cell_type": "markdown",
   "id": "87f6df48",
   "metadata": {},
   "source": [
    "#### Glasgow Coma Scale (GCS) on first day"
   ]
  },
  {
   "cell_type": "code",
   "execution_count": null,
   "id": "36559548",
   "metadata": {},
   "outputs": [],
   "source": [
    "gcs_itemids = {\n",
    "    'GCSVerbal': [723, 223900],  # CareVue: 723, MetaVision: 223900\n",
    "    'GCSMotor': [454, 223901],   # CareVue: 454, MetaVision: 223901\n",
    "    'GCSEyes': [184, 220739]     # CareVue: 184, MetaVision: 220739\n",
    "}\n",
    "\n",
    "all_gcsitemids = [item for sublist in gcs_itemids.values() for item in sublist]\n",
    "\n",
    "gcsce_filtered = chartEvents[\n",
    "    (chartEvents['ITEMID'].isin(all_itemids)) &\n",
    "    (chartEvents['ERROR'].isna() | (chartEvents['ERROR'] == 0))\n",
    "]"
   ]
  },
  {
   "cell_type": "code",
   "execution_count": null,
   "id": "43984dae",
   "metadata": {},
   "outputs": [],
   "source": [
    "def map_itemid(itemid):\n",
    "    if itemid in [723, 223900]:\n",
    "        return 723  # GCSVerbal\n",
    "    elif itemid in [454, 223901]:\n",
    "        return 454  # GCSMotor\n",
    "    elif itemid in [184, 220739]:\n",
    "        return 184  # GCSEyes\n",
    "    return itemid"
   ]
  },
  {
   "cell_type": "code",
   "execution_count": null,
   "id": "d1173627",
   "metadata": {},
   "outputs": [],
   "source": [
    "gcsce_filtered['ITEMID_mapped'] = ce_filtered['ITEMID'].apply(map_itemid)"
   ]
  },
  {
   "cell_type": "code",
   "execution_count": null,
   "id": "80f7e926",
   "metadata": {},
   "outputs": [],
   "source": [
    "# Convert VALUENUM, setting endotracheal/trach to 0\n",
    "def convert_valuenum(row):\n",
    "    if row['ITEM'] == 723 and row['VALUE'] == '1.0 ET/Trach':\n",
    "        return 0\n",
    "    elif row['ITEM'] == 223900 and row['VALUE'] == 'No Response-ETT':\n",
    "        return 0\n",
    "    return row['VALUENUM']\n",
    "\n",
    "gcsce_filtered['VALUENUM'] = gcsce_filtered.apply(convert_valuenum, axis=1)"
   ]
  },
  {
   "cell_type": "code",
   "execution_count": null,
   "id": "413153af",
   "metadata": {},
   "outputs": [],
   "source": [
    "gcsceIcu = icustays.merge(gcsce_filtered, on=['SUBJECT_ID','HADM_ID','ICUSTAY_ID'], suffixes=['','_GCSCE'], how='left')\n",
    "\n",
    "gcsceIcu['CHARTTIME'] = pd.to_datetime(gcsceIcu['CHARTTIME'])\n",
    "gcsceIcu['INTIME'] = pd.to_datetime(gcsceIcu['INTIME'])\n",
    "\n",
    "# Filter for CHARTTIME within first 24 hours\n",
    "gcsceIcu24 = gcsceIcu[\n",
    "    (gcsceIcu['CHARTTIME'] >= gcsceIcu['INTIME']) &\n",
    "    (gcsceIcu['CHARTTIME'] <= gcsceIcu['INTIME'] + timedelta(days=1))\n",
    "]\n",
    "\n",
    "# Pivot to get GCS components per charttime\n",
    "pivot_df = gcsceIcu24.pivot_table(\n",
    "    values='VALUENUM',\n",
    "    index=['ICUSTAY_ID', 'CHARTTIME'],\n",
    "    columns='ITEMID_mapped',\n",
    "    aggfunc='max'\n",
    ").reset_index()\n",
    "\n",
    "pivot_df.columns = ['icustay_id', 'charttime', 'GCSEyes', 'GCSMotor', 'GCSVerbal']"
   ]
  },
  {
   "cell_type": "code",
   "execution_count": null,
   "id": "cfc8c46c",
   "metadata": {},
   "outputs": [],
   "source": [
    "# Create EndoTrachFlag (1 if GCSVerbal = 0, else 0)\n",
    "pivot_df['EndoTrachFlag'] = (pivot_df['GCSVerbal'] == 0).astype(int)\n",
    "\n",
    "# Add row number per ICUSTAY_ID, ordered by CHARTTIME\n",
    "pivot_df['rn'] = pivot_df.groupby('ICUSTAY_ID')['CHARTTIME'].rank(method='first').astype(int)\n",
    "\n",
    "# Self-join to get previous values within 6 hours\n",
    "pivot_df_shifted = pivot_df.copy()\n",
    "pivot_df_shifted['rn'] = pivot_df_shifted['rn'] - 1\n",
    "\n",
    "gcs_df = pd.merge(\n",
    "    pivot_df,\n",
    "    pivot_df_shifted[['ICUSTAY_ID', 'rn', 'CHARTTIME', 'GCSVerbal', 'GCSMotor', 'GCSEyes']],\n",
    "    on=['ICUSTAY_ID', 'rn'],\n",
    "    how='left',\n",
    "    suffixes=('', '_Prev')\n",
    ")\n",
    "\n",
    "# Filter for previous CHARTTIME within 6 hours\n",
    "gcs_df = gcs_df[\n",
    "    (gcs_df['CHARTTIME_Prev'].isna()) |\n",
    "    (gcs_df['CHARTTIME_Prev'] > gcs_df['CHARTTIME'] - timedelta(hours=6))\n",
    "]"
   ]
  },
  {
   "cell_type": "code",
   "execution_count": null,
   "id": "eed892df",
   "metadata": {},
   "outputs": [],
   "source": [
    "# Calculate GCS with special handling for intubated patients\n",
    "def calculate_gcs(row):\n",
    "    if row['GCSVerbal'] == 0 or (pd.isna(row['GCSVerbal']) and row['GCSVerbal_Prev'] == 0):\n",
    "        return 15  # Sedated/intubated patients get GCS of 15\n",
    "    elif row['GCSVerbal_Prev'] == 0:\n",
    "        return (\n",
    "            (row['GCSMotor'] if pd.notna(row['GCSMotor']) else 6) +\n",
    "            (row['GCSVerbal'] if pd.notna(row['GCSVerbal']) else 5) +\n",
    "            (row['GCSEyes'] if pd.notna(row['GCSEyes']) else 4)\n",
    "        )\n",
    "    else:\n",
    "        return (\n",
    "            (row['GCSMotor'] if pd.notna(row['GCSMotor']) else row['GCSMotor_Prev'] if pd.notna(row['GCSMotor_Prev']) else 6) +\n",
    "            (row['GCSVerbal'] if pd.notna(row['GCSVerbal']) else row['GCSVerbal_Prev'] if pd.notna(row['GCSVerbal_Prev']) else 5) +\n",
    "            (row['GCSEyes'] if pd.notna(row['GCSEyes']) else row['GCSEyes_Prev'] if pd.notna(row['GCSEyes_Prev']) else 4)\n",
    "        )\n",
    "\n",
    "gcs_df['GCS'] = gcs_df.apply(calculate_gcs, axis=1)"
   ]
  },
  {
   "cell_type": "code",
   "execution_count": null,
   "id": "105297ed",
   "metadata": {},
   "outputs": [],
   "source": [
    "# Identify minimum GCS per icustay_id\n",
    "gcs_df['IsMinGCS'] = gcs_df.groupby('icustay_id')['GCS'].rank(method='min').astype(int)\n",
    "\n",
    "# Filter for minimum GCS\n",
    "gcs_final = gcs_df[gcs_df['IsMinGCS'] == 1]\n",
    "\n",
    "# Select final columns and merge with icustays\n",
    "icuGcs = icustays.merge(gcs_final, on='ICUSTAY_ID', how='left')\n",
    "\n",
    "# Coalesce current and previous GCS components\n",
    "icuGcs['gcsmotor'] = icuGcs['GCSMotor'].combine_first(icuGcs['GCSMotor_Prev'])\n",
    "icuGcs['gcsverbal'] = icuGcs['GCSVerbal'].combine_first(icuGcs['GCSVerbal_Prev'])\n",
    "icuGcs['gcseyes'] = icuGcs['GCSEyes'].combine_first(icuGcs['GCSEyes_Prev'])\n",
    "\n",
    "# Select and rename final columns\n",
    "icuGcs = icuGcs[['SUBJECT_ID', 'HADM_ID', 'ICUSTAY_ID', 'GCS', 'gcsmotor', 'gcsverbal', 'gcseyes', 'EndoTrachFlag']]\n",
    "icuGcs = icuGcs.rename(columns={'GCS': 'min_gcs', 'EndoTrachFlag': 'endotrach_flag'})\n",
    "\n",
    "# Sort by icustay_id\n",
    "icuGcs = icuGcs.sort_values('icustay_id')\n",
    "\n",
    "print(icuGcs)"
   ]
  },
  {
   "cell_type": "markdown",
   "id": "346c58f1",
   "metadata": {},
   "source": [
    "#### First day blood gas"
   ]
  },
  {
   "cell_type": "code",
   "execution_count": null,
   "id": "63552ceb",
   "metadata": {},
   "outputs": [],
   "source": [
    "blood_gas_itemids = {\n",
    "    'SPECIMEN': [50800],\n",
    "    'AADO2': [50801],\n",
    "    'BASEEXCESS': [50802],\n",
    "    'BICARBONATE': [50803],\n",
    "    'TOTALCO2': [50804],\n",
    "    'CARBOXYHEMOGLOBIN': [50805],\n",
    "    'CHLORIDE': [50806],\n",
    "    'CALCIUM': [50808],\n",
    "    'GLUCOSE': [50809],\n",
    "    'HEMATOCRIT': [50810],\n",
    "    'HEMOGLOBIN': [50811],\n",
    "    'INTUBATED': [50812],\n",
    "    'LACTATE': [50813],\n",
    "    'METHEMOGLOBIN': [50814],\n",
    "    'O2FLOW': [50815],\n",
    "    'FIO2': [50816],\n",
    "    'SO2': [50817],  # OXYGENSATURATION\n",
    "    'PCO2': [50818],\n",
    "    'PEEP': [50819],\n",
    "    'PH': [50820],\n",
    "    'PO2': [50821],\n",
    "    'POTASSIUM': [50822],\n",
    "    'REQUIREDO2': [50823],\n",
    "    'SODIUM': [50824],\n",
    "    'TEMPERATURE': [50825],\n",
    "    'TIDALVOLUME': [50826],\n",
    "    'VENTILATIONRATE': [50827],\n",
    "    'VENTILATOR': [50828]\n",
    "}\n",
    "\n",
    "all_bgitemids = [item for sublist in blood_gas_itemids.values() for item in sublist] + [51545]\n",
    "\n",
    "lebg_filtered = labEvents[labEvents['ITEMID'].isin(all_itemids)]"
   ]
  },
  {
   "cell_type": "code",
   "execution_count": null,
   "id": "35da7859",
   "metadata": {},
   "outputs": [],
   "source": [
    "sanity_checks = {\n",
    "    50810: (None, 100),    # HEMATOCRIT: <= 100\n",
    "    50816: (20, 100),      # FIO2: 20 to 100\n",
    "    50817: (None, 100),    # SO2: <= 100\n",
    "    50815: (None, 70),     # O2FLOW: <= 70\n",
    "    50821: (None, 800)     # PO2: <= 800\n",
    "}\n",
    "\n",
    "# Apply sanity checks and filter out non-positive VALUENUM (except for BASEEXCESS)\n",
    "lebg_filtered = lebg_filtered[lebg_filtered['VALUENUM'].notna()]\n",
    "for itemid, (min_val, max_val) in sanity_checks.items():\n",
    "    if min_val is not None:\n",
    "        lebg_filtered = lebg_filtered[\n",
    "            ~((lebg_filtered['ITEMID'] == itemid) & (lebg_filtered['VALUENUM'] < min_val))\n",
    "        ]\n",
    "    if max_val is not None:\n",
    "        lebg_filtered = lebg_filtered[\n",
    "            ~((lebg_filtered['ITEMID'] == itemid) & (lebg_filtered['VALUENUM'] > max_val))\n",
    "        ]\n",
    "\n",
    "# Allow negative values for BASEEXCESS (itemid 50802), otherwise VALUENUM > 0\n",
    "lebg_filtered = lebg_filtered[\n",
    "    (lebg_filtered['ITEMID'] == 50802) | (lebg_filtered['VALUENUM'] > 0)\n",
    "]"
   ]
  },
  {
   "cell_type": "code",
   "execution_count": null,
   "id": "7091dca4",
   "metadata": {},
   "outputs": [],
   "source": [
    "def assign_label(itemid):\n",
    "    for label, itemids in blood_gas_itemids.items():\n",
    "        if itemid in itemids:\n",
    "            return label\n",
    "    return None\n",
    "\n",
    "lebg_filtered['label'] = lebg_filtered['ITEMID'].apply(assign_label)"
   ]
  },
  {
   "cell_type": "code",
   "execution_count": null,
   "id": "670fc14c",
   "metadata": {},
   "outputs": [],
   "source": [
    "icu_lebg = icustays.merge(lebg_filtered, on=['SUBJECT_ID','HADM_ID','ICUSTAY_ID'], suffixes=['','_BG'], how='left')"
   ]
  },
  {
   "cell_type": "code",
   "execution_count": null,
   "id": "9d3bba9f",
   "metadata": {},
   "outputs": [],
   "source": [
    "# Ensure datetime columns are in datetime format\n",
    "icu_lebg['CHARTTIME'] = pd.to_datetime(icu_lebg['CHARTTIME'])\n",
    "icu_lebg['INTIME'] = pd.to_datetime(icu_lebg['INTIME'])\n",
    "\n",
    "# Filter for CHARTTIME within 6 hours before INTIME to 1 day after INTIME\n",
    "icu_lebg = icu_lebg[\n",
    "    (icu_lebg['CHARTTIME'] >= icu_lebg['INTIME'] - timedelta(hours=6)) &\n",
    "    (icu_lebg['CHARTTIME'] <= icu_lebg['INTIME'] + timedelta(days=1))\n",
    "]"
   ]
  },
  {
   "cell_type": "code",
   "execution_count": null,
   "id": "8a9395aa",
   "metadata": {},
   "outputs": [],
   "source": [
    "blood_gas_first_day = icu_lebg.pivot_table(\n",
    "    values=['VALUE', 'VALUENUM'],\n",
    "    index=['SUBJECT_ID', 'HADM_ID', 'ICUSTAY_ID', 'CHARTTIME'],\n",
    "    columns='label',\n",
    "    aggfunc={'VALUE': 'max', 'VALUENUM': 'max'}\n",
    ").reset_index()"
   ]
  },
  {
   "cell_type": "code",
   "execution_count": null,
   "id": "86daa7ae",
   "metadata": {},
   "outputs": [],
   "source": [
    "blood_gas_first_day.columns = [\n",
    "    col[0] if col[1] == '' else col[1].lower() if col[0] == 'VALUENUM' else col[1].lower()\n",
    "    for col in blood_gas_first_day.columns\n",
    "]"
   ]
  },
  {
   "cell_type": "code",
   "execution_count": null,
   "id": "d63278a9",
   "metadata": {},
   "outputs": [],
   "source": [
    "columns = [\n",
    "    'subject_id', 'hadm_id', 'icustay_id', 'charttime',\n",
    "    'specimen', 'aado2', 'baseexcess', 'bicarbonate', 'totalco2', 'carboxyhemoglobin',\n",
    "    'chloride', 'calcium', 'glucose', 'hematocrit', 'hemoglobin', 'intubated',\n",
    "    'lactate', 'methemoglobin', 'o2flow', 'fio2', 'so2', 'pco2', 'peep', 'ph',\n",
    "    'po2', 'potassium', 'requiredo2', 'sodium', 'temperature', 'tidalvolume',\n",
    "    'ventilationrate', 'ventilator'\n",
    "]\n",
    "blood_gas_first_day = blood_gas_first_day[columns]\n",
    "\n",
    "print(blood_gas_first_day)"
   ]
  },
  {
   "cell_type": "markdown",
   "id": "84a1e127",
   "metadata": {},
   "source": [
    "#### Blood Gas Arterial"
   ]
  },
  {
   "cell_type": "code",
   "execution_count": null,
   "id": "8497b910",
   "metadata": {},
   "outputs": [],
   "source": [
    "spo2_itemids = [646, 220277]  # SpO2, O2 saturation pulseoxymetry\n",
    "stg_spo2 = chartEvents[chartEvents['ITEMID'].isin(spo2_itemids)]\n",
    "stg_spo2 = stg_spo2[['SUBJECT_ID', 'HADM_ID', 'ICUSTAY_ID', 'CHARTTIME', 'VALUENUM']]\n",
    "stg_spo2.columns = [col.lower() for col in stg_spo2.columns]"
   ]
  },
  {
   "cell_type": "code",
   "execution_count": null,
   "id": "7e966122",
   "metadata": {},
   "outputs": [],
   "source": [
    "# Filter out invalid SpO2 values (≤ 0 or > 100)\n",
    "stg_spo2 = stg_spo2[\n",
    "    (stg_spo2['valuenum'] > 0) & (stg_spo2['valuenum'] <= 100)\n",
    "]\n",
    "# Group by subject_id, hadm_id, icustay_id, charttime to get max SpO2\n",
    "stg_spo2 = stg_spo2.groupby(['subject_id', 'hadm_id', 'icustay_id', 'charttime'])['valuenum'].max().reset_index()\n",
    "stg_spo2 = stg_spo2.rename(columns={'valuenum': 'spo2'})\n"
   ]
  },
  {
   "cell_type": "code",
   "execution_count": null,
   "id": "6659aad3",
   "metadata": {},
   "outputs": [],
   "source": [
    "fio2_itemids = [3420, 3422, 190, 223835]  # FiO2, FiO2 set, Inspired O2 Fraction, FiO2 [measured]\n",
    "stg_fio2 = chartEvents[\n",
    "    (chartEvents['ITEMID'].isin(fio2_itemids)) &\n",
    "    (chartEvents['ERROR'].isna() | (chartEvents['ERROR'] == 0))\n",
    "]\n",
    "stg_fio2.columns = [col.lower() for col in stg_fio2.columns]\n",
    "stg_fio2 = stg_fio2[['subject_id', 'hadm_id', 'icustay_id', 'charttime', 'itemid', 'valuenum']]"
   ]
  },
  {
   "cell_type": "code",
   "execution_count": null,
   "id": "11755cf9",
   "metadata": {},
   "outputs": [],
   "source": [
    "# Pre-process FiO2 values\n",
    "def process_fio2(row):\n",
    "    if row['itemid'] == 223835:\n",
    "        if 0 < row['valuenum'] <= 1:\n",
    "            return row['valuenum'] * 100\n",
    "        elif 21 <= row['valuenum'] <= 100:\n",
    "            return row['valuenum']\n",
    "        else:\n",
    "            return None\n",
    "    elif row['itemid'] in [3420, 3422]:\n",
    "        return row['valuenum']\n",
    "    elif row['itemid'] == 190 and 0.20 < row['valuenum'] < 1:\n",
    "        return row['valuenum'] * 100\n",
    "    return None\n",
    "\n",
    "stg_fio2['fio2_chartevents'] = stg_fio2.apply(process_fio2, axis=1)"
   ]
  },
  {
   "cell_type": "code",
   "execution_count": null,
   "id": "5ea7440a",
   "metadata": {},
   "outputs": [],
   "source": [
    "stg_fio2 = stg_fio2[stg_fio2['fio2_chartevents'].notna()]"
   ]
  },
  {
   "cell_type": "code",
   "execution_count": null,
   "id": "ee474969",
   "metadata": {},
   "outputs": [],
   "source": [
    "stg_fio2 = stg_fio2.groupby(['subject_id', 'hadm_id', 'icustay_id', 'charttime'])['fio2_chartevents'].max().reset_index()\n"
   ]
  },
  {
   "cell_type": "code",
   "execution_count": null,
   "id": "e1424b30",
   "metadata": {},
   "outputs": [],
   "source": [
    "stg_spo2['charttime'] = pd.to_datetime(stg_spo2['charttime'])"
   ]
  },
  {
   "cell_type": "code",
   "execution_count": null,
   "id": "bf446e91",
   "metadata": {},
   "outputs": [],
   "source": [
    "blood_gas_first_day['charttime'] = pd.to_datetime(blood_gas_first_day['charttime'])"
   ]
  },
  {
   "cell_type": "code",
   "execution_count": null,
   "id": "0dce3433",
   "metadata": {},
   "outputs": [],
   "source": [
    "stg2 = pd.merge(\n",
    "    blood_gas_first_day,\n",
    "    stg_spo2[['icustay_id', 'charttime', 'spo2']],\n",
    "    on='icustay_id',\n",
    "    how='left'\n",
    ")\n",
    "# Filter for SpO2 within 2 hours before blood gas charttime\n",
    "stg2 = stg2[\n",
    "    (stg2['charttime_y'].isna()) |\n",
    "    ((stg2['charttime_y'] >= stg2['charttime_x'] - timedelta(hours=2)) &\n",
    "     (stg2['charttime_y'] <= stg2['charttime_x']))\n",
    "]\n",
    "\n",
    "# Assign row number to get the most recent SpO2\n",
    "stg2['lastRowSpO2'] = stg2.groupby(['icustay_id', 'charttime_x'])['charttime_y'].rank(method='dense', ascending=False).astype(int)\n",
    "stg2 = stg2[stg2['lastRowSpO2'] == 1]\n",
    "# Rename charttime_x back to charttime\n",
    "stg2 = stg2.rename(columns={'charttime_x': 'charttime'}).drop(columns=['charttime_y'])"
   ]
  },
  {
   "cell_type": "code",
   "execution_count": null,
   "id": "09815f4f",
   "metadata": {},
   "outputs": [],
   "source": [
    "stg_fio2['charttime'] = pd.to_datetime(stg_fio2['charttime'])\n",
    "stg3 = pd.merge(\n",
    "    stg2,\n",
    "    stg_fio2[['icustay_id', 'charttime', 'fio2_chartevents']],\n",
    "    on='icustay_id',\n",
    "    how='left'\n",
    ")\n",
    "\n",
    "stg3 = stg3[\n",
    "    (stg3['charttime_y'].isna()) |\n",
    "    ((stg3['charttime_y'] >= stg3['charttime_x'] - timedelta(hours=4)) &\n",
    "     (stg3['charttime_y'] <= stg3['charttime_x']))\n",
    "]\n",
    "\n",
    "# Assign row number to get the most recent FiO2\n",
    "stg3['lastRowFiO2'] = stg3.groupby(['icustay_id', 'charttime_x'])['charttime_y'].rank(method='dense', ascending=False).astype(int)\n",
    "stg3 = stg3[stg3['lastRowFiO2'] == 1]\n",
    "# Rename charttime_x back to charttime\n",
    "stg3 = stg3.rename(columns={'charttime_x': 'charttime'}).drop(columns=['charttime_y'])\n",
    "\n",
    "# Filter for non-null po2\n",
    "stg3 = stg3[stg3['po2'].notna()]"
   ]
  },
  {
   "cell_type": "code",
   "execution_count": null,
   "id": "0238922a",
   "metadata": {},
   "outputs": [],
   "source": [
    "coeffs = {\n",
    "    'po2': 0.04598,\n",
    "    'spo2': -0.15356, 'spo2_mean': 97.49420, 'spo2_offset': 0.13429,\n",
    "    'fio2_chartevents': 0.00621, 'fio2_chartevents_mean': 51.49550, 'fio2_chartevents_offset': -0.24958,\n",
    "    'hemoglobin': 0.10559, 'hemoglobin_mean': 10.32307, 'hemoglobin_offset': 0.05954,\n",
    "    'so2': 0.13251, 'so2_mean': 93.66539, 'so2_offset': -0.23172,\n",
    "    'pco2': -0.01511, 'pco2_mean': 42.08866, 'pco2_offset': -0.01630,\n",
    "    'fio2': 0.01480, 'fio2_mean': 63.97836, 'fio2_offset': -0.31142,\n",
    "    'aado2': -0.00200, 'aado2_mean': 442.21186, 'aado2_offset': -0.01328,\n",
    "    'bicarbonate': -0.03220, 'bicarbonate_mean': 22.96894, 'bicarbonate_offset': -0.06535,\n",
    "    'totalco2': 0.05384, 'totalco2_mean': 24.72632, 'totalco2_offset': -0.01405,\n",
    "    'lactate': 0.08202, 'lactate_mean': 3.06436, 'lactate_offset': 0.06038,\n",
    "    'ph': 0.10956, 'ph_mean': 7.36233, 'ph_offset': -0.00617,\n",
    "    'o2flow': 0.00848, 'o2flow_mean': 7.59362, 'o2flow_offset': -0.35803,\n",
    "    'intercept': -0.02544\n",
    "}\n",
    "\n",
    "def calculate_specimen_prob(row):\n",
    "    log_odds = coeffs['intercept']\n",
    "    for var in ['po2', 'spo2', 'fio2_chartevents', 'hemoglobin', 'so2', 'pco2', 'fio2', \n",
    "                'aado2', 'bicarbonate', 'totalco2', 'lactate', 'ph', 'o2flow']:\n",
    "        value = row[var] if pd.notna(row[var]) else coeffs[f'{var}_mean']\n",
    "        log_odds += coeffs[var] * value\n",
    "        if pd.isna(row[var]):\n",
    "            log_odds += coeffs[f'{var}_offset']\n",
    "    return 1 / (1 + np.exp(-log_odds))\n",
    "\n",
    "stg3['specimen_prob'] = stg3.apply(calculate_specimen_prob, axis=1)\n"
   ]
  },
  {
   "cell_type": "code",
   "execution_count": null,
   "id": "675c46e2",
   "metadata": {},
   "outputs": [],
   "source": [
    "# Step 6: Create SPECIMEN_PRED\n",
    "stg3['specimen_pred'] = stg3.apply(\n",
    "    lambda row: row['specimen'] if pd.notna(row['specimen']) else 'ART' if row['specimen_prob'] > 0.75 else None,\n",
    "    axis=1\n",
    ")"
   ]
  },
  {
   "cell_type": "code",
   "execution_count": null,
   "id": "aabb9dda",
   "metadata": {},
   "outputs": [],
   "source": [
    "# Step 7: Calculate AADO2_calc and PaO2FiO2\n",
    "stg3['AADO2_calc'] = stg3.apply(\n",
    "    lambda row: (\n",
    "        (row['fio2'] if pd.notna(row['fio2']) else row['fio2_chartevents']) / 100 * (760 - 47) - \n",
    "        row['pco2'] / 0.8 - row['po2']\n",
    "    ) if pd.notna(row['po2']) and pd.notna(row['pco2']) and pd.notna(row['fio2'] if pd.notna(row['fio2']) else row['fio2_chartevents']) \n",
    "    else None,\n",
    "    axis=1\n",
    ")\n",
    "\n",
    "stg3['PaO2FiO2'] = stg3.apply(\n",
    "    lambda row: (\n",
    "        100 * row['po2'] / (row['fio2'] if pd.notna(row['fio2']) else row['fio2_chartevents'])\n",
    "    ) if pd.notna(row['po2']) and pd.notna(row['fio2'] if pd.notna(row['fio2']) else row['fio2_chartevents']) \n",
    "    else None,\n",
    "    axis=1\n",
    ")"
   ]
  },
  {
   "cell_type": "code",
   "execution_count": null,
   "id": "449886b1",
   "metadata": {},
   "outputs": [],
   "source": [
    "bga = stg3[\n",
    "    (stg3['lastRowFiO2'] == 1) &\n",
    "    ((stg3['specimen'] == 'ART') | (stg3['specimen_prob'] > 0.75))\n",
    "]\n",
    "\n",
    "# Select final columns\n",
    "columns = [\n",
    "    'subject_id', 'hadm_id', 'icustay_id', 'charttime',\n",
    "    'specimen', 'specimen_pred', 'specimen_prob',\n",
    "    'so2', 'spo2', 'po2', 'pco2', 'fio2_chartevents', 'fio2', 'aado2', 'AADO2_calc', 'PaO2FiO2',\n",
    "    'ph', 'baseexcess', 'bicarbonate', 'totalco2',\n",
    "    'hematocrit', 'hemoglobin', 'carboxyhemoglobin', 'methemoglobin',\n",
    "    'chloride', 'calcium', 'temperature', 'potassium', 'sodium', 'lactate', 'glucose',\n",
    "    'intubated', 'tidalvolume', 'ventilationrate', 'ventilator', 'peep', 'o2flow', 'requiredo2'\n",
    "]\n",
    "bga = bga[columns]\n",
    "\n",
    "# Sort by icustay_id, charttime\n",
    "bga = bga.sort_values(['icustay_id', 'charttime'])\n",
    "\n",
    "print(bga)"
   ]
  },
  {
   "cell_type": "markdown",
   "id": "61898316",
   "metadata": {},
   "source": []
  },
  {
   "cell_type": "code",
   "execution_count": null,
   "id": "4e3bf0af",
   "metadata": {},
   "outputs": [],
   "source": []
  }
 ],
 "metadata": {
  "kernelspec": {
   "display_name": "Python 3",
   "language": "python",
   "name": "python3"
  },
  "language_info": {
   "codemirror_mode": {
    "name": "ipython",
    "version": 3
   },
   "file_extension": ".py",
   "mimetype": "text/x-python",
   "name": "python",
   "nbconvert_exporter": "python",
   "pygments_lexer": "ipython3",
   "version": "3.13.5"
  }
 },
 "nbformat": 4,
 "nbformat_minor": 5
}
