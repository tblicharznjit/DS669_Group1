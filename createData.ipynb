{
 "cells": [
  {
   "cell_type": "code",
   "execution_count": 58,
   "id": "90673b04",
   "metadata": {},
   "outputs": [],
   "source": [
    "import pandas as pd\n",
    "from databasePath import path\n",
    "import os\n",
    "from datetime import timedelta"
   ]
  },
  {
   "cell_type": "code",
   "execution_count": 9,
   "id": "f5e5cc88",
   "metadata": {},
   "outputs": [],
   "source": [
    "folder_path = path\n",
    "files = os.listdir(folder_path)\n",
    "reqFiles = []\n",
    "for file in files:\n",
    "    if file.endswith('.csv'):\n",
    "        reqFiles.append(file)"
   ]
  },
  {
   "cell_type": "code",
   "execution_count": 10,
   "id": "1ea961da",
   "metadata": {},
   "outputs": [
    {
     "data": {
      "text/plain": [
       "26"
      ]
     },
     "execution_count": 10,
     "metadata": {},
     "output_type": "execute_result"
    }
   ],
   "source": [
    "len(reqFiles)"
   ]
  },
  {
   "cell_type": "code",
   "execution_count": 11,
   "id": "8404286c",
   "metadata": {},
   "outputs": [
    {
     "data": {
      "text/plain": [
       "['PROCEDUREEVENTS_MV.csv',\n",
       " 'CALLOUT.csv',\n",
       " 'D_CPT.csv',\n",
       " 'D_ITEMS.csv',\n",
       " 'CAREGIVERS.csv',\n",
       " 'MICROBIOLOGYEVENTS.csv',\n",
       " 'LABEVENTS.csv',\n",
       " 'INPUTEVENTS_CV.csv',\n",
       " 'ADMISSIONS.csv',\n",
       " 'D_LABITEMS.csv',\n",
       " 'DATETIMEEVENTS.csv',\n",
       " 'PRESCRIPTIONS.csv',\n",
       " 'PROCEDURES_ICD.csv',\n",
       " 'NOTEEVENTS.csv',\n",
       " 'CHARTEVENTS.csv',\n",
       " 'TRANSFERS.csv',\n",
       " 'DIAGNOSES_ICD.csv',\n",
       " 'SERVICES.csv',\n",
       " 'DRGCODES.csv',\n",
       " 'OUTPUTEVENTS.csv',\n",
       " 'PATIENTS.csv',\n",
       " 'D_ICD_DIAGNOSES.csv',\n",
       " 'ICUSTAYS.csv',\n",
       " 'INPUTEVENTS_MV.csv',\n",
       " 'D_ICD_PROCEDURES.csv',\n",
       " 'CPTEVENTS.csv']"
      ]
     },
     "execution_count": 11,
     "metadata": {},
     "output_type": "execute_result"
    }
   ],
   "source": [
    "reqFiles"
   ]
  },
  {
   "cell_type": "code",
   "execution_count": 12,
   "id": "d78d906e",
   "metadata": {},
   "outputs": [],
   "source": [
    "patients = pd.read_csv(f'{path}/patients.csv')"
   ]
  },
  {
   "cell_type": "code",
   "execution_count": 13,
   "id": "990eccbf",
   "metadata": {},
   "outputs": [
    {
     "name": "stdout",
     "output_type": "stream",
     "text": [
      "(46520, 8)\n",
      "Index(['ROW_ID', 'SUBJECT_ID', 'GENDER', 'DOB', 'DOD', 'DOD_HOSP', 'DOD_SSN',\n",
      "       'EXPIRE_FLAG'],\n",
      "      dtype='object')\n"
     ]
    }
   ],
   "source": [
    "print(patients.shape)\n",
    "print(patients.columns)"
   ]
  },
  {
   "cell_type": "code",
   "execution_count": 14,
   "id": "12181975",
   "metadata": {},
   "outputs": [
    {
     "name": "stderr",
     "output_type": "stream",
     "text": [
      "/var/folders/lf/wmkwxwwx63g16wbm61mzyxrm0000gn/T/ipykernel_32852/143005368.py:2: DtypeWarning: Columns (13) have mixed types. Specify dtype option on import or set low_memory=False.\n",
      "  for chunk in pd.read_csv(f'{path}/chartevents.csv', chunksize = 10**6):\n",
      "/var/folders/lf/wmkwxwwx63g16wbm61mzyxrm0000gn/T/ipykernel_32852/143005368.py:2: DtypeWarning: Columns (8,10,14) have mixed types. Specify dtype option on import or set low_memory=False.\n",
      "  for chunk in pd.read_csv(f'{path}/chartevents.csv', chunksize = 10**6):\n",
      "/var/folders/lf/wmkwxwwx63g16wbm61mzyxrm0000gn/T/ipykernel_32852/143005368.py:2: DtypeWarning: Columns (8) have mixed types. Specify dtype option on import or set low_memory=False.\n",
      "  for chunk in pd.read_csv(f'{path}/chartevents.csv', chunksize = 10**6):\n"
     ]
    }
   ],
   "source": [
    "chartEventsChunk = []\n",
    "for chunk in pd.read_csv(f'{path}/chartevents.csv', chunksize = 10**6):\n",
    "    chartEventsChunk.append(chunk)\n",
    "\n",
    "chartEvents = pd.concat(chartEventsChunk)"
   ]
  },
  {
   "cell_type": "code",
   "execution_count": 15,
   "id": "fc79871b",
   "metadata": {},
   "outputs": [
    {
     "data": {
      "text/plain": [
       "Index(['ROW_ID', 'SUBJECT_ID', 'HADM_ID', 'ICUSTAY_ID', 'ITEMID', 'CHARTTIME',\n",
       "       'STORETIME', 'CGID', 'VALUE', 'VALUENUM', 'VALUEUOM', 'WARNING',\n",
       "       'ERROR', 'RESULTSTATUS', 'STOPPED'],\n",
       "      dtype='object')"
      ]
     },
     "execution_count": 15,
     "metadata": {},
     "output_type": "execute_result"
    }
   ],
   "source": [
    "chartEvents.columns"
   ]
  },
  {
   "cell_type": "code",
   "execution_count": 16,
   "id": "7e5b1288",
   "metadata": {},
   "outputs": [
    {
     "data": {
      "text/html": [
       "<div>\n",
       "<style scoped>\n",
       "    .dataframe tbody tr th:only-of-type {\n",
       "        vertical-align: middle;\n",
       "    }\n",
       "\n",
       "    .dataframe tbody tr th {\n",
       "        vertical-align: top;\n",
       "    }\n",
       "\n",
       "    .dataframe thead th {\n",
       "        text-align: right;\n",
       "    }\n",
       "</style>\n",
       "<table border=\"1\" class=\"dataframe\">\n",
       "  <thead>\n",
       "    <tr style=\"text-align: right;\">\n",
       "      <th></th>\n",
       "      <th>ROW_ID</th>\n",
       "      <th>SUBJECT_ID</th>\n",
       "      <th>HADM_ID</th>\n",
       "      <th>ICUSTAY_ID</th>\n",
       "      <th>ITEMID</th>\n",
       "      <th>CHARTTIME</th>\n",
       "      <th>STORETIME</th>\n",
       "      <th>CGID</th>\n",
       "      <th>VALUE</th>\n",
       "      <th>VALUENUM</th>\n",
       "      <th>VALUEUOM</th>\n",
       "      <th>WARNING</th>\n",
       "      <th>ERROR</th>\n",
       "      <th>RESULTSTATUS</th>\n",
       "      <th>STOPPED</th>\n",
       "    </tr>\n",
       "  </thead>\n",
       "  <tbody>\n",
       "    <tr>\n",
       "      <th>0</th>\n",
       "      <td>788</td>\n",
       "      <td>36</td>\n",
       "      <td>165660</td>\n",
       "      <td>241249.0</td>\n",
       "      <td>223834</td>\n",
       "      <td>2134-05-12 12:00:00</td>\n",
       "      <td>2134-05-12 13:56:00</td>\n",
       "      <td>17525.0</td>\n",
       "      <td>15.0</td>\n",
       "      <td>15.00</td>\n",
       "      <td>L/min</td>\n",
       "      <td>0.0</td>\n",
       "      <td>0.0</td>\n",
       "      <td>NaN</td>\n",
       "      <td>NaN</td>\n",
       "    </tr>\n",
       "    <tr>\n",
       "      <th>1</th>\n",
       "      <td>789</td>\n",
       "      <td>36</td>\n",
       "      <td>165660</td>\n",
       "      <td>241249.0</td>\n",
       "      <td>223835</td>\n",
       "      <td>2134-05-12 12:00:00</td>\n",
       "      <td>2134-05-12 13:56:00</td>\n",
       "      <td>17525.0</td>\n",
       "      <td>100.0</td>\n",
       "      <td>100.00</td>\n",
       "      <td>NaN</td>\n",
       "      <td>0.0</td>\n",
       "      <td>0.0</td>\n",
       "      <td>NaN</td>\n",
       "      <td>NaN</td>\n",
       "    </tr>\n",
       "    <tr>\n",
       "      <th>2</th>\n",
       "      <td>790</td>\n",
       "      <td>36</td>\n",
       "      <td>165660</td>\n",
       "      <td>241249.0</td>\n",
       "      <td>224328</td>\n",
       "      <td>2134-05-12 12:00:00</td>\n",
       "      <td>2134-05-12 12:18:00</td>\n",
       "      <td>20823.0</td>\n",
       "      <td>0.37</td>\n",
       "      <td>0.37</td>\n",
       "      <td>NaN</td>\n",
       "      <td>0.0</td>\n",
       "      <td>0.0</td>\n",
       "      <td>NaN</td>\n",
       "      <td>NaN</td>\n",
       "    </tr>\n",
       "    <tr>\n",
       "      <th>3</th>\n",
       "      <td>791</td>\n",
       "      <td>36</td>\n",
       "      <td>165660</td>\n",
       "      <td>241249.0</td>\n",
       "      <td>224329</td>\n",
       "      <td>2134-05-12 12:00:00</td>\n",
       "      <td>2134-05-12 12:19:00</td>\n",
       "      <td>20823.0</td>\n",
       "      <td>6.0</td>\n",
       "      <td>6.00</td>\n",
       "      <td>min</td>\n",
       "      <td>0.0</td>\n",
       "      <td>0.0</td>\n",
       "      <td>NaN</td>\n",
       "      <td>NaN</td>\n",
       "    </tr>\n",
       "    <tr>\n",
       "      <th>4</th>\n",
       "      <td>792</td>\n",
       "      <td>36</td>\n",
       "      <td>165660</td>\n",
       "      <td>241249.0</td>\n",
       "      <td>224330</td>\n",
       "      <td>2134-05-12 12:00:00</td>\n",
       "      <td>2134-05-12 12:19:00</td>\n",
       "      <td>20823.0</td>\n",
       "      <td>2.5</td>\n",
       "      <td>2.50</td>\n",
       "      <td>NaN</td>\n",
       "      <td>0.0</td>\n",
       "      <td>0.0</td>\n",
       "      <td>NaN</td>\n",
       "      <td>NaN</td>\n",
       "    </tr>\n",
       "  </tbody>\n",
       "</table>\n",
       "</div>"
      ],
      "text/plain": [
       "   ROW_ID  SUBJECT_ID  HADM_ID  ICUSTAY_ID  ITEMID            CHARTTIME  \\\n",
       "0     788          36   165660    241249.0  223834  2134-05-12 12:00:00   \n",
       "1     789          36   165660    241249.0  223835  2134-05-12 12:00:00   \n",
       "2     790          36   165660    241249.0  224328  2134-05-12 12:00:00   \n",
       "3     791          36   165660    241249.0  224329  2134-05-12 12:00:00   \n",
       "4     792          36   165660    241249.0  224330  2134-05-12 12:00:00   \n",
       "\n",
       "             STORETIME     CGID  VALUE  VALUENUM VALUEUOM  WARNING  ERROR  \\\n",
       "0  2134-05-12 13:56:00  17525.0   15.0     15.00    L/min      0.0    0.0   \n",
       "1  2134-05-12 13:56:00  17525.0  100.0    100.00      NaN      0.0    0.0   \n",
       "2  2134-05-12 12:18:00  20823.0   0.37      0.37      NaN      0.0    0.0   \n",
       "3  2134-05-12 12:19:00  20823.0    6.0      6.00      min      0.0    0.0   \n",
       "4  2134-05-12 12:19:00  20823.0    2.5      2.50      NaN      0.0    0.0   \n",
       "\n",
       "  RESULTSTATUS STOPPED  \n",
       "0          NaN     NaN  \n",
       "1          NaN     NaN  \n",
       "2          NaN     NaN  \n",
       "3          NaN     NaN  \n",
       "4          NaN     NaN  "
      ]
     },
     "execution_count": 16,
     "metadata": {},
     "output_type": "execute_result"
    }
   ],
   "source": [
    "chartEvents.head(5)"
   ]
  },
  {
   "cell_type": "code",
   "execution_count": 17,
   "id": "81a430d0",
   "metadata": {},
   "outputs": [
    {
     "name": "stdout",
     "output_type": "stream",
     "text": [
      "-----------------------\n",
      "FILE :  PROCEDUREEVENTS_MV.csv\n"
     ]
    },
    {
     "name": "stdout",
     "output_type": "stream",
     "text": [
      "-----------------------\n",
      "FILE :  CALLOUT.csv\n",
      "-----------------------\n",
      "FILE :  D_CPT.csv\n",
      "-----------------------\n",
      "FILE :  D_ITEMS.csv\n",
      "-----------------------\n",
      "FILE :  CAREGIVERS.csv\n",
      "-----------------------\n",
      "FILE :  MICROBIOLOGYEVENTS.csv\n",
      "-----------------------\n",
      "FILE :  LABEVENTS.csv\n",
      "-----------------------\n",
      "FILE :  INPUTEVENTS_CV.csv\n"
     ]
    },
    {
     "name": "stderr",
     "output_type": "stream",
     "text": [
      "/var/folders/lf/wmkwxwwx63g16wbm61mzyxrm0000gn/T/ipykernel_32852/3134157820.py:10: DtypeWarning: Columns (7,9,17,20,21) have mixed types. Specify dtype option on import or set low_memory=False.\n",
      "  df = pd.read_csv(f\"{path}/{file}\")\n"
     ]
    },
    {
     "name": "stdout",
     "output_type": "stream",
     "text": [
      "-----------------------\n",
      "FILE :  ADMISSIONS.csv\n",
      "-----------------------\n",
      "FILE :  D_LABITEMS.csv\n",
      "-----------------------\n",
      "FILE :  DATETIMEEVENTS.csv\n"
     ]
    },
    {
     "name": "stderr",
     "output_type": "stream",
     "text": [
      "/var/folders/lf/wmkwxwwx63g16wbm61mzyxrm0000gn/T/ipykernel_32852/3134157820.py:10: DtypeWarning: Columns (13) have mixed types. Specify dtype option on import or set low_memory=False.\n",
      "  df = pd.read_csv(f\"{path}/{file}\")\n"
     ]
    },
    {
     "name": "stdout",
     "output_type": "stream",
     "text": [
      "-----------------------\n",
      "FILE :  PRESCRIPTIONS.csv\n"
     ]
    },
    {
     "name": "stderr",
     "output_type": "stream",
     "text": [
      "/var/folders/lf/wmkwxwwx63g16wbm61mzyxrm0000gn/T/ipykernel_32852/3134157820.py:10: DtypeWarning: Columns (11) have mixed types. Specify dtype option on import or set low_memory=False.\n",
      "  df = pd.read_csv(f\"{path}/{file}\")\n"
     ]
    },
    {
     "name": "stdout",
     "output_type": "stream",
     "text": [
      "-----------------------\n",
      "FILE :  PROCEDURES_ICD.csv\n",
      "-----------------------\n",
      "FILE :  NOTEEVENTS.csv\n"
     ]
    },
    {
     "name": "stderr",
     "output_type": "stream",
     "text": [
      "/var/folders/lf/wmkwxwwx63g16wbm61mzyxrm0000gn/T/ipykernel_32852/3134157820.py:10: DtypeWarning: Columns (4,5) have mixed types. Specify dtype option on import or set low_memory=False.\n",
      "  df = pd.read_csv(f\"{path}/{file}\")\n"
     ]
    },
    {
     "name": "stdout",
     "output_type": "stream",
     "text": [
      "-----------------------\n",
      "FILE :  TRANSFERS.csv\n",
      "-----------------------\n",
      "FILE :  DIAGNOSES_ICD.csv\n",
      "-----------------------\n",
      "FILE :  SERVICES.csv\n",
      "-----------------------\n",
      "FILE :  DRGCODES.csv\n",
      "-----------------------\n",
      "FILE :  OUTPUTEVENTS.csv\n",
      "-----------------------\n",
      "FILE :  D_ICD_DIAGNOSES.csv\n",
      "-----------------------\n",
      "FILE :  ICUSTAYS.csv\n",
      "-----------------------\n",
      "FILE :  INPUTEVENTS_MV.csv\n",
      "-----------------------\n",
      "FILE :  D_ICD_PROCEDURES.csv\n",
      "-----------------------\n",
      "FILE :  CPTEVENTS.csv\n"
     ]
    },
    {
     "name": "stderr",
     "output_type": "stream",
     "text": [
      "/var/folders/lf/wmkwxwwx63g16wbm61mzyxrm0000gn/T/ipykernel_32852/3134157820.py:10: DtypeWarning: Columns (4,5,7,11) have mixed types. Specify dtype option on import or set low_memory=False.\n",
      "  df = pd.read_csv(f\"{path}/{file}\")\n"
     ]
    }
   ],
   "source": [
    "dfs = {}\n",
    "dfCols = []\n",
    "\n",
    "reqFiles.remove('PATIENTS.csv')\n",
    "reqFiles.remove('CHARTEVENTS.csv')\n",
    "\n",
    "for file in reqFiles:\n",
    "    print(\"-----------------------\")\n",
    "    print(\"FILE : \",file)\n",
    "    df = pd.read_csv(f\"{path}/{file}\")\n",
    "    dfs[file] = df"
   ]
  },
  {
   "cell_type": "markdown",
   "id": "c127a929",
   "metadata": {},
   "source": [
    "### Working with Admissions.csv"
   ]
  },
  {
   "cell_type": "code",
   "execution_count": 18,
   "id": "d5450d31",
   "metadata": {},
   "outputs": [
    {
     "name": "stdout",
     "output_type": "stream",
     "text": [
      "Index(['ROW_ID', 'SUBJECT_ID', 'HADM_ID', 'ADMITTIME', 'DISCHTIME',\n",
      "       'DEATHTIME', 'ADMISSION_TYPE', 'ADMISSION_LOCATION',\n",
      "       'DISCHARGE_LOCATION', 'INSURANCE', 'LANGUAGE', 'RELIGION',\n",
      "       'MARITAL_STATUS', 'ETHNICITY', 'EDREGTIME', 'EDOUTTIME', 'DIAGNOSIS',\n",
      "       'HOSPITAL_EXPIRE_FLAG', 'HAS_CHARTEVENTS_DATA', 'ROW_ID_PAT', 'GENDER',\n",
      "       'DOB', 'DOD', 'DOD_HOSP', 'DOD_SSN', 'EXPIRE_FLAG'],\n",
      "      dtype='object')\n"
     ]
    }
   ],
   "source": [
    "admissions = dfs['ADMISSIONS.csv'].merge(patients, on='SUBJECT_ID', suffixes=('', '_PAT'), how='inner')\n",
    "print(admissions.columns)"
   ]
  },
  {
   "cell_type": "code",
   "execution_count": 19,
   "id": "5f10cc3d",
   "metadata": {},
   "outputs": [
    {
     "name": "stdout",
     "output_type": "stream",
     "text": [
      "<class 'pandas.core.frame.DataFrame'>\n",
      "RangeIndex: 58976 entries, 0 to 58975\n",
      "Data columns (total 26 columns):\n",
      " #   Column                Non-Null Count  Dtype \n",
      "---  ------                --------------  ----- \n",
      " 0   ROW_ID                58976 non-null  int64 \n",
      " 1   SUBJECT_ID            58976 non-null  int64 \n",
      " 2   HADM_ID               58976 non-null  int64 \n",
      " 3   ADMITTIME             58976 non-null  object\n",
      " 4   DISCHTIME             58976 non-null  object\n",
      " 5   DEATHTIME             5854 non-null   object\n",
      " 6   ADMISSION_TYPE        58976 non-null  object\n",
      " 7   ADMISSION_LOCATION    58976 non-null  object\n",
      " 8   DISCHARGE_LOCATION    58976 non-null  object\n",
      " 9   INSURANCE             58976 non-null  object\n",
      " 10  LANGUAGE              33644 non-null  object\n",
      " 11  RELIGION              58518 non-null  object\n",
      " 12  MARITAL_STATUS        48848 non-null  object\n",
      " 13  ETHNICITY             58976 non-null  object\n",
      " 14  EDREGTIME             30877 non-null  object\n",
      " 15  EDOUTTIME             30877 non-null  object\n",
      " 16  DIAGNOSIS             58951 non-null  object\n",
      " 17  HOSPITAL_EXPIRE_FLAG  58976 non-null  int64 \n",
      " 18  HAS_CHARTEVENTS_DATA  58976 non-null  int64 \n",
      " 19  ROW_ID_PAT            58976 non-null  int64 \n",
      " 20  GENDER                58976 non-null  object\n",
      " 21  DOB                   58976 non-null  object\n",
      " 22  DOD                   22586 non-null  object\n",
      " 23  DOD_HOSP              15071 non-null  object\n",
      " 24  DOD_SSN               19069 non-null  object\n",
      " 25  EXPIRE_FLAG           58976 non-null  int64 \n",
      "dtypes: int64(7), object(19)\n",
      "memory usage: 11.7+ MB\n"
     ]
    }
   ],
   "source": [
    "admissions.info()"
   ]
  },
  {
   "cell_type": "code",
   "execution_count": 20,
   "id": "d396c3ad",
   "metadata": {},
   "outputs": [
    {
     "name": "stdout",
     "output_type": "stream",
     "text": [
      "ROW_ID                      0\n",
      "SUBJECT_ID                  0\n",
      "HADM_ID                     0\n",
      "ADMITTIME                   0\n",
      "DISCHTIME                   0\n",
      "DEATHTIME               53122\n",
      "ADMISSION_TYPE              0\n",
      "ADMISSION_LOCATION          0\n",
      "DISCHARGE_LOCATION          0\n",
      "INSURANCE                   0\n",
      "LANGUAGE                25332\n",
      "RELIGION                  458\n",
      "MARITAL_STATUS          10128\n",
      "ETHNICITY                   0\n",
      "EDREGTIME               28099\n",
      "EDOUTTIME               28099\n",
      "DIAGNOSIS                  25\n",
      "HOSPITAL_EXPIRE_FLAG        0\n",
      "HAS_CHARTEVENTS_DATA        0\n",
      "ROW_ID_PAT                  0\n",
      "GENDER                      0\n",
      "DOB                         0\n",
      "DOD                     36390\n",
      "DOD_HOSP                43905\n",
      "DOD_SSN                 39907\n",
      "EXPIRE_FLAG                 0\n",
      "dtype: int64\n"
     ]
    }
   ],
   "source": [
    "print(admissions.isna().sum())"
   ]
  },
  {
   "cell_type": "code",
   "execution_count": 21,
   "id": "7850f3ae",
   "metadata": {},
   "outputs": [
    {
     "name": "stdout",
     "output_type": "stream",
     "text": [
      "0    2196-04-09 12:26:00\n",
      "1    2153-09-03 07:15:00\n",
      "2    2157-10-18 19:34:00\n",
      "3    2139-06-06 16:14:00\n",
      "4    2160-11-02 02:06:00\n",
      "Name: ADMITTIME, dtype: object\n",
      "0    2131-05-07 00:00:00\n",
      "1    2082-07-17 00:00:00\n",
      "2    2082-07-17 00:00:00\n",
      "3    2100-05-31 00:00:00\n",
      "4    2101-11-21 00:00:00\n",
      "Name: DOB, dtype: object\n"
     ]
    }
   ],
   "source": [
    "print(admissions['ADMITTIME'].head(5))\n",
    "print(admissions['DOB'].head(5))"
   ]
  },
  {
   "cell_type": "markdown",
   "id": "e8cff830",
   "metadata": {},
   "source": [
    "### Calculating Age"
   ]
  },
  {
   "cell_type": "code",
   "execution_count": 22,
   "id": "9cb66287",
   "metadata": {},
   "outputs": [],
   "source": [
    "admissions['ADMITTIME'] = pd.to_datetime(admissions['ADMITTIME'])\n",
    "admissions['DOB'] = pd.to_datetime(admissions['DOB'])\n",
    "admissions['admission_AGE'] = admissions.apply(lambda x: (x['ADMITTIME'].to_pydatetime() - x['DOB'].to_pydatetime()).days // 365.242, axis = 1)"
   ]
  },
  {
   "cell_type": "markdown",
   "id": "6dc5ca04",
   "metadata": {},
   "source": [
    "### Filtering adults"
   ]
  },
  {
   "cell_type": "code",
   "execution_count": 23,
   "id": "89265177",
   "metadata": {},
   "outputs": [],
   "source": [
    "admissions = admissions[admissions['admission_AGE'] >=18]"
   ]
  },
  {
   "cell_type": "code",
   "execution_count": 24,
   "id": "58075f9b",
   "metadata": {},
   "outputs": [
    {
     "data": {
      "text/html": [
       "<div>\n",
       "<style scoped>\n",
       "    .dataframe tbody tr th:only-of-type {\n",
       "        vertical-align: middle;\n",
       "    }\n",
       "\n",
       "    .dataframe tbody tr th {\n",
       "        vertical-align: top;\n",
       "    }\n",
       "\n",
       "    .dataframe thead th {\n",
       "        text-align: right;\n",
       "    }\n",
       "</style>\n",
       "<table border=\"1\" class=\"dataframe\">\n",
       "  <thead>\n",
       "    <tr style=\"text-align: right;\">\n",
       "      <th></th>\n",
       "      <th>ROW_ID</th>\n",
       "      <th>SUBJECT_ID</th>\n",
       "      <th>HADM_ID</th>\n",
       "      <th>ADMITTIME</th>\n",
       "      <th>DISCHTIME</th>\n",
       "      <th>DEATHTIME</th>\n",
       "      <th>ADMISSION_TYPE</th>\n",
       "      <th>ADMISSION_LOCATION</th>\n",
       "      <th>DISCHARGE_LOCATION</th>\n",
       "      <th>INSURANCE</th>\n",
       "      <th>...</th>\n",
       "      <th>HOSPITAL_EXPIRE_FLAG</th>\n",
       "      <th>HAS_CHARTEVENTS_DATA</th>\n",
       "      <th>ROW_ID_PAT</th>\n",
       "      <th>GENDER</th>\n",
       "      <th>DOB</th>\n",
       "      <th>DOD</th>\n",
       "      <th>DOD_HOSP</th>\n",
       "      <th>DOD_SSN</th>\n",
       "      <th>EXPIRE_FLAG</th>\n",
       "      <th>admission_AGE</th>\n",
       "    </tr>\n",
       "  </thead>\n",
       "  <tbody>\n",
       "    <tr>\n",
       "      <th>0</th>\n",
       "      <td>21</td>\n",
       "      <td>22</td>\n",
       "      <td>165315</td>\n",
       "      <td>2196-04-09 12:26:00</td>\n",
       "      <td>2196-04-10 15:54:00</td>\n",
       "      <td>NaN</td>\n",
       "      <td>EMERGENCY</td>\n",
       "      <td>EMERGENCY ROOM ADMIT</td>\n",
       "      <td>DISC-TRAN CANCER/CHLDRN H</td>\n",
       "      <td>Private</td>\n",
       "      <td>...</td>\n",
       "      <td>0</td>\n",
       "      <td>1</td>\n",
       "      <td>19</td>\n",
       "      <td>F</td>\n",
       "      <td>2131-05-07</td>\n",
       "      <td>NaN</td>\n",
       "      <td>NaN</td>\n",
       "      <td>NaN</td>\n",
       "      <td>0</td>\n",
       "      <td>64.0</td>\n",
       "    </tr>\n",
       "    <tr>\n",
       "      <th>1</th>\n",
       "      <td>22</td>\n",
       "      <td>23</td>\n",
       "      <td>152223</td>\n",
       "      <td>2153-09-03 07:15:00</td>\n",
       "      <td>2153-09-08 19:10:00</td>\n",
       "      <td>NaN</td>\n",
       "      <td>ELECTIVE</td>\n",
       "      <td>PHYS REFERRAL/NORMAL DELI</td>\n",
       "      <td>HOME HEALTH CARE</td>\n",
       "      <td>Medicare</td>\n",
       "      <td>...</td>\n",
       "      <td>0</td>\n",
       "      <td>1</td>\n",
       "      <td>20</td>\n",
       "      <td>M</td>\n",
       "      <td>2082-07-17</td>\n",
       "      <td>NaN</td>\n",
       "      <td>NaN</td>\n",
       "      <td>NaN</td>\n",
       "      <td>0</td>\n",
       "      <td>71.0</td>\n",
       "    </tr>\n",
       "    <tr>\n",
       "      <th>2</th>\n",
       "      <td>23</td>\n",
       "      <td>23</td>\n",
       "      <td>124321</td>\n",
       "      <td>2157-10-18 19:34:00</td>\n",
       "      <td>2157-10-25 14:00:00</td>\n",
       "      <td>NaN</td>\n",
       "      <td>EMERGENCY</td>\n",
       "      <td>TRANSFER FROM HOSP/EXTRAM</td>\n",
       "      <td>HOME HEALTH CARE</td>\n",
       "      <td>Medicare</td>\n",
       "      <td>...</td>\n",
       "      <td>0</td>\n",
       "      <td>1</td>\n",
       "      <td>20</td>\n",
       "      <td>M</td>\n",
       "      <td>2082-07-17</td>\n",
       "      <td>NaN</td>\n",
       "      <td>NaN</td>\n",
       "      <td>NaN</td>\n",
       "      <td>0</td>\n",
       "      <td>75.0</td>\n",
       "    </tr>\n",
       "    <tr>\n",
       "      <th>3</th>\n",
       "      <td>24</td>\n",
       "      <td>24</td>\n",
       "      <td>161859</td>\n",
       "      <td>2139-06-06 16:14:00</td>\n",
       "      <td>2139-06-09 12:48:00</td>\n",
       "      <td>NaN</td>\n",
       "      <td>EMERGENCY</td>\n",
       "      <td>TRANSFER FROM HOSP/EXTRAM</td>\n",
       "      <td>HOME</td>\n",
       "      <td>Private</td>\n",
       "      <td>...</td>\n",
       "      <td>0</td>\n",
       "      <td>1</td>\n",
       "      <td>21</td>\n",
       "      <td>M</td>\n",
       "      <td>2100-05-31</td>\n",
       "      <td>NaN</td>\n",
       "      <td>NaN</td>\n",
       "      <td>NaN</td>\n",
       "      <td>0</td>\n",
       "      <td>39.0</td>\n",
       "    </tr>\n",
       "    <tr>\n",
       "      <th>4</th>\n",
       "      <td>25</td>\n",
       "      <td>25</td>\n",
       "      <td>129635</td>\n",
       "      <td>2160-11-02 02:06:00</td>\n",
       "      <td>2160-11-05 14:55:00</td>\n",
       "      <td>NaN</td>\n",
       "      <td>EMERGENCY</td>\n",
       "      <td>EMERGENCY ROOM ADMIT</td>\n",
       "      <td>HOME</td>\n",
       "      <td>Private</td>\n",
       "      <td>...</td>\n",
       "      <td>0</td>\n",
       "      <td>1</td>\n",
       "      <td>22</td>\n",
       "      <td>M</td>\n",
       "      <td>2101-11-21</td>\n",
       "      <td>NaN</td>\n",
       "      <td>NaN</td>\n",
       "      <td>NaN</td>\n",
       "      <td>0</td>\n",
       "      <td>58.0</td>\n",
       "    </tr>\n",
       "  </tbody>\n",
       "</table>\n",
       "<p>5 rows × 27 columns</p>\n",
       "</div>"
      ],
      "text/plain": [
       "   ROW_ID  SUBJECT_ID  HADM_ID           ADMITTIME            DISCHTIME  \\\n",
       "0      21          22   165315 2196-04-09 12:26:00  2196-04-10 15:54:00   \n",
       "1      22          23   152223 2153-09-03 07:15:00  2153-09-08 19:10:00   \n",
       "2      23          23   124321 2157-10-18 19:34:00  2157-10-25 14:00:00   \n",
       "3      24          24   161859 2139-06-06 16:14:00  2139-06-09 12:48:00   \n",
       "4      25          25   129635 2160-11-02 02:06:00  2160-11-05 14:55:00   \n",
       "\n",
       "  DEATHTIME ADMISSION_TYPE         ADMISSION_LOCATION  \\\n",
       "0       NaN      EMERGENCY       EMERGENCY ROOM ADMIT   \n",
       "1       NaN       ELECTIVE  PHYS REFERRAL/NORMAL DELI   \n",
       "2       NaN      EMERGENCY  TRANSFER FROM HOSP/EXTRAM   \n",
       "3       NaN      EMERGENCY  TRANSFER FROM HOSP/EXTRAM   \n",
       "4       NaN      EMERGENCY       EMERGENCY ROOM ADMIT   \n",
       "\n",
       "          DISCHARGE_LOCATION INSURANCE  ... HOSPITAL_EXPIRE_FLAG  \\\n",
       "0  DISC-TRAN CANCER/CHLDRN H   Private  ...                    0   \n",
       "1           HOME HEALTH CARE  Medicare  ...                    0   \n",
       "2           HOME HEALTH CARE  Medicare  ...                    0   \n",
       "3                       HOME   Private  ...                    0   \n",
       "4                       HOME   Private  ...                    0   \n",
       "\n",
       "  HAS_CHARTEVENTS_DATA ROW_ID_PAT GENDER        DOB  DOD DOD_HOSP  DOD_SSN  \\\n",
       "0                    1         19      F 2131-05-07  NaN      NaN      NaN   \n",
       "1                    1         20      M 2082-07-17  NaN      NaN      NaN   \n",
       "2                    1         20      M 2082-07-17  NaN      NaN      NaN   \n",
       "3                    1         21      M 2100-05-31  NaN      NaN      NaN   \n",
       "4                    1         22      M 2101-11-21  NaN      NaN      NaN   \n",
       "\n",
       "   EXPIRE_FLAG  admission_AGE  \n",
       "0            0           64.0  \n",
       "1            0           71.0  \n",
       "2            0           75.0  \n",
       "3            0           39.0  \n",
       "4            0           58.0  \n",
       "\n",
       "[5 rows x 27 columns]"
      ]
     },
     "execution_count": 24,
     "metadata": {},
     "output_type": "execute_result"
    }
   ],
   "source": [
    "admissions.head()"
   ]
  },
  {
   "cell_type": "markdown",
   "id": "d313821f",
   "metadata": {},
   "source": [
    "### Working with ICUSTAYS.csv"
   ]
  },
  {
   "cell_type": "code",
   "execution_count": 25,
   "id": "eabde432",
   "metadata": {},
   "outputs": [
    {
     "data": {
      "text/html": [
       "<div>\n",
       "<style scoped>\n",
       "    .dataframe tbody tr th:only-of-type {\n",
       "        vertical-align: middle;\n",
       "    }\n",
       "\n",
       "    .dataframe tbody tr th {\n",
       "        vertical-align: top;\n",
       "    }\n",
       "\n",
       "    .dataframe thead th {\n",
       "        text-align: right;\n",
       "    }\n",
       "</style>\n",
       "<table border=\"1\" class=\"dataframe\">\n",
       "  <thead>\n",
       "    <tr style=\"text-align: right;\">\n",
       "      <th></th>\n",
       "      <th>ROW_ID</th>\n",
       "      <th>SUBJECT_ID</th>\n",
       "      <th>HADM_ID</th>\n",
       "      <th>ICUSTAY_ID</th>\n",
       "      <th>DBSOURCE</th>\n",
       "      <th>FIRST_CAREUNIT</th>\n",
       "      <th>LAST_CAREUNIT</th>\n",
       "      <th>FIRST_WARDID</th>\n",
       "      <th>LAST_WARDID</th>\n",
       "      <th>INTIME</th>\n",
       "      <th>OUTTIME</th>\n",
       "      <th>LOS</th>\n",
       "    </tr>\n",
       "  </thead>\n",
       "  <tbody>\n",
       "    <tr>\n",
       "      <th>0</th>\n",
       "      <td>365</td>\n",
       "      <td>268</td>\n",
       "      <td>110404</td>\n",
       "      <td>280836</td>\n",
       "      <td>carevue</td>\n",
       "      <td>MICU</td>\n",
       "      <td>MICU</td>\n",
       "      <td>52</td>\n",
       "      <td>52</td>\n",
       "      <td>2198-02-14 23:27:38</td>\n",
       "      <td>2198-02-18 05:26:11</td>\n",
       "      <td>3.2490</td>\n",
       "    </tr>\n",
       "    <tr>\n",
       "      <th>1</th>\n",
       "      <td>366</td>\n",
       "      <td>269</td>\n",
       "      <td>106296</td>\n",
       "      <td>206613</td>\n",
       "      <td>carevue</td>\n",
       "      <td>MICU</td>\n",
       "      <td>MICU</td>\n",
       "      <td>52</td>\n",
       "      <td>52</td>\n",
       "      <td>2170-11-05 11:05:29</td>\n",
       "      <td>2170-11-08 17:46:57</td>\n",
       "      <td>3.2788</td>\n",
       "    </tr>\n",
       "    <tr>\n",
       "      <th>2</th>\n",
       "      <td>367</td>\n",
       "      <td>270</td>\n",
       "      <td>188028</td>\n",
       "      <td>220345</td>\n",
       "      <td>carevue</td>\n",
       "      <td>CCU</td>\n",
       "      <td>CCU</td>\n",
       "      <td>57</td>\n",
       "      <td>57</td>\n",
       "      <td>2128-06-24 15:05:20</td>\n",
       "      <td>2128-06-27 12:32:29</td>\n",
       "      <td>2.8939</td>\n",
       "    </tr>\n",
       "    <tr>\n",
       "      <th>3</th>\n",
       "      <td>368</td>\n",
       "      <td>271</td>\n",
       "      <td>173727</td>\n",
       "      <td>249196</td>\n",
       "      <td>carevue</td>\n",
       "      <td>MICU</td>\n",
       "      <td>SICU</td>\n",
       "      <td>52</td>\n",
       "      <td>23</td>\n",
       "      <td>2120-08-07 23:12:42</td>\n",
       "      <td>2120-08-10 00:39:04</td>\n",
       "      <td>2.0600</td>\n",
       "    </tr>\n",
       "    <tr>\n",
       "      <th>4</th>\n",
       "      <td>369</td>\n",
       "      <td>272</td>\n",
       "      <td>164716</td>\n",
       "      <td>210407</td>\n",
       "      <td>carevue</td>\n",
       "      <td>CCU</td>\n",
       "      <td>CCU</td>\n",
       "      <td>57</td>\n",
       "      <td>57</td>\n",
       "      <td>2186-12-25 21:08:04</td>\n",
       "      <td>2186-12-27 12:01:13</td>\n",
       "      <td>1.6202</td>\n",
       "    </tr>\n",
       "  </tbody>\n",
       "</table>\n",
       "</div>"
      ],
      "text/plain": [
       "   ROW_ID  SUBJECT_ID  HADM_ID  ICUSTAY_ID DBSOURCE FIRST_CAREUNIT  \\\n",
       "0     365         268   110404      280836  carevue           MICU   \n",
       "1     366         269   106296      206613  carevue           MICU   \n",
       "2     367         270   188028      220345  carevue            CCU   \n",
       "3     368         271   173727      249196  carevue           MICU   \n",
       "4     369         272   164716      210407  carevue            CCU   \n",
       "\n",
       "  LAST_CAREUNIT  FIRST_WARDID  LAST_WARDID               INTIME  \\\n",
       "0          MICU            52           52  2198-02-14 23:27:38   \n",
       "1          MICU            52           52  2170-11-05 11:05:29   \n",
       "2           CCU            57           57  2128-06-24 15:05:20   \n",
       "3          SICU            52           23  2120-08-07 23:12:42   \n",
       "4           CCU            57           57  2186-12-25 21:08:04   \n",
       "\n",
       "               OUTTIME     LOS  \n",
       "0  2198-02-18 05:26:11  3.2490  \n",
       "1  2170-11-08 17:46:57  3.2788  \n",
       "2  2128-06-27 12:32:29  2.8939  \n",
       "3  2120-08-10 00:39:04  2.0600  \n",
       "4  2186-12-27 12:01:13  1.6202  "
      ]
     },
     "execution_count": 25,
     "metadata": {},
     "output_type": "execute_result"
    }
   ],
   "source": [
    "icustays = dfs['ICUSTAYS.csv']\n",
    "icustays.head()"
   ]
  },
  {
   "cell_type": "code",
   "execution_count": 26,
   "id": "dade528a",
   "metadata": {},
   "outputs": [],
   "source": [
    "icu = icustays.merge(patients, on='SUBJECT_ID', suffixes=('', '_PAT'), how='inner')"
   ]
  },
  {
   "cell_type": "code",
   "execution_count": 27,
   "id": "328fbe85",
   "metadata": {},
   "outputs": [],
   "source": [
    "icu['INTIME'] = pd.to_datetime(icu['INTIME'])\n",
    "icu['DOB'] = pd.to_datetime(icu['DOB'])\n",
    "icu['icu_AGE'] = icu.apply(lambda x: (x['INTIME'].to_pydatetime() - x['DOB'].to_pydatetime()).days // 365.242, axis = 1)"
   ]
  },
  {
   "cell_type": "code",
   "execution_count": 28,
   "id": "3f7fb4ba",
   "metadata": {},
   "outputs": [
    {
     "data": {
      "text/html": [
       "<div>\n",
       "<style scoped>\n",
       "    .dataframe tbody tr th:only-of-type {\n",
       "        vertical-align: middle;\n",
       "    }\n",
       "\n",
       "    .dataframe tbody tr th {\n",
       "        vertical-align: top;\n",
       "    }\n",
       "\n",
       "    .dataframe thead th {\n",
       "        text-align: right;\n",
       "    }\n",
       "</style>\n",
       "<table border=\"1\" class=\"dataframe\">\n",
       "  <thead>\n",
       "    <tr style=\"text-align: right;\">\n",
       "      <th></th>\n",
       "      <th>ROW_ID</th>\n",
       "      <th>SUBJECT_ID</th>\n",
       "      <th>HADM_ID</th>\n",
       "      <th>ICUSTAY_ID</th>\n",
       "      <th>DBSOURCE</th>\n",
       "      <th>FIRST_CAREUNIT</th>\n",
       "      <th>LAST_CAREUNIT</th>\n",
       "      <th>FIRST_WARDID</th>\n",
       "      <th>LAST_WARDID</th>\n",
       "      <th>INTIME</th>\n",
       "      <th>OUTTIME</th>\n",
       "      <th>LOS</th>\n",
       "      <th>ROW_ID_PAT</th>\n",
       "      <th>GENDER</th>\n",
       "      <th>DOB</th>\n",
       "      <th>DOD</th>\n",
       "      <th>DOD_HOSP</th>\n",
       "      <th>DOD_SSN</th>\n",
       "      <th>EXPIRE_FLAG</th>\n",
       "      <th>icu_AGE</th>\n",
       "    </tr>\n",
       "  </thead>\n",
       "  <tbody>\n",
       "    <tr>\n",
       "      <th>0</th>\n",
       "      <td>365</td>\n",
       "      <td>268</td>\n",
       "      <td>110404</td>\n",
       "      <td>280836</td>\n",
       "      <td>carevue</td>\n",
       "      <td>MICU</td>\n",
       "      <td>MICU</td>\n",
       "      <td>52</td>\n",
       "      <td>52</td>\n",
       "      <td>2198-02-14 23:27:38</td>\n",
       "      <td>2198-02-18 05:26:11</td>\n",
       "      <td>3.2490</td>\n",
       "      <td>251</td>\n",
       "      <td>F</td>\n",
       "      <td>2132-02-21</td>\n",
       "      <td>2198-02-18 00:00:00</td>\n",
       "      <td>2198-02-18 00:00:00</td>\n",
       "      <td>NaN</td>\n",
       "      <td>1</td>\n",
       "      <td>65.0</td>\n",
       "    </tr>\n",
       "    <tr>\n",
       "      <th>1</th>\n",
       "      <td>366</td>\n",
       "      <td>269</td>\n",
       "      <td>106296</td>\n",
       "      <td>206613</td>\n",
       "      <td>carevue</td>\n",
       "      <td>MICU</td>\n",
       "      <td>MICU</td>\n",
       "      <td>52</td>\n",
       "      <td>52</td>\n",
       "      <td>2170-11-05 11:05:29</td>\n",
       "      <td>2170-11-08 17:46:57</td>\n",
       "      <td>3.2788</td>\n",
       "      <td>252</td>\n",
       "      <td>M</td>\n",
       "      <td>2130-09-30</td>\n",
       "      <td>NaN</td>\n",
       "      <td>NaN</td>\n",
       "      <td>NaN</td>\n",
       "      <td>0</td>\n",
       "      <td>40.0</td>\n",
       "    </tr>\n",
       "    <tr>\n",
       "      <th>2</th>\n",
       "      <td>367</td>\n",
       "      <td>270</td>\n",
       "      <td>188028</td>\n",
       "      <td>220345</td>\n",
       "      <td>carevue</td>\n",
       "      <td>CCU</td>\n",
       "      <td>CCU</td>\n",
       "      <td>57</td>\n",
       "      <td>57</td>\n",
       "      <td>2128-06-24 15:05:20</td>\n",
       "      <td>2128-06-27 12:32:29</td>\n",
       "      <td>2.8939</td>\n",
       "      <td>253</td>\n",
       "      <td>M</td>\n",
       "      <td>2048-05-26</td>\n",
       "      <td>NaN</td>\n",
       "      <td>NaN</td>\n",
       "      <td>NaN</td>\n",
       "      <td>0</td>\n",
       "      <td>80.0</td>\n",
       "    </tr>\n",
       "    <tr>\n",
       "      <th>3</th>\n",
       "      <td>368</td>\n",
       "      <td>271</td>\n",
       "      <td>173727</td>\n",
       "      <td>249196</td>\n",
       "      <td>carevue</td>\n",
       "      <td>MICU</td>\n",
       "      <td>SICU</td>\n",
       "      <td>52</td>\n",
       "      <td>23</td>\n",
       "      <td>2120-08-07 23:12:42</td>\n",
       "      <td>2120-08-10 00:39:04</td>\n",
       "      <td>2.0600</td>\n",
       "      <td>254</td>\n",
       "      <td>F</td>\n",
       "      <td>2074-11-30</td>\n",
       "      <td>NaN</td>\n",
       "      <td>NaN</td>\n",
       "      <td>NaN</td>\n",
       "      <td>0</td>\n",
       "      <td>45.0</td>\n",
       "    </tr>\n",
       "    <tr>\n",
       "      <th>4</th>\n",
       "      <td>369</td>\n",
       "      <td>272</td>\n",
       "      <td>164716</td>\n",
       "      <td>210407</td>\n",
       "      <td>carevue</td>\n",
       "      <td>CCU</td>\n",
       "      <td>CCU</td>\n",
       "      <td>57</td>\n",
       "      <td>57</td>\n",
       "      <td>2186-12-25 21:08:04</td>\n",
       "      <td>2186-12-27 12:01:13</td>\n",
       "      <td>1.6202</td>\n",
       "      <td>255</td>\n",
       "      <td>M</td>\n",
       "      <td>2119-11-21</td>\n",
       "      <td>NaN</td>\n",
       "      <td>NaN</td>\n",
       "      <td>NaN</td>\n",
       "      <td>0</td>\n",
       "      <td>67.0</td>\n",
       "    </tr>\n",
       "  </tbody>\n",
       "</table>\n",
       "</div>"
      ],
      "text/plain": [
       "   ROW_ID  SUBJECT_ID  HADM_ID  ICUSTAY_ID DBSOURCE FIRST_CAREUNIT  \\\n",
       "0     365         268   110404      280836  carevue           MICU   \n",
       "1     366         269   106296      206613  carevue           MICU   \n",
       "2     367         270   188028      220345  carevue            CCU   \n",
       "3     368         271   173727      249196  carevue           MICU   \n",
       "4     369         272   164716      210407  carevue            CCU   \n",
       "\n",
       "  LAST_CAREUNIT  FIRST_WARDID  LAST_WARDID              INTIME  \\\n",
       "0          MICU            52           52 2198-02-14 23:27:38   \n",
       "1          MICU            52           52 2170-11-05 11:05:29   \n",
       "2           CCU            57           57 2128-06-24 15:05:20   \n",
       "3          SICU            52           23 2120-08-07 23:12:42   \n",
       "4           CCU            57           57 2186-12-25 21:08:04   \n",
       "\n",
       "               OUTTIME     LOS  ROW_ID_PAT GENDER        DOB  \\\n",
       "0  2198-02-18 05:26:11  3.2490         251      F 2132-02-21   \n",
       "1  2170-11-08 17:46:57  3.2788         252      M 2130-09-30   \n",
       "2  2128-06-27 12:32:29  2.8939         253      M 2048-05-26   \n",
       "3  2120-08-10 00:39:04  2.0600         254      F 2074-11-30   \n",
       "4  2186-12-27 12:01:13  1.6202         255      M 2119-11-21   \n",
       "\n",
       "                   DOD             DOD_HOSP DOD_SSN  EXPIRE_FLAG  icu_AGE  \n",
       "0  2198-02-18 00:00:00  2198-02-18 00:00:00     NaN            1     65.0  \n",
       "1                  NaN                  NaN     NaN            0     40.0  \n",
       "2                  NaN                  NaN     NaN            0     80.0  \n",
       "3                  NaN                  NaN     NaN            0     45.0  \n",
       "4                  NaN                  NaN     NaN            0     67.0  "
      ]
     },
     "execution_count": 28,
     "metadata": {},
     "output_type": "execute_result"
    }
   ],
   "source": [
    "icu.head()"
   ]
  },
  {
   "cell_type": "code",
   "execution_count": 29,
   "id": "fa205c50",
   "metadata": {},
   "outputs": [
    {
     "data": {
      "text/html": [
       "<div>\n",
       "<style scoped>\n",
       "    .dataframe tbody tr th:only-of-type {\n",
       "        vertical-align: middle;\n",
       "    }\n",
       "\n",
       "    .dataframe tbody tr th {\n",
       "        vertical-align: top;\n",
       "    }\n",
       "\n",
       "    .dataframe thead th {\n",
       "        text-align: right;\n",
       "    }\n",
       "</style>\n",
       "<table border=\"1\" class=\"dataframe\">\n",
       "  <thead>\n",
       "    <tr style=\"text-align: right;\">\n",
       "      <th></th>\n",
       "      <th>icu_AGE</th>\n",
       "      <th>admission_AGE</th>\n",
       "    </tr>\n",
       "  </thead>\n",
       "  <tbody>\n",
       "    <tr>\n",
       "      <th>0</th>\n",
       "      <td>65.0</td>\n",
       "      <td>65.0</td>\n",
       "    </tr>\n",
       "    <tr>\n",
       "      <th>1</th>\n",
       "      <td>40.0</td>\n",
       "      <td>40.0</td>\n",
       "    </tr>\n",
       "    <tr>\n",
       "      <th>2</th>\n",
       "      <td>80.0</td>\n",
       "      <td>80.0</td>\n",
       "    </tr>\n",
       "    <tr>\n",
       "      <th>3</th>\n",
       "      <td>45.0</td>\n",
       "      <td>45.0</td>\n",
       "    </tr>\n",
       "    <tr>\n",
       "      <th>4</th>\n",
       "      <td>67.0</td>\n",
       "      <td>67.0</td>\n",
       "    </tr>\n",
       "    <tr>\n",
       "      <th>...</th>\n",
       "      <td>...</td>\n",
       "      <td>...</td>\n",
       "    </tr>\n",
       "    <tr>\n",
       "      <th>53325</th>\n",
       "      <td>77.0</td>\n",
       "      <td>77.0</td>\n",
       "    </tr>\n",
       "    <tr>\n",
       "      <th>53326</th>\n",
       "      <td>300.0</td>\n",
       "      <td>300.0</td>\n",
       "    </tr>\n",
       "    <tr>\n",
       "      <th>53327</th>\n",
       "      <td>53.0</td>\n",
       "      <td>53.0</td>\n",
       "    </tr>\n",
       "    <tr>\n",
       "      <th>53328</th>\n",
       "      <td>67.0</td>\n",
       "      <td>67.0</td>\n",
       "    </tr>\n",
       "    <tr>\n",
       "      <th>53329</th>\n",
       "      <td>34.0</td>\n",
       "      <td>34.0</td>\n",
       "    </tr>\n",
       "  </tbody>\n",
       "</table>\n",
       "<p>53330 rows × 2 columns</p>\n",
       "</div>"
      ],
      "text/plain": [
       "       icu_AGE  admission_AGE\n",
       "0         65.0           65.0\n",
       "1         40.0           40.0\n",
       "2         80.0           80.0\n",
       "3         45.0           45.0\n",
       "4         67.0           67.0\n",
       "...        ...            ...\n",
       "53325     77.0           77.0\n",
       "53326    300.0          300.0\n",
       "53327     53.0           53.0\n",
       "53328     67.0           67.0\n",
       "53329     34.0           34.0\n",
       "\n",
       "[53330 rows x 2 columns]"
      ]
     },
     "execution_count": 29,
     "metadata": {},
     "output_type": "execute_result"
    }
   ],
   "source": [
    "icu_admission_demographics = icu.merge(admissions, on=['SUBJECT_ID', 'HADM_ID'], suffixes=('', '_ADM'), how='inner')\n",
    "icu_admission_demographics[['icu_AGE','admission_AGE']]"
   ]
  },
  {
   "cell_type": "code",
   "execution_count": 30,
   "id": "71290fef",
   "metadata": {},
   "outputs": [
    {
     "data": {
      "text/plain": [
       "Index(['ROW_ID', 'SUBJECT_ID', 'HADM_ID', 'ICUSTAY_ID', 'DBSOURCE',\n",
       "       'FIRST_CAREUNIT', 'LAST_CAREUNIT', 'FIRST_WARDID', 'LAST_WARDID',\n",
       "       'INTIME', 'OUTTIME', 'LOS', 'ROW_ID_PAT', 'GENDER', 'DOB', 'DOD',\n",
       "       'DOD_HOSP', 'DOD_SSN', 'EXPIRE_FLAG', 'icu_AGE', 'ROW_ID_ADM',\n",
       "       'ADMITTIME', 'DISCHTIME', 'DEATHTIME', 'ADMISSION_TYPE',\n",
       "       'ADMISSION_LOCATION', 'DISCHARGE_LOCATION', 'INSURANCE', 'LANGUAGE',\n",
       "       'RELIGION', 'MARITAL_STATUS', 'ETHNICITY', 'EDREGTIME', 'EDOUTTIME',\n",
       "       'DIAGNOSIS', 'HOSPITAL_EXPIRE_FLAG', 'HAS_CHARTEVENTS_DATA',\n",
       "       'ROW_ID_PAT_ADM', 'GENDER_ADM', 'DOB_ADM', 'DOD_ADM', 'DOD_HOSP_ADM',\n",
       "       'DOD_SSN_ADM', 'EXPIRE_FLAG_ADM', 'admission_AGE'],\n",
       "      dtype='object')"
      ]
     },
     "execution_count": 30,
     "metadata": {},
     "output_type": "execute_result"
    }
   ],
   "source": [
    "icu_admission_demographics.columns"
   ]
  },
  {
   "cell_type": "code",
   "execution_count": 31,
   "id": "6be7f92e",
   "metadata": {},
   "outputs": [
    {
     "name": "stdout",
     "output_type": "stream",
     "text": [
      "Number of instances where icu_AGE != admission_AGE: 319\n"
     ]
    }
   ],
   "source": [
    "# Count instances where icu_AGE is not equal to admission_AGE\n",
    "count_diff = (icu_admission_demographics['icu_AGE'] != icu_admission_demographics['admission_AGE']).sum()\n",
    "print(\"Number of instances where icu_AGE != admission_AGE:\", count_diff)"
   ]
  },
  {
   "cell_type": "markdown",
   "id": "0d82bfaf",
   "metadata": {},
   "source": [
    "#### So, we consider only icu_AGE."
   ]
  },
  {
   "cell_type": "code",
   "execution_count": 32,
   "id": "8493fed5",
   "metadata": {},
   "outputs": [
    {
     "name": "stdout",
     "output_type": "stream",
     "text": [
      "18.0\n"
     ]
    },
    {
     "data": {
      "text/plain": [
       "18.0"
      ]
     },
     "execution_count": 32,
     "metadata": {},
     "output_type": "execute_result"
    }
   ],
   "source": [
    "print(icu_admission_demographics['icu_AGE'].min())\n",
    "icu_admission_demographics['admission_AGE'].min()"
   ]
  },
  {
   "cell_type": "markdown",
   "id": "a47f17bc",
   "metadata": {},
   "source": [
    "### SOFA Scores\n",
    "#### On ICU Day 1"
   ]
  },
  {
   "cell_type": "markdown",
   "id": "789bccc1",
   "metadata": {},
   "source": [
    "| **Organ System**   | **0 points**                                            | **1 point**                                               | **2 points**                                         | **3 points**                                                                                    | **4 points**                                                                                     |\n",
    "| ------------------ | ------------------------------------------------------- | --------------------------------------------------------- | ---------------------------------------------------- | ----------------------------------------------------------------------------------------------- | ------------------------------------------------------------------------------------------------ |\n",
    "| **Respiratory**    | PaO₂/FiO₂ ≥ 400 mmHg                                    | PaO₂/FiO₂ < 400 mmHg                                      | PaO₂/FiO₂ < 300 mmHg                                 | PaO₂/FiO₂ < 200 mmHg **and** mechanically ventilated                                            | PaO₂/FiO₂ < 100 mmHg **and** mechanically ventilated                                             |\n",
    "| **Coagulation**    | Platelets ≥ 150 ×10³ µL                                 | Platelets < 150 ×10³ µL                                   | Platelets < 100 ×10³ µL                              | Platelets < 50 ×10³ µL                                                                          | Platelets < 20 ×10³ µL                                                                           |\n",
    "| **Liver**          | Bilirubin < 1.2 mg/dL                                   | Bilirubin 1.2–1.9 mg/dL                                   | Bilirubin 2.0–5.9 mg/dL                              | Bilirubin 6.0–11.9 mg/dL                                                                        | Bilirubin ≥ 12.0 mg/dL                                                                           |\n",
    "| **Cardiovascular** | MAP ≥ 70 mmHg                                           | MAP < 70 mmHg                                             | Dopamine ≤ 5 µg/kg/min **or** any dose of dobutamine | Dopamine > 5 µg/kg/min **or** epinephrine ≤ 0.1 µg/kg/min **or** norepinephrine ≤ 0.1 µg/kg/min | Dopamine > 15 µg/kg/min **or** epinephrine > 0.1 µg/kg/min **or** norepinephrine > 0.1 µg/kg/min |\n",
    "| **CNS**            | GCS 15                                                  | GCS 13–14                                                 | GCS 10–12                                            | GCS 6–9                                                                                         | GCS < 6                                                                                          |\n",
    "| **Renal**          | Creatinine < 1.2 mg/dL **or** urine output ≥ 500 mL/day | Creatinine 1.2–1.9 mg/dL **or** urine output < 500 mL/day | Creatinine 2.0–3.4 mg/dL                             | Creatinine 3.5–4.9 mg/dL **or** urine output < 500 mL/day                                       | Creatinine ≥ 5.0 mg/dL **or** urine output < 200 mL/day                                          |\n"
   ]
  },
  {
   "cell_type": "markdown",
   "id": "c53fa6b5",
   "metadata": {},
   "source": [
    "* Total SOFA = sum of all six component scores (0–24). \n",
    "* An acute increase of ≥ 2 points from baseline indicates organ dysfunction consistent with sepsis‑3."
   ]
  },
  {
   "cell_type": "code",
   "execution_count": 35,
   "id": "84759b45",
   "metadata": {},
   "outputs": [
    {
     "data": {
      "text/html": [
       "<div>\n",
       "<style scoped>\n",
       "    .dataframe tbody tr th:only-of-type {\n",
       "        vertical-align: middle;\n",
       "    }\n",
       "\n",
       "    .dataframe tbody tr th {\n",
       "        vertical-align: top;\n",
       "    }\n",
       "\n",
       "    .dataframe thead th {\n",
       "        text-align: right;\n",
       "    }\n",
       "</style>\n",
       "<table border=\"1\" class=\"dataframe\">\n",
       "  <thead>\n",
       "    <tr style=\"text-align: right;\">\n",
       "      <th></th>\n",
       "      <th>ROW_ID</th>\n",
       "      <th>ITEMID</th>\n",
       "      <th>LABEL</th>\n",
       "      <th>ABBREVIATION</th>\n",
       "      <th>DBSOURCE</th>\n",
       "      <th>LINKSTO</th>\n",
       "      <th>CATEGORY</th>\n",
       "      <th>UNITNAME</th>\n",
       "      <th>PARAM_TYPE</th>\n",
       "      <th>CONCEPTID</th>\n",
       "    </tr>\n",
       "  </thead>\n",
       "  <tbody>\n",
       "    <tr>\n",
       "      <th>0</th>\n",
       "      <td>457</td>\n",
       "      <td>497</td>\n",
       "      <td>Patient controlled analgesia (PCA) [Inject]</td>\n",
       "      <td>NaN</td>\n",
       "      <td>carevue</td>\n",
       "      <td>chartevents</td>\n",
       "      <td>NaN</td>\n",
       "      <td>NaN</td>\n",
       "      <td>NaN</td>\n",
       "      <td>NaN</td>\n",
       "    </tr>\n",
       "    <tr>\n",
       "      <th>1</th>\n",
       "      <td>458</td>\n",
       "      <td>498</td>\n",
       "      <td>PCA Lockout (Min)</td>\n",
       "      <td>NaN</td>\n",
       "      <td>carevue</td>\n",
       "      <td>chartevents</td>\n",
       "      <td>NaN</td>\n",
       "      <td>NaN</td>\n",
       "      <td>NaN</td>\n",
       "      <td>NaN</td>\n",
       "    </tr>\n",
       "    <tr>\n",
       "      <th>2</th>\n",
       "      <td>459</td>\n",
       "      <td>499</td>\n",
       "      <td>PCA Medication</td>\n",
       "      <td>NaN</td>\n",
       "      <td>carevue</td>\n",
       "      <td>chartevents</td>\n",
       "      <td>NaN</td>\n",
       "      <td>NaN</td>\n",
       "      <td>NaN</td>\n",
       "      <td>NaN</td>\n",
       "    </tr>\n",
       "    <tr>\n",
       "      <th>3</th>\n",
       "      <td>460</td>\n",
       "      <td>500</td>\n",
       "      <td>PCA Total Dose</td>\n",
       "      <td>NaN</td>\n",
       "      <td>carevue</td>\n",
       "      <td>chartevents</td>\n",
       "      <td>NaN</td>\n",
       "      <td>NaN</td>\n",
       "      <td>NaN</td>\n",
       "      <td>NaN</td>\n",
       "    </tr>\n",
       "    <tr>\n",
       "      <th>4</th>\n",
       "      <td>461</td>\n",
       "      <td>501</td>\n",
       "      <td>PCV Exh Vt (Obser)</td>\n",
       "      <td>NaN</td>\n",
       "      <td>carevue</td>\n",
       "      <td>chartevents</td>\n",
       "      <td>NaN</td>\n",
       "      <td>NaN</td>\n",
       "      <td>NaN</td>\n",
       "      <td>NaN</td>\n",
       "    </tr>\n",
       "  </tbody>\n",
       "</table>\n",
       "</div>"
      ],
      "text/plain": [
       "   ROW_ID  ITEMID                                        LABEL ABBREVIATION  \\\n",
       "0     457     497  Patient controlled analgesia (PCA) [Inject]          NaN   \n",
       "1     458     498                            PCA Lockout (Min)          NaN   \n",
       "2     459     499                               PCA Medication          NaN   \n",
       "3     460     500                               PCA Total Dose          NaN   \n",
       "4     461     501                           PCV Exh Vt (Obser)          NaN   \n",
       "\n",
       "  DBSOURCE      LINKSTO CATEGORY UNITNAME PARAM_TYPE  CONCEPTID  \n",
       "0  carevue  chartevents      NaN      NaN        NaN        NaN  \n",
       "1  carevue  chartevents      NaN      NaN        NaN        NaN  \n",
       "2  carevue  chartevents      NaN      NaN        NaN        NaN  \n",
       "3  carevue  chartevents      NaN      NaN        NaN        NaN  \n",
       "4  carevue  chartevents      NaN      NaN        NaN        NaN  "
      ]
     },
     "execution_count": 35,
     "metadata": {},
     "output_type": "execute_result"
    }
   ],
   "source": [
    "dfs['D_ITEMS.csv'].head()"
   ]
  },
  {
   "cell_type": "code",
   "execution_count": 46,
   "id": "b7995e80",
   "metadata": {},
   "outputs": [
    {
     "data": {
      "text/plain": [
       "56"
      ]
     },
     "execution_count": 46,
     "metadata": {},
     "output_type": "execute_result"
    }
   ],
   "source": [
    "(dfs['D_ITEMS.csv']['LABEL'].str.contains('Urine') == True).sum()"
   ]
  },
  {
   "cell_type": "markdown",
   "id": "6d44c02d",
   "metadata": {},
   "source": [
    "#### Urine output on first day\n",
    "\n",
    "Ref : https://pages.doit.wisc.edu/JLMARTIN22/mimic-code/-/blob/anticoag/mimic-iii/concepts/firstday/urine_output_first_day.sql?ref_type=heads"
   ]
  },
  {
   "cell_type": "code",
   "execution_count": 48,
   "id": "7572fa31",
   "metadata": {},
   "outputs": [
    {
     "data": {
      "text/plain": [
       "Index(['ROW_ID', 'SUBJECT_ID', 'HADM_ID', 'ICUSTAY_ID', 'CHARTTIME', 'ITEMID',\n",
       "       'VALUE', 'VALUEUOM', 'STORETIME', 'CGID', 'STOPPED', 'NEWBOTTLE',\n",
       "       'ISERROR'],\n",
       "      dtype='object')"
      ]
     },
     "execution_count": 48,
     "metadata": {},
     "output_type": "execute_result"
    }
   ],
   "source": [
    "outputEvents = dfs['OUTPUTEVENTS.csv']\n",
    "outputEvents.columns"
   ]
  },
  {
   "cell_type": "code",
   "execution_count": 49,
   "id": "a55d7c98",
   "metadata": {},
   "outputs": [],
   "source": [
    "urine_itemids = [\n",
    "    40055, 43175, 40069, 40094, 40715, 40473, 40085, 40057, 40056,\n",
    "    40405, 40428, 40086, 40096, 40651, 226559, 226560, 226561, 226584,\n",
    "    226563, 226564, 226565, 226567, 226557, 226558, 227488, 227489\n",
    "]\n",
    "\n",
    "requiredOutputEvents = outputEvents[outputEvents['ITEMID'].isin(urine_itemids)]"
   ]
  },
  {
   "cell_type": "code",
   "execution_count": 61,
   "id": "e04c88ce",
   "metadata": {},
   "outputs": [
    {
     "data": {
      "text/plain": [
       "Index(['ROW_ID', 'SUBJECT_ID', 'HADM_ID', 'ICUSTAY_ID', 'DBSOURCE',\n",
       "       'FIRST_CAREUNIT', 'LAST_CAREUNIT', 'FIRST_WARDID', 'LAST_WARDID',\n",
       "       'INTIME', 'OUTTIME', 'LOS', 'ROW_ID_OE', 'CHARTTIME', 'ITEMID', 'VALUE',\n",
       "       'VALUEUOM', 'STORETIME', 'CGID', 'STOPPED', 'NEWBOTTLE', 'ISERROR'],\n",
       "      dtype='object')"
      ]
     },
     "execution_count": 61,
     "metadata": {},
     "output_type": "execute_result"
    }
   ],
   "source": [
    "oeMergeIcustays = icustays.merge(requiredOutputEvents, on=['SUBJECT_ID','HADM_ID','ICUSTAY_ID'], suffixes=('', '_OE'), how='left')\n",
    "oeMergeIcustays.columns"
   ]
  },
  {
   "cell_type": "code",
   "execution_count": 62,
   "id": "530991a8",
   "metadata": {},
   "outputs": [],
   "source": [
    "oeMergeIcustays['INTIME'] = pd.to_datetime(oeMergeIcustays['INTIME'])\n",
    "oeMergeIcustays['CHARTTIME'] = pd.to_datetime(oeMergeIcustays['CHARTTIME'])"
   ]
  },
  {
   "cell_type": "markdown",
   "id": "a8fc9963",
   "metadata": {},
   "source": [
    "##### Filter for first day in ICU"
   ]
  },
  {
   "cell_type": "code",
   "execution_count": 63,
   "id": "99b2d3c6",
   "metadata": {},
   "outputs": [],
   "source": [
    "oeMergeIcustays = oeMergeIcustays[\n",
    "    (oeMergeIcustays['CHARTTIME'] >= oeMergeIcustays['INTIME']) &\n",
    "    (oeMergeIcustays['CHARTTIME'] <= oeMergeIcustays['INTIME'] + timedelta(days=1))\n",
    "]"
   ]
  },
  {
   "cell_type": "markdown",
   "id": "eb86b00d",
   "metadata": {},
   "source": [
    "##### Adjust urine output: negative for GU irrigant (itemid 227488) when value > 0"
   ]
  },
  {
   "cell_type": "code",
   "execution_count": 64,
   "id": "cb73ce1a",
   "metadata": {},
   "outputs": [
    {
     "name": "stdout",
     "output_type": "stream",
     "text": [
      "       SUBJECT_ID  HADM_ID  ICUSTAY_ID  urineOutput\n",
      "0               3   145834      211552        497.0\n",
      "1               4   185777      294638       2150.0\n",
      "2               6   107064      228232       1940.0\n",
      "3               8   159514      262299        150.0\n",
      "4               9   150750      220597        887.0\n",
      "...           ...      ...         ...          ...\n",
      "53354       99985   176670      279638       1150.0\n",
      "53355       99991   151118      226241       4330.0\n",
      "53356       99992   197084      242052       1570.0\n",
      "53357       99995   137810      229633       1495.0\n",
      "53358       99999   113369      246512       4510.0\n",
      "\n",
      "[53359 rows x 4 columns]\n"
     ]
    }
   ],
   "source": [
    "oeMergeIcustays['adjustedVal'] = oeMergeIcustays.apply(\n",
    "    lambda row: -row['VALUE'] if row['ITEMID'] == 227488 and row['VALUE'] > 0 else row['VALUE'],\n",
    "    axis=1\n",
    ")\n",
    "\n",
    "resultUO = oeMergeIcustays.groupby(['SUBJECT_ID', 'HADM_ID', 'ICUSTAY_ID'])['adjustedVal'].sum().reset_index()\n",
    "\n",
    "resultUO = resultUO.rename(columns={'adjustedVal': 'urineOutput'})\n",
    "\n",
    "resultUO = resultUO.sort_values(['SUBJECT_ID', 'HADM_ID', 'ICUSTAY_ID'])\n",
    "\n",
    "print(resultUO)"
   ]
  },
  {
   "cell_type": "markdown",
   "id": "57a43ff7",
   "metadata": {},
   "source": [
    "#### Vitals on First Day\n",
    "\n",
    "Ref : https://pages.doit.wisc.edu/JLMARTIN22/mimic-code/-/blob/anticoag/mimic-iii/concepts/firstday/vitals_first_day.sql?ref_type=heads"
   ]
  },
  {
   "cell_type": "code",
   "execution_count": 59,
   "id": "4776ae41",
   "metadata": {},
   "outputs": [],
   "source": [
    "vital_itemids = {\n",
    "    'heartrate': [211, 220045],\n",
    "    'sysbp': [51, 442, 455, 6701, 220179, 220050],\n",
    "    'diasbp': [8368, 8440, 8441, 8555, 220180, 220051],\n",
    "    'meanbp': [456, 52, 6702, 443, 220052, 220181, 225312],\n",
    "    'resprate': [615, 618, 220210, 224690],\n",
    "    'tempc': [676, 223762],  # Temperature in Celsius\n",
    "    'tempf': [678, 223761],  # Temperature in Fahrenheit\n",
    "    'spo2': [646, 220277],\n",
    "    'glucose': [807, 811, 1529, 3745, 3744, 225664, 220621, 226537]\n",
    "}\n",
    "\n",
    "all_itemids = [item for sublist in vital_itemids.values() for item in sublist]"
   ]
  },
  {
   "cell_type": "code",
   "execution_count": 60,
   "id": "b28a99b9",
   "metadata": {},
   "outputs": [],
   "source": [
    "ce_filtered = chartEvents[ (chartEvents['ITEMID'].isin(all_itemids)) & (chartEvents['ERROR'].isna() | (chartEvents['ERROR'] == 0))]"
   ]
  },
  {
   "cell_type": "code",
   "execution_count": 68,
   "id": "3d7608c7",
   "metadata": {},
   "outputs": [
    {
     "data": {
      "text/plain": [
       "Index(['ROW_ID', 'SUBJECT_ID', 'HADM_ID', 'ICUSTAY_ID', 'DBSOURCE',\n",
       "       'FIRST_CAREUNIT', 'LAST_CAREUNIT', 'FIRST_WARDID', 'LAST_WARDID',\n",
       "       'INTIME', 'OUTTIME', 'LOS', 'ROW_ID_CE', 'SUBJECT_ID_CE', 'HADM_ID_CE',\n",
       "       'ITEMID', 'CHARTTIME', 'STORETIME', 'CGID', 'VALUE', 'VALUENUM',\n",
       "       'VALUEUOM', 'WARNING', 'ERROR', 'RESULTSTATUS', 'STOPPED'],\n",
       "      dtype='object')"
      ]
     },
     "execution_count": 68,
     "metadata": {},
     "output_type": "execute_result"
    }
   ],
   "source": [
    "icuCE = icustays.merge(ce_filtered, on=['ICUSTAY_ID'], suffixes=['','_CE'], how='left')\n",
    "icuCE.columns"
   ]
  },
  {
   "cell_type": "markdown",
   "id": "9ea270f5",
   "metadata": {},
   "source": [
    "##### Filter for first day in ICU"
   ]
  },
  {
   "cell_type": "code",
   "execution_count": 69,
   "id": "f89900fb",
   "metadata": {},
   "outputs": [],
   "source": [
    "icuCE['CHARTTIME'] = pd.to_datetime(icuCE['CHARTTIME'])\n",
    "icuCE['INTIME'] = pd.to_datetime(icuCE['INTIME'])\n",
    "\n",
    "icuCE = icuCE[\n",
    "    (icuCE['CHARTTIME'] >= icuCE['INTIME']) &\n",
    "    (icuCE['CHARTTIME'] <= icuCE['INTIME'] + timedelta(days=1))\n",
    "]\n"
   ]
  },
  {
   "cell_type": "code",
   "execution_count": null,
   "id": "0a95239d",
   "metadata": {},
   "outputs": [],
   "source": [
    "# Assign VitalID based on itemid\n",
    "# returns the first VALUENUM for the given itemid\n",
    "def assign_vitalid(itemid):\n",
    "    if itemid in vital_itemids['heartrate'] and 0 < icuCE.loc[icuCE['ITEMID'] == itemid, 'VALUENUM'].iloc[0] < 300:\n",
    "        return 1  # HeartRate\n",
    "    elif itemid in vital_itemids['sysbp'] and 0 < icuCE.loc[icuCE['ITEMID'] == itemid, 'VALUENUM'].iloc[0] < 400:\n",
    "        return 2  # SysBP\n",
    "    elif itemid in vital_itemids['diasbp'] and 0 < icuCE.loc[icuCE['ITEMID'] == itemid, 'VALUENUM'].iloc[0] < 300:\n",
    "        return 3  # DiasBP\n",
    "    elif itemid in vital_itemids['meanbp'] and 0 < icuCE.loc[icuCE['ITEMID'] == itemid, 'VALUENUM'].iloc[0] < 300:\n",
    "        return 4  # MeanBP\n",
    "    elif itemid in vital_itemids['resprate'] and 0 < icuCE.loc[icuCE['ITEMID'] == itemid, 'VALUENUM'].iloc[0] < 70:\n",
    "        return 5  # RespRate\n",
    "    elif itemid in vital_itemids['tempc'] and 10 < icuCE.loc[icuCE['ITEMID'] == itemid, 'VALUENUM'].iloc[0] < 50:\n",
    "        return 6  # TempC\n",
    "    elif itemid in vital_itemids['tempf'] and 70 < icuCE.loc[icuCE['ITEMID'] == itemid, 'VALUENUM'].iloc[0] < 120:\n",
    "        return 6  # TempF (will be converted to Celsius)\n",
    "    elif itemid in vital_itemids['spo2'] and 0 < icuCE.loc[icuCE['ITEMID'] == itemid, 'VALUENUM'].iloc[0] <= 100:\n",
    "        return 7  # SpO2\n",
    "    elif itemid in vital_itemids['glucose'] and icuCE.loc[icuCE['ITEMID'] == itemid, 'VALUENUM'].iloc[0] > 0:\n",
    "        return 8  # Glucose\n",
    "    return None"
   ]
  }
 ],
 "metadata": {
  "kernelspec": {
   "display_name": "Python 3",
   "language": "python",
   "name": "python3"
  },
  "language_info": {
   "codemirror_mode": {
    "name": "ipython",
    "version": 3
   },
   "file_extension": ".py",
   "mimetype": "text/x-python",
   "name": "python",
   "nbconvert_exporter": "python",
   "pygments_lexer": "ipython3",
   "version": "3.13.5"
  }
 },
 "nbformat": 4,
 "nbformat_minor": 5
}
