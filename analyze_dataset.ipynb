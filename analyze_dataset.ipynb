{
  "cells": [
    {
      "cell_type": "code",
      "execution_count": 10,
      "metadata": {
        "id": "XMP4B4iF1Pm1"
      },
      "outputs": [
        {
          "name": "stdout",
          "output_type": "stream",
          "text": [
            "Saved requiredFile.pkl with missing values filled and normalized.\n"
          ]
        }
      ],
      "source": [
        "import pandas as pd\n",
        "from sklearn.model_selection import train_test_split\n",
        "from sklearn.preprocessing import StandardScaler\n",
        "\n",
        "# Load cleaned data (43 features) created in the notebook\n",
        "df = pd.read_csv('./finalData.csv')\n",
        "\n",
        "#print(df.shape)\n",
        "#print(df.columns)\n",
        "cols = ['hadm_id', 'icustay_id', 'subject_id', 'race_asian', 'race_black', 'race_latino', 'race_white', 'race_other', 'HCO3', 'bin', 'Unnamed: 0']\n",
        "df.drop(columns=cols, inplace=True)\n",
        "\n",
        "#print(df.shape)\n",
        "#print(df.columns)\n",
        "\n",
        "# Separate features and label\n",
        "X = df.drop(columns=['90D_Mortality'])\n",
        "y = df[\"90D_Mortality\"]\n",
        "\n",
        "# Simulated action from fluids (discrete bins)\n",
        "df[\"fluid_bin\"] = pd.qcut(df[\"TotalInput\"], q=5, labels=False, duplicates='drop')\n",
        "action = df[\"fluid_bin\"].fillna(0).astype(int)\n",
        "\n",
        "# Fill any missing values in features\n",
        "X = X.fillna(X.mean())\n",
        "\n",
        "# Placeholder next-state\n",
        "Xnext = X.copy()\n",
        "\n",
        "# Normalize features\n",
        "scaler = StandardScaler()\n",
        "X = pd.DataFrame(scaler.fit_transform(X), columns=X.columns)\n",
        "Xnext = pd.DataFrame(scaler.transform(Xnext), columns=X.columns)\n",
        "\n",
        "# Train/val/test split (80/10/10)\n",
        "X_temp, X_test, y_temp, y_test, Xnext_temp, Xnext_test, action_temp, action_test = train_test_split(\n",
        "    X, y, Xnext, action, test_size=0.1, random_state=42\n",
        ")\n",
        "X_train, X_val, y_train, y_val, Xnext_train, Xnext_val, action_train, action_val = train_test_split(\n",
        "    X_temp, y_temp, Xnext_temp, action_temp, test_size=0.1111, random_state=42\n",
        ")\n",
        "\n",
        "# Save packaged dataset\n",
        "final_data = {\n",
        "    \"X_train\": X_train, \"y_train\": y_train, \"Xnext_train\": Xnext_train, \"Action_train\": action_train,\n",
        "    \"X_val\": X_val, \"y_val\": y_val, \"Xnext_val\": Xnext_val, \"Action_val\": action_val,\n",
        "    \"X_test\": X_test, \"y_test\": y_test, \"Xnext_test\": Xnext_test, \"Action_test\": action_test\n",
        "}\n",
        "pd.to_pickle(final_data, \"requiredFile.pkl\")\n",
        "print(\"Saved requiredFile.pkl with missing values filled and normalized.\")\n"
      ]
    },
    {
      "cell_type": "code",
      "execution_count": null,
      "metadata": {},
      "outputs": [],
      "source": []
    }
  ],
  "metadata": {
    "colab": {
      "provenance": []
    },
    "kernelspec": {
      "display_name": "Python 3",
      "name": "python3"
    },
    "language_info": {
      "codemirror_mode": {
        "name": "ipython",
        "version": 3
      },
      "file_extension": ".py",
      "mimetype": "text/x-python",
      "name": "python",
      "nbconvert_exporter": "python",
      "pygments_lexer": "ipython3",
      "version": "3.13.5"
    }
  },
  "nbformat": 4,
  "nbformat_minor": 0
}
