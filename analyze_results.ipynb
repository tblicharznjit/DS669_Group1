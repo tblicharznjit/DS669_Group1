{
  "nbformat": 4,
  "nbformat_minor": 0,
  "metadata": {
    "colab": {
      "provenance": []
    },
    "kernelspec": {
      "name": "python3",
      "display_name": "Python 3"
    },
    "language_info": {
      "name": "python"
    }
  },
  "cells": [
    {
      "cell_type": "code",
      "execution_count": null,
      "metadata": {
        "id": "XMP4B4iF1Pm1"
      },
      "outputs": [],
      "source": [
        "import pandas as pd\n",
        "import matplotlib.pyplot as plt\n",
        "\n",
        "# Load training data\n",
        "data = pd.read_pickle(\"requiredFile.pkl\")\n",
        "\n",
        "X = data[\"X_train\"]\n",
        "y = data[\"y_train\"]\n",
        "actions = data[\"Action_train\"]\n",
        "\n",
        "# 1) Overall survival rate\n",
        "survival_rate = (y == 0).sum() / len(y)\n",
        "print(f\"Overall survival rate: {survival_rate:.4f}\")\n",
        "\n",
        "# 2) Per-action survival rate\n",
        "df = pd.DataFrame({\"action\": actions, \"survived\": (y == 0)})\n",
        "survival_by_action = df.groupby(\"action\")[\"survived\"].mean()\n",
        "print(\"\\nSurvival rate by action:\")\n",
        "print(survival_by_action)\n",
        "\n",
        "# 3) Action distribution\n",
        "plt.figure(figsize=(6, 4))\n",
        "df[\"action\"].value_counts().sort_index().plot(kind=\"bar\")\n",
        "plt.xlabel(\"Action (Fluid Bin)\")\n",
        "plt.ylabel(\"Count\")\n",
        "plt.title(\"Action Distribution\")\n",
        "plt.xticks(rotation=0)\n",
        "plt.grid(True)\n",
        "plt.tight_layout()\n",
        "plt.savefig(\"action_distribution.png\")\n",
        "plt.show()\n",
        "\n",
        "# 4) Survival rate by action\n",
        "plt.figure(figsize=(6, 4))\n",
        "survival_by_action.plot(kind=\"bar\", color=\"green\")\n",
        "plt.xlabel(\"Action\")\n",
        "plt.ylabel(\"Survival Rate\")\n",
        "plt.title(\"Survival Rate by Action\")\n",
        "plt.ylim(0, 1)\n",
        "plt.xticks(rotation=0)\n",
        "plt.grid(True)\n",
        "plt.tight_layout()\n",
        "plt.savefig(\"survival_by_action.png\")\n",
        "plt.show()\n",
        "\n",
        "# 5) Training loss over time\n",
        "losses = []\n",
        "try:\n",
        "    with open(\"training_log.txt\", \"r\") as f:\n",
        "        for line in f:\n",
        "            if \"Loss:\" in line:\n",
        "                loss = float(line.strip().split(\"Loss:\")[-1])\n",
        "                losses.append(loss)\n",
        "\n",
        "    plt.figure(figsize=(6, 4))\n",
        "    plt.plot(losses)\n",
        "    plt.xlabel(\"Epoch\")\n",
        "    plt.ylabel(\"Loss\")\n",
        "    plt.title(\"Training Loss Over Time\")\n",
        "    plt.grid(True)\n",
        "    plt.tight_layout()\n",
        "    plt.savefig(\"loss_curve.png\")\n",
        "    plt.show()\n",
        "except FileNotFoundError:\n",
        "    print(\"training_log.txt not found.\")\n"
      ]
    }
  ]
}