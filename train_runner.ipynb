{
  "cells": [
    {
      "cell_type": "code",
      "execution_count": 6,
      "metadata": {
        "id": "XMP4B4iF1Pm1"
      },
      "outputs": [
        {
          "name": "stdout",
          "output_type": "stream",
          "text": [
            "Action stats: 0 4 Unique: [0 1 2 3 4]\n",
            "Reward stats: (array([0, 1]), array([248302,  27541]))\n"
          ]
        },
        {
          "ename": "ValueError",
          "evalue": "not enough values to unpack (expected 8, got 4)",
          "output_type": "error",
          "traceback": [
            "\u001b[31m---------------------------------------------------------------------------\u001b[39m",
            "\u001b[31mValueError\u001b[39m                                Traceback (most recent call last)",
            "\u001b[36mCell\u001b[39m\u001b[36m \u001b[39m\u001b[32mIn[6]\u001b[39m\u001b[32m, line 44\u001b[39m\n\u001b[32m     40\u001b[39m \u001b[38;5;66;03m# Clear log at start (optional): open(\"training_log.txt\", \"w\").close()\u001b[39;00m\n\u001b[32m     41\u001b[39m \n\u001b[32m     42\u001b[39m \u001b[38;5;66;03m# ====== Training Loop ======\u001b[39;00m\n\u001b[32m     43\u001b[39m \u001b[38;5;28;01mfor\u001b[39;00m epoch \u001b[38;5;129;01min\u001b[39;00m \u001b[38;5;28mrange\u001b[39m(epochs):\n\u001b[32m---> \u001b[39m\u001b[32m44\u001b[39m     loss = \u001b[43mmodel\u001b[49m\u001b[43m.\u001b[49m\u001b[43mtrain\u001b[49m\u001b[43m(\u001b[49m\u001b[43mbatchs\u001b[49m\u001b[43m,\u001b[49m\u001b[43m \u001b[49m\u001b[43mepoch\u001b[49m\u001b[43m)\u001b[49m\n\u001b[32m     45\u001b[39m     \u001b[38;5;28mprint\u001b[39m(\u001b[33mf\u001b[39m\u001b[33m\"\u001b[39m\u001b[33mEpoch \u001b[39m\u001b[38;5;132;01m{\u001b[39;00mepoch\u001b[38;5;250m \u001b[39m+\u001b[38;5;250m \u001b[39m\u001b[32m1\u001b[39m\u001b[38;5;132;01m}\u001b[39;00m\u001b[33m/\u001b[39m\u001b[38;5;132;01m{\u001b[39;00mepochs\u001b[38;5;132;01m}\u001b[39;00m\u001b[33m | Loss: \u001b[39m\u001b[38;5;132;01m{\u001b[39;00mloss\u001b[38;5;132;01m:\u001b[39;00m\u001b[33m.4f\u001b[39m\u001b[38;5;132;01m}\u001b[39;00m\u001b[33m\"\u001b[39m)\n\u001b[32m     47\u001b[39m     \u001b[38;5;66;03m# Log each epoch to file\u001b[39;00m\n",
            "\u001b[36mFile \u001b[39m\u001b[32m~/localDocuments/sem3/ds699/project/DS669_Group1/ID3QNE_deepQnet.py:56\u001b[39m, in \u001b[36mDist_DQN.train\u001b[39m\u001b[34m(self, batchs, epoch)\u001b[39m\n\u001b[32m     55\u001b[39m \u001b[38;5;28;01mdef\u001b[39;00m\u001b[38;5;250m \u001b[39m\u001b[34mtrain\u001b[39m(\u001b[38;5;28mself\u001b[39m, batchs, epoch):\n\u001b[32m---> \u001b[39m\u001b[32m56\u001b[39m     (state, next_state, action, next_action, reward, done, bloc_num, SOFAS) = batchs\n\u001b[32m     57\u001b[39m     batch_s = \u001b[32m128\u001b[39m\n\u001b[32m     58\u001b[39m     uids = np.unique(bloc_num)\n",
            "\u001b[31mValueError\u001b[39m: not enough values to unpack (expected 8, got 4)"
          ]
        }
      ],
      "source": [
        "import numpy as np\n",
        "import torch\n",
        "import pickle\n",
        "from ID3QNE_deepQnet import Dist_DQN\n",
        "\n",
        "# ====== CONFIG ======\n",
        "device = 'mps' if torch.mps.is_available() else 'cpu'\n",
        "epochs = 100  # change here if needed\n",
        "\n",
        "# ====== Load Processed Patient Data ======\n",
        "with open('requiredFile.pkl', 'rb') as f:\n",
        "    MIMICtable = pickle.load(f)\n",
        "\n",
        "X = MIMICtable['X_train']\n",
        "y = MIMICtable['y_train']\n",
        "Xnext = MIMICtable['Xnext_train']\n",
        "Action = MIMICtable['Action_train']\n",
        "\n",
        "# Convert to NumPy arrays\n",
        "X = X.to_numpy()\n",
        "y = y.to_numpy()\n",
        "Xnext = Xnext.to_numpy()\n",
        "Action = Action.to_numpy()\n",
        "\n",
        "# Quick checks\n",
        "print(\"Action stats:\", np.min(Action), np.max(Action), \"Unique:\", np.unique(Action))\n",
        "print(\"Reward stats:\", np.unique(y, return_counts=True))\n",
        "\n",
        "# ====== Initialize Model ======\n",
        "model = Dist_DQN(state_dim=X.shape[1], num_actions=len(np.unique(Action))*5, device=device)\n",
        "\n",
        "# ====== Prepare Batch ======\n",
        "batchs = {\n",
        "    'state': X,\n",
        "    'next_state': Xnext,\n",
        "    'action': Action,\n",
        "    'reward': y\n",
        "}\n",
        "\n",
        "# Clear log at start (optional): open(\"training_log.txt\", \"w\").close()\n",
        "\n",
        "# ====== Training Loop ======\n",
        "for epoch in range(epochs):\n",
        "    loss = model.train(batchs, epoch)\n",
        "    print(f\"Epoch {epoch + 1}/{epochs} | Loss: {loss:.4f}\")\n",
        "\n",
        "    # Log each epoch to file\n",
        "    with open(\"training_log.txt\", \"a\") as log_file:\n",
        "        log_file.write(f\"Epoch {epoch + 1} | Loss: {loss:.4f}\\n\")\n",
        "\n",
        "print(\"Training complete.\")\n"
      ]
    }
  ],
  "metadata": {
    "colab": {
      "provenance": []
    },
    "kernelspec": {
      "display_name": "Python 3",
      "name": "python3"
    },
    "language_info": {
      "codemirror_mode": {
        "name": "ipython",
        "version": 3
      },
      "file_extension": ".py",
      "mimetype": "text/x-python",
      "name": "python",
      "nbconvert_exporter": "python",
      "pygments_lexer": "ipython3",
      "version": "3.13.5"
    }
  },
  "nbformat": 4,
  "nbformat_minor": 0
}
