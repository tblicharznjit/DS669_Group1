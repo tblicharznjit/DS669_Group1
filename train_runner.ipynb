{
  "nbformat": 4,
  "nbformat_minor": 0,
  "metadata": {
    "colab": {
      "provenance": []
    },
    "kernelspec": {
      "name": "python3",
      "display_name": "Python 3"
    },
    "language_info": {
      "name": "python"
    }
  },
  "cells": [
    {
      "cell_type": "code",
      "execution_count": null,
      "metadata": {
        "id": "XMP4B4iF1Pm1"
      },
      "outputs": [],
      "source": [
        "import numpy as np\n",
        "import torch\n",
        "import pickle\n",
        "from ID3QNE_deepQnet import Dist_DQN\n",
        "\n",
        "device = 'cuda' if torch.cuda.is_available() else 'cpu'\n",
        "epochs = 1000\n",
        "\n",
        "with open('requiredFile.pkl', 'rb') as f:\n",
        "    MIMICtable = pickle.load(f)\n",
        "\n",
        "X = MIMICtable['X_train'];     Xnext = MIMICtable['Xnext_train']\n",
        "y = MIMICtable['y_train'];     Action = MIMICtable['Action_train']\n",
        "\n",
        "X = X.to_numpy(); Xnext = Xnext.to_numpy()\n",
        "y = y.to_numpy(); Action = Action.to_numpy()\n",
        "\n",
        "print(\"Action stats:\", np.min(Action), np.max(Action), \"Unique:\", np.unique(Action))\n",
        "print(\"Reward stats:\", np.unique(y, return_counts=True))\n",
        "\n",
        "model = Dist_DQN(state_dim=X.shape[1], n_actions=len(np.unique(Action)))\n",
        "\n",
        "batchs = {\n",
        "    'state': X,\n",
        "    'next_state': Xnext,\n",
        "    'action': Action,\n",
        "    'reward': y\n",
        "}\n",
        "\n",
        "open(\"training_log.txt\", \"w\").close()  # clear log\n",
        "for epoch in range(epochs):\n",
        "    loss = model.train_model(batchs, epoch)\n",
        "    print(f\"Epoch {epoch + 1}/{epochs} | Loss: {loss:.4f}\")\n",
        "    with open(\"training_log.txt\", \"a\") as log_file:\n",
        "        log_file.write(f\"Epoch {epoch + 1} | Loss: {loss:.4f}\\n\")\n",
        "\n",
        "print(\"Training complete.\")\n"
      ]
    }
  ]
}