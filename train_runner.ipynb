{
  "cells": [
    {
      "cell_type": "code",
      "execution_count": null,
      "metadata": {
        "id": "XMP4B4iF1Pm1"
      },
      "outputs": [],
      "source": [
        "import numpy as np\n",
        "import torch\n",
        "import pickle\n",
        "from ID3QNE_deepQnet import Dist_DQN\n",
        "\n",
        "# ====== CONFIG ======\n",
        "device = 'mps' if torch.mps.is_available() else 'cpu'\n",
        "epochs = 100  # change here if needed\n",
        "\n",
        "# ====== Load Processed Patient Data ======\n",
        "with open('requiredFile.pkl', 'rb') as f:\n",
        "    MIMICtable = pickle.load(f)\n",
        "\n",
        "X = MIMICtable['X_train']\n",
        "y = MIMICtable['y_train']\n",
        "Xnext = MIMICtable['Xnext_train']\n",
        "Action = MIMICtable['Action_train']\n",
        "\n",
        "# Convert to NumPy arrays\n",
        "X = X.to_numpy()\n",
        "y = y.to_numpy()\n",
        "Xnext = Xnext.to_numpy()\n",
        "Action = Action.to_numpy()\n",
        "\n",
        "# Quick checks\n",
        "print(\"Action stats:\", np.min(Action), np.max(Action), \"Unique:\", np.unique(Action))\n",
        "print(\"Reward stats:\", np.unique(y, return_counts=True))\n",
        "\n",
        "# ====== Initialize Model ======\n",
        "model = Dist_DQN(state_dim=X.shape[1], n_actions=len(np.unique(Action)))\n",
        "\n",
        "# ====== Prepare Batch ======\n",
        "batchs = {\n",
        "    'state': X,\n",
        "    'next_state': Xnext,\n",
        "    'action': Action,\n",
        "    'reward': y\n",
        "}\n",
        "\n",
        "# Clear log at start (optional): open(\"training_log.txt\", \"w\").close()\n",
        "\n",
        "model.to(device)\n",
        "\n",
        "# ====== Training Loop ======\n",
        "for epoch in range(epochs):\n",
        "    loss = model.train_model(batchs, epoch)\n",
        "    print(f\"Epoch {epoch + 1}/{epochs} | Loss: {loss:.4f}\")\n",
        "\n",
        "    # Log each epoch to file\n",
        "    with open(\"training_log.txt\", \"a\") as log_file:\n",
        "        log_file.write(f\"Epoch {epoch + 1} | Loss: {loss:.4f}\\n\")\n",
        "\n",
        "print(\"Training complete.\")\n"
      ]
    }
  ],
  "metadata": {
    "colab": {
      "provenance": []
    },
    "kernelspec": {
      "display_name": "Python 3",
      "name": "python3"
    },
    "language_info": {
      "name": "python"
    }
  },
  "nbformat": 4,
  "nbformat_minor": 0
}
