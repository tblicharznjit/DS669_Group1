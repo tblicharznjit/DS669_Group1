{
 "cells": [
  {
   "cell_type": "markdown",
   "id": "a47f17bc",
   "metadata": {},
   "source": [
    "### SOFA "
   ]
  },
  {
   "cell_type": "markdown",
   "id": "789bccc1",
   "metadata": {},
   "source": [
    "| **Organ System**   | **0 points**                                            | **1 point**                                               | **2 points**                                         | **3 points**                                                                                    | **4 points**                                                                                     |\n",
    "| ------------------ | ------------------------------------------------------- | --------------------------------------------------------- | ---------------------------------------------------- | ----------------------------------------------------------------------------------------------- | ------------------------------------------------------------------------------------------------ |\n",
    "| **Respiratory**    | PaO₂/FiO₂ ≥ 400 mmHg                                    | PaO₂/FiO₂ < 400 mmHg                                      | PaO₂/FiO₂ < 300 mmHg                                 | PaO₂/FiO₂ < 200 mmHg **and** mechanically ventilated                                            | PaO₂/FiO₂ < 100 mmHg **and** mechanically ventilated                                             |\n",
    "| **Coagulation**    | Platelets ≥ 150 ×10³ µL                                 | Platelets < 150 ×10³ µL                                   | Platelets < 100 ×10³ µL                              | Platelets < 50 ×10³ µL                                                                          | Platelets < 20 ×10³ µL                                                                           |\n",
    "| **Liver**          | Bilirubin < 1.2 mg/dL                                   | Bilirubin 1.2–1.9 mg/dL                                   | Bilirubin 2.0–5.9 mg/dL                              | Bilirubin 6.0–11.9 mg/dL                                                                        | Bilirubin ≥ 12.0 mg/dL                                                                           |\n",
    "| **Cardiovascular** | MAP ≥ 70 mmHg                                           | MAP < 70 mmHg                                             | Dopamine ≤ 5 µg/kg/min **or** any dose of dobutamine | Dopamine > 5 µg/kg/min **or** epinephrine ≤ 0.1 µg/kg/min **or** norepinephrine ≤ 0.1 µg/kg/min | Dopamine > 15 µg/kg/min **or** epinephrine > 0.1 µg/kg/min **or** norepinephrine > 0.1 µg/kg/min |\n",
    "| **CNS**            | GCS 15                                                  | GCS 13–14                                                 | GCS 10–12                                            | GCS 6–9                                                                                         | GCS < 6                                                                                          |\n",
    "| **Renal**          | Creatinine < 1.2 mg/dL **or** urine output ≥ 500 mL/day | Creatinine 1.2–1.9 mg/dL **or** urine output < 500 mL/day | Creatinine 2.0–3.4 mg/dL                             | Creatinine 3.5–4.9 mg/dL **or** urine output < 500 mL/day                                       | Creatinine ≥ 5.0 mg/dL **or** urine output < 200 mL/day                                          |\n"
   ]
  },
  {
   "cell_type": "markdown",
   "id": "c53fa6b5",
   "metadata": {},
   "source": [
    "* Total SOFA = sum of all six component scores (0–24). \n",
    "* An acute increase of ≥ 2 points from baseline indicates organ dysfunction consistent with sepsis‑3."
   ]
  },
  {
   "cell_type": "code",
   "execution_count": null,
   "id": "4e3bf0af",
   "metadata": {},
   "outputs": [],
   "source": []
  }
 ],
 "metadata": {
  "kernelspec": {
   "display_name": "Python 3",
   "language": "python",
   "name": "python3"
  },
  "language_info": {
   "codemirror_mode": {
    "name": "ipython",
    "version": 3
   },
   "file_extension": ".py",
   "mimetype": "text/x-python",
   "name": "python",
   "nbconvert_exporter": "python",
   "pygments_lexer": "ipython3",
   "version": "3.13.5"
  }
 },
 "nbformat": 4,
 "nbformat_minor": 5
}
