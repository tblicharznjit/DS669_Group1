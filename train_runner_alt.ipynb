{
  "nbformat": 4,
  "nbformat_minor": 0,
  "metadata": {
    "colab": {
      "provenance": []
    },
    "kernelspec": {
      "name": "python3",
      "display_name": "Python 3"
    },
    "language_info": {
      "name": "python"
    }
  },
  "cells": [
    {
      "cell_type": "code",
      "execution_count": null,
      "metadata": {
        "id": "XMP4B4iF1Pm1"
      },
      "outputs": [],
      "source": [
        "import numpy as np\n",
        "import torch\n",
        "import pickle\n",
        "from ID3QNE_deepQnet import Dist_DQN\n",
        "\n",
        "device = 'cuda' if torch.cuda.is_available() else 'cpu'\n",
        "epochs = 1000\n",
        "\n",
        "with open('requiredFile.pkl', 'rb') as f:\n",
        "    D = pickle.load(f)\n",
        "\n",
        "X = D['X_train'].to_numpy()\n",
        "Xnext = D['Xnext_train'].to_numpy()\n",
        "Action = D['Action_train'].to_numpy()\n",
        "NextAction = D['NextAction_train']\n",
        "Done = D['Done_train']\n",
        "Bloc = D['Bloc_train']\n",
        "SOFAS = D['SOFAS_train']\n",
        "y = D['y_train'].to_numpy()\n",
        "\n",
        "print(\"nbins:\", D.get(\"nbins\"))\n",
        "print(\"Action stats:\", np.min(Action), np.max(Action), \"Unique:\", np.unique(Action))\n",
        "print(\"Reward stats:\", np.unique(y, return_counts=True))\n",
        "\n",
        "model = Dist_DQN(state_dim=X.shape[1], n_actions=len(np.unique(Action)))\n",
        "\n",
        "batchs = {\n",
        "    \"state\": X,\n",
        "    \"next_state\": Xnext,\n",
        "    \"action\": Action,\n",
        "    \"next_action\": NextAction,\n",
        "    \"reward\": y,\n",
        "    \"done\": Done,\n",
        "    \"bloc_num\": Bloc,\n",
        "    \"SOFAS\": SOFAS,\n",
        "}\n",
        "\n",
        "open(\"training_log.txt\", \"w\").close()\n",
        "for epoch in range(epochs):\n",
        "    # Prefer our method if present; otherwise, call teammate's .train(batchs, epoch)\n",
        "    if hasattr(model, \"train_model\"):\n",
        "        loss = model.train_model(batchs, epoch)\n",
        "    elif hasattr(model, \"train\"):\n",
        "        loss = model.train(batchs, epoch)  # use their signature\n",
        "    else:\n",
        "        raise RuntimeError(\"No valid training method found on model.\")\n",
        "    print(f\"Epoch {epoch + 1}/{epochs} | Loss: {loss:.4f}\")\n",
        "    with open(\"training_log.txt\", \"a\") as log:\n",
        "        log.write(f\"Epoch {epoch + 1} | Loss: {loss:.4f}\\n\")\n",
        "\n",
        "print(\"Training complete.\")\n"
      ]
    }
  ]
}